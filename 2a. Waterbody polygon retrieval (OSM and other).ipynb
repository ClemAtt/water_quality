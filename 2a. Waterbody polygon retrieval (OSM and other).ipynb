{
 "cells": [
  {
   "cell_type": "code",
   "execution_count": 1,
   "metadata": {},
   "outputs": [
    {
     "name": "stderr",
     "output_type": "stream",
     "text": [
      "C:\\Users\\User\\Anaconda3\\envs\\geo\\lib\\site-packages\\pyrosm\\utils\\_compat.py:8: UserWarning: The Shapely GEOS version (3.8.0-CAPI-1.13.1 ) is incompatible with the GEOS version PyGEOS was compiled with (3.8.1-CAPI-1.13.3). The tool will work but it runs a bit slower.\n",
      "  warnings.warn(\n"
     ]
    }
   ],
   "source": [
    "import geopandas_osm.osm\n",
    "import numpy as np\n",
    "import geopandas as gp\n",
    "import pandas as pd\n",
    "import fiona\n",
    "import os\n",
    "from shapely.geometry import Polygon\n",
    "from shapely.geometry import shape\n",
    "import shapely\n",
    "from matplotlib import pyplot\n",
    "import matplotlib.pyplot as plt\n",
    "from ipyleaflet import Map, GeoData, basemaps, LayersControl\n",
    "import geopandas\n",
    "import json\n",
    "import pyproj\n",
    "import rioxarray\n",
    "import xarray\n",
    "from ipypb import track\n",
    "import pickle\n",
    "import glob\n",
    "from pyrosm import OSM\n",
    "from pyrosm import get_path"
   ]
  },
  {
   "cell_type": "code",
   "execution_count": 2,
   "metadata": {},
   "outputs": [],
   "source": [
    "c1_path = './Landsat/Cropped/Level 1/'\n",
    "s_path = './Landsat/Scenes/'\n",
    "m_path = './Landsat/Metadata/'\n",
    "site_path = './In situ data/'\n",
    "home = \"E:/University College London/O'Sullivan, Aidan - SDG6/\"\n",
    "\n",
    "os.chdir(home)"
   ]
  },
  {
   "cell_type": "markdown",
   "metadata": {},
   "source": [
    "### Check memory"
   ]
  },
  {
   "cell_type": "code",
   "execution_count": 3,
   "metadata": {},
   "outputs": [
    {
     "data": {
      "text/plain": [
       "[('GeoData', 1064),\n",
       " ('LayersControl', 1064),\n",
       " ('Map', 1064),\n",
       " ('OSM', 1064),\n",
       " ('Polygon', 1064),\n",
       " ('track', 1064),\n",
       " ('basemaps', 376),\n",
       " ('home', 213),\n",
       " ('get_path', 136),\n",
       " ('shape', 136),\n",
       " ('c1_path', 75),\n",
       " ('gp', 72),\n",
       " ('np', 72),\n",
       " ('pd', 72),\n",
       " ('plt', 72),\n",
       " ('pyplot', 72),\n",
       " ('m_path', 68),\n",
       " ('s_path', 66),\n",
       " ('site_path', 64)]"
      ]
     },
     "execution_count": 3,
     "metadata": {},
     "output_type": "execute_result"
    }
   ],
   "source": [
    "import sys\n",
    "\n",
    "# These are the usual ipython objects, including this one you are creating\n",
    "ipython_vars = ['In', 'Out', 'exit', 'quit', 'get_ipython', 'ipython_vars']\n",
    "\n",
    "# Get a sorted list of the objects and their sizes\n",
    "sorted([(x, sys.getsizeof(globals().get(x))) for x in dir() if not x.startswith('_') and x not in sys.modules and x not in ipython_vars], key=lambda x: x[1], reverse=True)"
   ]
  },
  {
   "cell_type": "markdown",
   "metadata": {},
   "source": [
    "### Matching polygons to site id on codes"
   ]
  },
  {
   "cell_type": "code",
   "execution_count": 3,
   "metadata": {},
   "outputs": [],
   "source": [
    "sites2 = pd.read_pickle(home+\"sites2.p\")"
   ]
  },
  {
   "cell_type": "code",
   "execution_count": 68,
   "metadata": {},
   "outputs": [],
   "source": [
    "wb = gp.read_file('SurfaceWaterBody.shp')"
   ]
  },
  {
   "cell_type": "code",
   "execution_count": 5,
   "metadata": {},
   "outputs": [],
   "source": [
    "## Add water body ID to sites list\n",
    "\n",
    "wqdb = pd.read_csv(home+'In situ data/EEA_water_base/Waterbase_v2018_1_WISE4_MonitoringSite_DerivedData.csv',parse_dates=True)\n",
    "\n",
    "sites = (sites\n",
    "         .reset_index()\n",
    "         .merge(wqdb[['monitoringSiteIdentifier','waterBodyIdentifier']],how='left',left_on='sid',right_on='monitoringSiteIdentifier')\n",
    "         .rename(columns={'waterBodyIdentifier':'wbid'})\n",
    "         .set_index(['sid','dt']))"
   ]
  },
  {
   "cell_type": "code",
   "execution_count": 6,
   "metadata": {},
   "outputs": [
    {
     "data": {
      "text/plain": [
       "(5768, 17318, 23704)"
      ]
     },
     "execution_count": 6,
     "metadata": {},
     "output_type": "execute_result"
    }
   ],
   "source": [
    "### Checking membership of site ids\n",
    "\n",
    "wbl = list(wb.localId)\n",
    "wbl2 = list(wb.thematicId)\n",
    "sl = list(sites.reset_index().wbid)\n",
    "\n",
    "ml = [ i for i in sl if i in wbl ]\n",
    "ml2 = [ i for i in sl if i in wbl2 ]\n",
    "ml3 = [ i for i in wbl if i in wbl2 ]\n",
    "\n",
    "len(ml),len(ml2),len(ml3)"
   ]
  },
  {
   "cell_type": "code",
   "execution_count": 7,
   "metadata": {},
   "outputs": [
    {
     "data": {
      "text/html": [
       "<div>\n",
       "<style scoped>\n",
       "    .dataframe tbody tr th:only-of-type {\n",
       "        vertical-align: middle;\n",
       "    }\n",
       "\n",
       "    .dataframe tbody tr th {\n",
       "        vertical-align: top;\n",
       "    }\n",
       "\n",
       "    .dataframe thead th {\n",
       "        text-align: right;\n",
       "    }\n",
       "</style>\n",
       "<table border=\"1\" class=\"dataframe\">\n",
       "  <thead>\n",
       "    <tr style=\"text-align: right;\">\n",
       "      <th></th>\n",
       "      <th>localId</th>\n",
       "      <th>versionId</th>\n",
       "      <th>thematicId</th>\n",
       "      <th>themaIdSch</th>\n",
       "      <th>predecesId</th>\n",
       "      <th>predeIdSch</th>\n",
       "      <th>successoId</th>\n",
       "      <th>succeIdSch</th>\n",
       "      <th>rZoneId</th>\n",
       "      <th>rZoneIdSch</th>\n",
       "      <th>rTrnsId</th>\n",
       "      <th>rTrnsIdSch</th>\n",
       "    </tr>\n",
       "  </thead>\n",
       "  <tbody>\n",
       "    <tr>\n",
       "      <th>0</th>\n",
       "      <td>OK10500000</td>\n",
       "      <td>wfd2016</td>\n",
       "      <td>ATOK10500000</td>\n",
       "      <td>euSurfaceWaterBodyCode</td>\n",
       "      <td>None</td>\n",
       "      <td>None</td>\n",
       "      <td>None</td>\n",
       "      <td>None</td>\n",
       "      <td>AT1001</td>\n",
       "      <td>euSubUnitCode</td>\n",
       "      <td>None</td>\n",
       "      <td>None</td>\n",
       "    </tr>\n",
       "    <tr>\n",
       "      <th>1</th>\n",
       "      <td>OK10500100</td>\n",
       "      <td>wfd2016</td>\n",
       "      <td>ATOK10500100</td>\n",
       "      <td>euSurfaceWaterBodyCode</td>\n",
       "      <td>None</td>\n",
       "      <td>None</td>\n",
       "      <td>None</td>\n",
       "      <td>None</td>\n",
       "      <td>AT1001</td>\n",
       "      <td>euSubUnitCode</td>\n",
       "      <td>None</td>\n",
       "      <td>None</td>\n",
       "    </tr>\n",
       "  </tbody>\n",
       "</table>\n",
       "</div>"
      ],
      "text/plain": [
       "      localId versionId    thematicId              themaIdSch predecesId  \\\n",
       "0  OK10500000   wfd2016  ATOK10500000  euSurfaceWaterBodyCode       None   \n",
       "1  OK10500100   wfd2016  ATOK10500100  euSurfaceWaterBodyCode       None   \n",
       "\n",
       "  predeIdSch successoId succeIdSch rZoneId     rZoneIdSch rTrnsId rTrnsIdSch  \n",
       "0       None       None       None  AT1001  euSubUnitCode    None       None  \n",
       "1       None       None       None  AT1001  euSubUnitCode    None       None  "
      ]
     },
     "execution_count": 7,
     "metadata": {},
     "output_type": "execute_result"
    }
   ],
   "source": [
    "wb.loc[:,wb.columns.str.contains('Id')].head(2)"
   ]
  },
  {
   "cell_type": "code",
   "execution_count": 8,
   "metadata": {},
   "outputs": [],
   "source": [
    "wb = wb.to_crs(sites.crs)"
   ]
  },
  {
   "cell_type": "code",
   "execution_count": 9,
   "metadata": {},
   "outputs": [],
   "source": [
    "sites2 = (sites\n",
    "            .reset_index()\n",
    "            .merge(wb[['thematicId','geometry']],how='left',left_on='wbid',right_on='thematicId')\n",
    "            .rename(columns = {'geometry_x':'geometry_ll','geometry_y':'geometry_poly'})\n",
    "            .set_index(['sid','dt'])\n",
    "            .set_geometry('geometry_poly'))\n",
    "\n",
    "sites2.crs = sites.crs"
   ]
  },
  {
   "cell_type": "code",
   "execution_count": 4,
   "metadata": {},
   "outputs": [
    {
     "data": {
      "text/plain": [
       "['SE', 'UK', 'LT', 'FR']"
      ]
     },
     "execution_count": 4,
     "metadata": {},
     "output_type": "execute_result"
    }
   ],
   "source": [
    "## Countries without matches\n",
    "notmatch = [ i[0:2] for i in list(sites2[sites2.geometry_poly.isna()].reset_index().sid) ]\n",
    "\n",
    "list(set(notmatch))"
   ]
  },
  {
   "cell_type": "code",
   "execution_count": 73,
   "metadata": {},
   "outputs": [],
   "source": [
    "del(wb)"
   ]
  },
  {
   "cell_type": "markdown",
   "metadata": {},
   "source": [
    "#### Adding in new data"
   ]
  },
  {
   "cell_type": "code",
   "execution_count": 156,
   "metadata": {},
   "outputs": [
    {
     "data": {
      "text/html": [
       "<div>\n",
       "<style scoped>\n",
       "    .dataframe tbody tr th:only-of-type {\n",
       "        vertical-align: middle;\n",
       "    }\n",
       "\n",
       "    .dataframe tbody tr th {\n",
       "        vertical-align: top;\n",
       "    }\n",
       "\n",
       "    .dataframe thead th {\n",
       "        text-align: right;\n",
       "    }\n",
       "</style>\n",
       "<table border=\"1\" class=\"dataframe\">\n",
       "  <thead>\n",
       "    <tr style=\"text-align: right;\">\n",
       "      <th></th>\n",
       "      <th>sid</th>\n",
       "      <th>geometry</th>\n",
       "    </tr>\n",
       "  </thead>\n",
       "  <tbody>\n",
       "    <tr>\n",
       "      <th>0</th>\n",
       "      <td>ATSE20101000</td>\n",
       "      <td>POLYGON ((14.13527 46.63643, 14.13592 46.63628...</td>\n",
       "    </tr>\n",
       "    <tr>\n",
       "      <th>1</th>\n",
       "      <td>ATSE20201000</td>\n",
       "      <td>POLYGON ((13.53752 46.81525, 13.53851 46.81497...</td>\n",
       "    </tr>\n",
       "  </tbody>\n",
       "</table>\n",
       "</div>"
      ],
      "text/plain": [
       "            sid                                           geometry\n",
       "0  ATSE20101000  POLYGON ((14.13527 46.63643, 14.13592 46.63628...\n",
       "1  ATSE20201000  POLYGON ((13.53752 46.81525, 13.53851 46.81497..."
      ]
     },
     "execution_count": 156,
     "metadata": {},
     "output_type": "execute_result"
    }
   ],
   "source": [
    "sites_poly = gp.read_file(site_path+'eea_site_wpoly.shp')\n",
    "sites = pd.read_pickle(\"E:/OneDrive - University College London/O'Sullivan, Aidan - SDG6/sites.p\")\n",
    "sites_poly.head(2)"
   ]
  },
  {
   "cell_type": "code",
   "execution_count": 158,
   "metadata": {},
   "outputs": [
    {
     "name": "stdout",
     "output_type": "stream",
     "text": [
      "<class 'geopandas.geodataframe.GeoDataFrame'>\n"
     ]
    },
    {
     "data": {
      "text/html": [
       "<div>\n",
       "<style scoped>\n",
       "    .dataframe tbody tr th:only-of-type {\n",
       "        vertical-align: middle;\n",
       "    }\n",
       "\n",
       "    .dataframe tbody tr th {\n",
       "        vertical-align: top;\n",
       "    }\n",
       "\n",
       "    .dataframe thead th {\n",
       "        text-align: right;\n",
       "    }\n",
       "</style>\n",
       "<table border=\"1\" class=\"dataframe\">\n",
       "  <thead>\n",
       "    <tr style=\"text-align: right;\">\n",
       "      <th></th>\n",
       "      <th></th>\n",
       "      <th>source</th>\n",
       "      <th>wb_cat</th>\n",
       "      <th>determinand_id</th>\n",
       "      <th>value</th>\n",
       "      <th>lon</th>\n",
       "      <th>lat</th>\n",
       "      <th>geometry_ll</th>\n",
       "      <th>checked</th>\n",
       "      <th>scene_id</th>\n",
       "      <th>aquisition_dt</th>\n",
       "      <th>scene_dt</th>\n",
       "      <th>obs_time</th>\n",
       "      <th>display_id</th>\n",
       "      <th>tdelta</th>\n",
       "      <th>geometry_poly</th>\n",
       "    </tr>\n",
       "    <tr>\n",
       "      <th>sid</th>\n",
       "      <th>dt</th>\n",
       "      <th></th>\n",
       "      <th></th>\n",
       "      <th></th>\n",
       "      <th></th>\n",
       "      <th></th>\n",
       "      <th></th>\n",
       "      <th></th>\n",
       "      <th></th>\n",
       "      <th></th>\n",
       "      <th></th>\n",
       "      <th></th>\n",
       "      <th></th>\n",
       "      <th></th>\n",
       "      <th></th>\n",
       "      <th></th>\n",
       "    </tr>\n",
       "  </thead>\n",
       "  <tbody>\n",
       "    <tr>\n",
       "      <th rowspan=\"5\" valign=\"top\">1119USBR-AFE009</th>\n",
       "      <th>2000-06-25</th>\n",
       "      <td>1119USBR</td>\n",
       "      <td>Lake</td>\n",
       "      <td>NaN</td>\n",
       "      <td>5.8</td>\n",
       "      <td>-112.875</td>\n",
       "      <td>42.781389</td>\n",
       "      <td>POINT (-112.87500 42.78139)</td>\n",
       "      <td>True</td>\n",
       "      <td>NaN</td>\n",
       "      <td>NaN</td>\n",
       "      <td>2000-06-28</td>\n",
       "      <td>2000-06-25 23:00:00</td>\n",
       "      <td>LT05_L1TP_039030_20000628_20160918_01_T1</td>\n",
       "      <td>3.0</td>\n",
       "      <td>None</td>\n",
       "    </tr>\n",
       "    <tr>\n",
       "      <th>2003-07-14</th>\n",
       "      <td>1119USBR</td>\n",
       "      <td>Lake</td>\n",
       "      <td>NaN</td>\n",
       "      <td>6.1</td>\n",
       "      <td>-112.875</td>\n",
       "      <td>42.781389</td>\n",
       "      <td>POINT (-112.87500 42.78139)</td>\n",
       "      <td>True</td>\n",
       "      <td>NaN</td>\n",
       "      <td>NaN</td>\n",
       "      <td>2003-07-14</td>\n",
       "      <td>2003-07-14 23:00:00</td>\n",
       "      <td>LT05_L1TP_040030_20030714_20160915_01_T1</td>\n",
       "      <td>0.0</td>\n",
       "      <td>None</td>\n",
       "    </tr>\n",
       "    <tr>\n",
       "      <th>2004-06-20</th>\n",
       "      <td>1119USBR</td>\n",
       "      <td>Lake</td>\n",
       "      <td>NaN</td>\n",
       "      <td>2.7</td>\n",
       "      <td>-112.875</td>\n",
       "      <td>42.781389</td>\n",
       "      <td>POINT (-112.87500 42.78139)</td>\n",
       "      <td>True</td>\n",
       "      <td>NaN</td>\n",
       "      <td>NaN</td>\n",
       "      <td>2004-06-23</td>\n",
       "      <td>2004-06-20 23:00:00</td>\n",
       "      <td>LT05_L1TP_039030_20040623_20160915_01_T1</td>\n",
       "      <td>3.0</td>\n",
       "      <td>None</td>\n",
       "    </tr>\n",
       "    <tr>\n",
       "      <th>2006-07-30</th>\n",
       "      <td>1119USBR</td>\n",
       "      <td>Lake</td>\n",
       "      <td>NaN</td>\n",
       "      <td>6.8</td>\n",
       "      <td>-112.875</td>\n",
       "      <td>42.781389</td>\n",
       "      <td>POINT (-112.87500 42.78139)</td>\n",
       "      <td>True</td>\n",
       "      <td>NaN</td>\n",
       "      <td>NaN</td>\n",
       "      <td>2006-07-30</td>\n",
       "      <td>2006-07-30 23:00:00</td>\n",
       "      <td>LE07_L1TP_040030_20060730_20160923_01_T1</td>\n",
       "      <td>0.0</td>\n",
       "      <td>None</td>\n",
       "    </tr>\n",
       "    <tr>\n",
       "      <th>2007-06-28</th>\n",
       "      <td>1119USBR</td>\n",
       "      <td>Lake</td>\n",
       "      <td>NaN</td>\n",
       "      <td>8.0</td>\n",
       "      <td>-112.875</td>\n",
       "      <td>42.781389</td>\n",
       "      <td>POINT (-112.87500 42.78139)</td>\n",
       "      <td>True</td>\n",
       "      <td>NaN</td>\n",
       "      <td>NaN</td>\n",
       "      <td>2007-07-01</td>\n",
       "      <td>2007-06-28 23:00:00</td>\n",
       "      <td>LE07_L1TP_040030_20070701_20160922_01_T1</td>\n",
       "      <td>3.0</td>\n",
       "      <td>None</td>\n",
       "    </tr>\n",
       "  </tbody>\n",
       "</table>\n",
       "</div>"
      ],
      "text/plain": [
       "                              source wb_cat determinand_id  value      lon  \\\n",
       "sid             dt                                                           \n",
       "1119USBR-AFE009 2000-06-25  1119USBR   Lake            NaN    5.8 -112.875   \n",
       "                2003-07-14  1119USBR   Lake            NaN    6.1 -112.875   \n",
       "                2004-06-20  1119USBR   Lake            NaN    2.7 -112.875   \n",
       "                2006-07-30  1119USBR   Lake            NaN    6.8 -112.875   \n",
       "                2007-06-28  1119USBR   Lake            NaN    8.0 -112.875   \n",
       "\n",
       "                                  lat                  geometry_ll checked  \\\n",
       "sid             dt                                                           \n",
       "1119USBR-AFE009 2000-06-25  42.781389  POINT (-112.87500 42.78139)    True   \n",
       "                2003-07-14  42.781389  POINT (-112.87500 42.78139)    True   \n",
       "                2004-06-20  42.781389  POINT (-112.87500 42.78139)    True   \n",
       "                2006-07-30  42.781389  POINT (-112.87500 42.78139)    True   \n",
       "                2007-06-28  42.781389  POINT (-112.87500 42.78139)    True   \n",
       "\n",
       "                           scene_id aquisition_dt    scene_dt  \\\n",
       "sid             dt                                              \n",
       "1119USBR-AFE009 2000-06-25      NaN           NaN  2000-06-28   \n",
       "                2003-07-14      NaN           NaN  2003-07-14   \n",
       "                2004-06-20      NaN           NaN  2004-06-23   \n",
       "                2006-07-30      NaN           NaN  2006-07-30   \n",
       "                2007-06-28      NaN           NaN  2007-07-01   \n",
       "\n",
       "                                      obs_time  \\\n",
       "sid             dt                               \n",
       "1119USBR-AFE009 2000-06-25 2000-06-25 23:00:00   \n",
       "                2003-07-14 2003-07-14 23:00:00   \n",
       "                2004-06-20 2004-06-20 23:00:00   \n",
       "                2006-07-30 2006-07-30 23:00:00   \n",
       "                2007-06-28 2007-06-28 23:00:00   \n",
       "\n",
       "                                                          display_id  tdelta  \\\n",
       "sid             dt                                                             \n",
       "1119USBR-AFE009 2000-06-25  LT05_L1TP_039030_20000628_20160918_01_T1     3.0   \n",
       "                2003-07-14  LT05_L1TP_040030_20030714_20160915_01_T1     0.0   \n",
       "                2004-06-20  LT05_L1TP_039030_20040623_20160915_01_T1     3.0   \n",
       "                2006-07-30  LE07_L1TP_040030_20060730_20160923_01_T1     0.0   \n",
       "                2007-06-28  LE07_L1TP_040030_20070701_20160922_01_T1     3.0   \n",
       "\n",
       "                           geometry_poly  \n",
       "sid             dt                        \n",
       "1119USBR-AFE009 2000-06-25          None  \n",
       "                2003-07-14          None  \n",
       "                2004-06-20          None  \n",
       "                2006-07-30          None  \n",
       "                2007-06-28          None  "
      ]
     },
     "execution_count": 158,
     "metadata": {},
     "output_type": "execute_result"
    }
   ],
   "source": [
    "sites3 = (sites\n",
    "          .reset_index()\n",
    "          .merge(sites_poly,how='left',on='sid')\n",
    "          .rename(columns = {'geometry_x':'geometry_ll','geometry_y':'geometry_poly'})\n",
    "          .set_index(['sid','dt']))\n",
    "\n",
    "\n",
    "sites3 = gp.GeoDataFrame(sites3,geometry='geometry_ll', crs = sites_poly.crs)\n",
    "\n",
    "print(type(sites3))\n",
    "\n",
    "sites3.head()"
   ]
  },
  {
   "cell_type": "markdown",
   "metadata": {},
   "source": [
    "### Matching polygons from individual countries"
   ]
  },
  {
   "cell_type": "code",
   "execution_count": 3,
   "metadata": {},
   "outputs": [],
   "source": [
    "sites3 = pd.read_pickle(home+\"sites3.p\")"
   ]
  },
  {
   "cell_type": "code",
   "execution_count": null,
   "metadata": {},
   "outputs": [],
   "source": [
    "### subset sites for specific country\n",
    "\n",
    "# uksites = sites2[[ 'UK' in i for i in sites.index.get_level_values(0)]]\n",
    "# uksites = uksites[uksites.geometry_poly.isna()]\n",
    "# uksites = uksites.set_geometry('geometry_ll')"
   ]
  },
  {
   "cell_type": "code",
   "execution_count": 47,
   "metadata": {},
   "outputs": [],
   "source": [
    "## Read in polygons for country\n",
    "\n",
    "# swb = gp.read_file('./UK/SEPA_LOCH_WATERBODY_CLASSIFICATIONS_BNG.shp')\n",
    "# swb = swb.to_crs(sites3.crs)\n",
    "# swb = swb[['NAME','geometry','WATER_ID']].drop_duplicates()\n",
    "\n",
    "# niwb = gp.read_file('./UK/ni_lakes.shp')\n",
    "# niwb = niwb.to_crs(sites3.crs)\n",
    "\n",
    "# niwb2 = gp.read_file('./UK/ni_lakes2.shp')\n",
    "# niwb2 = niwb2.to_crs(sites3.crs)\n",
    "\n",
    "\n",
    "# wwb = gp.read_file('./Waterbody shapefiles/UK/GBLakesInventoryEnglandWalesPolygon.shp')\n",
    "# wwb = wwb.to_crs(sites3.crs)\n",
    "#wwb = wwb[['WBID','geometry','OBJECTID']].drop_duplicates()\n",
    "\n",
    "#lwb = gp.read_file('./Lithuania/lithuania_lakes.shp')\n",
    "#lwb = lwb.to_crs(sites3.crs)\n",
    "#lwb = lwb.drop_duplicates()\n",
    "\n",
    "# sewb = gp.read_file('./Sweden/sweden_wb.shp')\n",
    "# sewb = sewb.to_crs(sites3.crs)\n",
    "\n",
    "#uswb = gp.read_file('./Waterbody shapefiles/US/rad_impw02_20140207_shp/rad_impw02_20140207/rad_impw02_a.shp')\n",
    "# uswb = gp.read_file('./Waterbody shapefiles/US/USA_Water_Bodies.shp')\n",
    "uswb = gp.read_file('./Waterbody shapefiles/US/USA_Detailed_Water_Bodies.shp')\n",
    "uswb = uswb.to_crs(sites3.crs)\n",
    "\n",
    "# jwb = gp.read_file('./Waterbody shapefiles/Japan/JPN_water_areas_dcw.shp')\n",
    "# jwb = jwb.to_crs(sites3.crs)\n"
   ]
  },
  {
   "cell_type": "code",
   "execution_count": 49,
   "metadata": {},
   "outputs": [],
   "source": [
    "### French lakes\n",
    "\n",
    "# all_files = glob.glob('./France/export*')\n",
    "\n",
    "# li = []\n",
    "\n",
    "# for filename in all_files:\n",
    "#     gdf = gp.read_file(filename)\n",
    "#     li.append(gdf)\n",
    "\n",
    "# frwb = pd.concat(li, axis=0, ignore_index=True)\n",
    "\n",
    "# ## Keep only relevant geometries\n",
    "\n",
    "# frwb = frwb[['id','name:fr','geometry']]\n",
    "# frwb = frwb[frwb.geometry.type!='LineString']\n",
    "# frwb = frwb[frwb.geometry.type!='Point']\n",
    "# frwb.geometry.type.unique()\n",
    "\n",
    "### Missing lakes\n",
    "frwb2 = gp.read_file('./France/missing.geojson')\n",
    "frwb2 = frwb2.to_crs(sites3.crs)\n"
   ]
  },
  {
   "cell_type": "code",
   "execution_count": 22,
   "metadata": {},
   "outputs": [],
   "source": [
    "### Japanese lakes from OSM\n",
    "\n",
    "all_files = glob.glob('.\\Waterbody shapefiles\\Japan\\export*')\n",
    "\n",
    "li = []\n",
    "\n",
    "for filename in all_files:\n",
    "    gdf = gp.read_file(filename)\n",
    "    li.append(gdf)\n",
    "\n",
    "jwb = pd.concat(li, axis=0, ignore_index=True)\n",
    "\n",
    "## Keep only relevant geometries\n",
    "\n",
    "jwb = jwb[['id','name:en','geometry']]\n",
    "jwb = jwb[jwb.geometry.type!='LineString']\n",
    "jwb = jwb[jwb.geometry.type!='Point']\n",
    "jwb.geometry.type.unique()\n",
    "\n",
    "jwb2 = jwb.drop_duplicates()"
   ]
  },
  {
   "cell_type": "markdown",
   "metadata": {},
   "source": [
    "### Check for single intersection between buffered point and polygon"
   ]
  },
  {
   "cell_type": "code",
   "execution_count": 174,
   "metadata": {},
   "outputs": [
    {
     "data": {
      "text/html": [
       "<div><span class=\"Text-label\" style=\"display:inline-block; overflow:hidden; white-space:nowrap; text-overflow:ellipsis; min-width:0; max-width:15ex; vertical-align:middle; text-align:right\"></span>\n",
       "<progress style=\"width:60ex\" max=\"2\" value=\"2\" class=\"Progress-main\"/></progress>\n",
       "<span class=\"Progress-label\"><strong>100%</strong></span>\n",
       "<span class=\"Iteration-label\">2/2</span>\n",
       "<span class=\"Time-label\">[00:08<00:04, 4.17s/it]</span></div>"
      ],
      "text/plain": [
       "\u001b[A\u001b[2K\r",
       " [████████████████████████████████████████████████████████████] 2/2 [00:08<00:04, 4.17s/it]"
      ]
     },
     "metadata": {},
     "output_type": "display_data"
    },
    {
     "name": "stdout",
     "output_type": "stream",
     "text": [
      "0\n",
      "1\n"
     ]
    }
   ],
   "source": [
    "lon = -87.054512\n",
    "lat = 42.559865\n",
    "\n",
    "ew_bb = (sites3.lon>lon-0.5)&(sites3.lon<lon+0.5)\n",
    "ns_bb = (sites3.lat>lat-0.5)&(sites3.lat<lat+0.5)\n",
    "\n",
    "\n",
    "trysites = sites3[ew_bb&ns_bb].set_geometry('geometry_ll').reset_index()[['sid','geometry_ll']].drop_duplicates()\n",
    "\n",
    "for i in track(range(2)):\n",
    "    intersects = trywb.geometry.map(lambda x: x.intersects(trysites.iloc[i,:].geometry_ll))\n",
    "    print(len(intersects[intersects==True]))"
   ]
  },
  {
   "cell_type": "markdown",
   "metadata": {},
   "source": [
    "### Check for intersection and copy geometry"
   ]
  },
  {
   "cell_type": "markdown",
   "metadata": {},
   "source": [
    "#### Plot data"
   ]
  },
  {
   "cell_type": "code",
   "execution_count": 58,
   "metadata": {},
   "outputs": [
    {
     "data": {
      "text/plain": [
       "(34.041111, 44.587778)"
      ]
     },
     "execution_count": 58,
     "metadata": {},
     "output_type": "execute_result"
    },
    {
     "data": {
      "image/png": "[encoded data removed]",
      "text/plain": [
       "<Figure size 750x450 with 1 Axes>"
      ]
     },
     "metadata": {
      "needs_background": "light"
     },
     "output_type": "display_data"
    }
   ],
   "source": [
    "### checking missing geomerty locations\n",
    "\n",
    "# lon = -87.054512\n",
    "# lat = 42.559865\n",
    "\n",
    "# ew_bb = (sites3.lon>lon-0.5)&(sites3.lon<lon+0.5)\n",
    "# ns_bb = (sites3.lat>lat-0.5)&(sites3.lat<lat+0.5)\n",
    "\n",
    "\n",
    "trysites = sites3[sites3.source=='GEMSTAT'].set_geometry('geometry_ll').reset_index()\n",
    "\n",
    "## country outlines\n",
    "# ct = gp.read_file('.//Country boundaries//CNTR_RG_60M_2016_4326.shp')\n",
    "# ct = ct.to_crs(sites2.crs)\n",
    "\n",
    "minx, miny, maxx, maxy = trysites.geometry.total_bounds\n",
    "\n",
    "fig, ax = plt.subplots(dpi=150, figsize =(5, 3))\n",
    "\n",
    "jwb.plot(ax=ax)\n",
    "trysites[trysites.geometry_poly.isna()].plot(color='r',ax=ax,alpha=0.2)\n",
    "\n",
    "\n",
    "ax.set_xlim(minx - 1, maxx + 1) \n",
    "ax.set_ylim(miny - 1, maxy + 1)"
   ]
  },
  {
   "cell_type": "markdown",
   "metadata": {},
   "source": [
    "#### Check intersection across all relevant sites"
   ]
  },
  {
   "cell_type": "code",
   "execution_count": 86,
   "metadata": {},
   "outputs": [
    {
     "name": "stdout",
     "output_type": "stream",
     "text": [
      "34186\n"
     ]
    },
    {
     "data": {
      "text/html": [
       "<div><span class=\"Text-label\" style=\"display:inline-block; overflow:hidden; white-space:nowrap; text-overflow:ellipsis; min-width:0; max-width:15ex; vertical-align:middle; text-align:right\"></span>\n",
       "<progress style=\"width:60ex\" max=\"1680\" value=\"1680\" class=\"Progress-main\"/></progress>\n",
       "<span class=\"Progress-label\"><strong>100%</strong></span>\n",
       "<span class=\"Iteration-label\">1680/1680</span>\n",
       "<span class=\"Time-label\">[08:60<00:00, 0.32s/it]</span></div>"
      ],
      "text/plain": [
       "\u001b[A\u001b[2K\r",
       " [████████████████████████████████████████████████████████████] 1680/1680 [08:60<00:00, 0.32s/it]"
      ]
     },
     "metadata": {},
     "output_type": "display_data"
    },
    {
     "name": "stdout",
     "output_type": "stream",
     "text": [
      "34186\n"
     ]
    }
   ],
   "source": [
    "### check number of sites without match\n",
    "print(len(sites3[sites3.geometry_poly.isna()]))\n",
    "\n",
    "### take copy of sites file and reset index\n",
    "trysites = sites3[sites3.lon<-30].set_geometry('geometry_ll').reset_index() \n",
    "\n",
    "### set input polygon shapefile\n",
    "trywb = uswb\n",
    "trywb = trywb.to_crs(sites3.crs)\n",
    "\n",
    "## create centroid coords to filter on\n",
    "trywb['lon'] = trywb.geometry.centroid.x\n",
    "trywb['lat'] = trywb.geometry.centroid.y\n",
    "\n",
    "## set buffer distance - degrees to metres\n",
    "buf_dis = 200/111139\n",
    "\n",
    "## list for exceptions when copying geometry\n",
    "geom_copy_excep = ['IDs not copied']\n",
    "\n",
    "#sites3 = sites3.reset_index()\n",
    "\n",
    "## loop through each site id and check intersection of lon lat against polygon in trysites\n",
    "\n",
    "for sid in track(trysites[trysites.geometry_poly.isna()].sid.unique()):\n",
    "    \n",
    "    sp = trysites[trysites.sid==sid].buffer(buf_dis).geometry\n",
    "    \n",
    "    ## filter trywb on +-0.5 degree box\n",
    "    lon = trysites[trysites.sid==sid].lon.unique()[0]\n",
    "    lat = trysites[trysites.sid==sid].lat.unique()[0]\n",
    "    \n",
    "    ew_bb = (trywb.lon>lon-0.5)&(trywb.lon<lon+0.5)\n",
    "    ns_bb = (trywb.lat>lat-0.5)&(trywb.lat<lat+0.5)\n",
    "    \n",
    "    testwb = trywb[ew_bb&ns_bb]\n",
    "    \n",
    "    intersects = testwb.geometry.map(lambda x: x.intersects(sp.geometry.any()))\n",
    "    \n",
    "    if len(intersects)>0 and sum(intersects[intersects==True])>0:\n",
    "        \n",
    "        try:\n",
    "            sites3.loc[sites3.sid==sid,'geometry_poly'] = testwb[intersects].geometry.values[0]\n",
    "\n",
    "        except:\n",
    "            geom_copy_excep += sid\n",
    "            print(f'geometry copy exception {sid}, geometry count: {len(testwb[intersects].geometry.values)}')\n",
    "            \n",
    "\n",
    "### check number of sites without match\n",
    "print(len(sites3[sites3.geometry_poly.isna()]))"
   ]
  },
  {
   "cell_type": "code",
   "execution_count": 89,
   "metadata": {},
   "outputs": [],
   "source": [
    "pickle.dump(sites3,open('sites3.p','wb'))"
   ]
  },
  {
   "cell_type": "markdown",
   "metadata": {},
   "source": [
    "### Create site polygon file"
   ]
  },
  {
   "cell_type": "code",
   "execution_count": 24,
   "metadata": {},
   "outputs": [],
   "source": [
    "sites_poly = sites3[['sid','lon','lat','geometry_poly']].drop_duplicates().set_geometry('geometry_poly')"
   ]
  },
  {
   "cell_type": "code",
   "execution_count": 25,
   "metadata": {},
   "outputs": [],
   "source": [
    "sites_poly.to_file('sites_poly.shp')\n",
    "#pickle.dump(sites_poly,open('sites_poly.p','wb'))"
   ]
  },
  {
   "cell_type": "markdown",
   "metadata": {},
   "source": [
    "### Manual checking with interactive plot"
   ]
  },
  {
   "cell_type": "code",
   "execution_count": 31,
   "metadata": {},
   "outputs": [],
   "source": [
    "buf_dis = 100/111139\n",
    "bufsites = trysites[(trysites.lon>20.371883)&(trysites.geometry_poly.isna())].buffer(buf_dis)\n",
    "sitesbuf = gp.GeoDataFrame(geometry=bufsites.geometry,crs=sites2.crs)\n",
    "\n",
    "site = gp.GeoDataFrame(geometry=sites2[sites2.index.get_level_values(0)=='LTL148'].geometry,crs=sites2.crs)"
   ]
  },
  {
   "cell_type": "code",
   "execution_count": 102,
   "metadata": {},
   "outputs": [],
   "source": [
    "site = trysites.loc[trysites.source=='GEMSTAT',['sid','geometry_ll']].set_geometry('geometry_ll')"
   ]
  },
  {
   "cell_type": "code",
   "execution_count": 103,
   "metadata": {},
   "outputs": [
    {
     "data": {
      "application/vnd.jupyter.widget-view+json": {
       "model_id": "eae462f4aabf4b72aac91c2b7840d9dc",
       "version_major": 2,
       "version_minor": 0
      },
      "text/plain": [
       "Map(center=[35, 139], controls=(ZoomControl(options=['position', 'zoom_in_text', 'zoom_in_title', 'zoom_out_te…"
      ]
     },
     "metadata": {},
     "output_type": "display_data"
    }
   ],
   "source": [
    "m = Map(center=(35, 139), zoom = 9, basemap= basemaps.Esri.WorldTopoMap)\n",
    "\n",
    "\n",
    "ukwb_tp = GeoData(geo_dataframe = jwb,\n",
    "                   style={'color': 'black', 'fillColor': '#1e7a65', 'opacity':0.5, 'weight':1.9, 'dashArray':'2', 'fillOpacity':0.6},\n",
    "                   hover_style={'fillColor': 'red' , 'fillOpacity': 0.2},\n",
    "                   name = 'EA wb')\n",
    "\n",
    "# sites_buff = GeoData(geo_dataframe = sitesbuf,\n",
    "#                    style={'color': 'black', 'fillColor': '#3366cc', 'opacity':0.5, 'weight':1.9, 'dashArray':'2', 'fillOpacity':0.6},\n",
    "#                    hover_style={'fillColor': 'red' , 'fillOpacity': 0.2},\n",
    "#                    name = 'Sites')\n",
    "\n",
    "sites = GeoData(geo_dataframe = site,\n",
    "                   style={'color': 'black', 'fillColor': '#3366cc', 'opacity':0.5, 'weight':1.9, 'dashArray':'2', 'fillOpacity':0.6},\n",
    "                   hover_style={'fillColor': 'red' , 'fillOpacity': 0.2},\n",
    "                   name = 'EEA Lakes')\n",
    "\n",
    "m.add_layer(ukwb_tp)\n",
    "#m.add_layer(sites_buff)\n",
    "m.add_layer(sites)\n",
    "m.add_control(LayersControl())\n",
    "\n",
    "m"
   ]
  },
  {
   "cell_type": "markdown",
   "metadata": {},
   "source": [
    "<br>\n",
    "\n",
    "***\n",
    "\n",
    "\n",
    "## Open street map data retrivel"
   ]
  },
  {
   "cell_type": "code",
   "execution_count": 78,
   "metadata": {},
   "outputs": [],
   "source": [
    "### Open shapefile for country borders for bbox\n",
    "ct = gp.read_file('.//Country boundaries//CNTR_RG_60M_2016_4326.shp')\n",
    "ct = ct.to_crs(sites2.crs)\n",
    "#ct.total_bounds"
   ]
  },
  {
   "cell_type": "markdown",
   "metadata": {},
   "source": [
    "### OSM call"
   ]
  },
  {
   "cell_type": "code",
   "execution_count": 51,
   "metadata": {},
   "outputs": [],
   "source": [
    "# total_bounds returns minx, miny, maxx, maxy\n",
    "# osm call takes min lon, min lat, max lon, max lat\n",
    "\n",
    "outer = ct.total_bounds\n",
    "\n",
    "### manual bbox definitions\n",
    "outer[3] = 37.94 # ymax\n",
    "outer[1] = 37.92 # ymin\n",
    "outer[2] = 22.30 # xmax\n",
    "outer[0] = 22.27 # xmin\n",
    "\n",
    "\n",
    "polygon_geom = Polygon([(outer[0],outer[1]),(outer[0],outer[3]),(outer[2],outer[3]),(outer[2],outer[1])])"
   ]
  },
  {
   "cell_type": "code",
   "execution_count": 53,
   "metadata": {
    "collapsed": true
   },
   "outputs": [
    {
     "ename": "TypeError",
     "evalue": "sort_index() got an unexpected keyword argument 'by'",
     "output_type": "error",
     "traceback": [
      "\u001b[1;31m---------------------------------------------------------------------------\u001b[0m",
      "\u001b[1;31mTypeError\u001b[0m                                 Traceback (most recent call last)",
      "\u001b[1;32m~\\Anaconda3\\envs\\geo\\lib\\site-packages\\pandas\\core\\groupby\\groupby.py\u001b[0m in \u001b[0;36mapply\u001b[1;34m(self, func, *args, **kwargs)\u001b[0m\n\u001b[0;32m    734\u001b[0m             \u001b[1;32mtry\u001b[0m\u001b[1;33m:\u001b[0m\u001b[1;33m\u001b[0m\u001b[1;33m\u001b[0m\u001b[0m\n\u001b[1;32m--> 735\u001b[1;33m                 \u001b[0mresult\u001b[0m \u001b[1;33m=\u001b[0m \u001b[0mself\u001b[0m\u001b[1;33m.\u001b[0m\u001b[0m_python_apply_general\u001b[0m\u001b[1;33m(\u001b[0m\u001b[0mf\u001b[0m\u001b[1;33m)\u001b[0m\u001b[1;33m\u001b[0m\u001b[1;33m\u001b[0m\u001b[0m\n\u001b[0m\u001b[0;32m    736\u001b[0m             \u001b[1;32mexcept\u001b[0m \u001b[0mTypeError\u001b[0m\u001b[1;33m:\u001b[0m\u001b[1;33m\u001b[0m\u001b[1;33m\u001b[0m\u001b[0m\n",
      "\u001b[1;32m~\\Anaconda3\\envs\\geo\\lib\\site-packages\\pandas\\core\\groupby\\groupby.py\u001b[0m in \u001b[0;36m_python_apply_general\u001b[1;34m(self, f)\u001b[0m\n\u001b[0;32m    750\u001b[0m     \u001b[1;32mdef\u001b[0m \u001b[0m_python_apply_general\u001b[0m\u001b[1;33m(\u001b[0m\u001b[0mself\u001b[0m\u001b[1;33m,\u001b[0m \u001b[0mf\u001b[0m\u001b[1;33m)\u001b[0m\u001b[1;33m:\u001b[0m\u001b[1;33m\u001b[0m\u001b[1;33m\u001b[0m\u001b[0m\n\u001b[1;32m--> 751\u001b[1;33m         \u001b[0mkeys\u001b[0m\u001b[1;33m,\u001b[0m \u001b[0mvalues\u001b[0m\u001b[1;33m,\u001b[0m \u001b[0mmutated\u001b[0m \u001b[1;33m=\u001b[0m \u001b[0mself\u001b[0m\u001b[1;33m.\u001b[0m\u001b[0mgrouper\u001b[0m\u001b[1;33m.\u001b[0m\u001b[0mapply\u001b[0m\u001b[1;33m(\u001b[0m\u001b[0mf\u001b[0m\u001b[1;33m,\u001b[0m \u001b[0mself\u001b[0m\u001b[1;33m.\u001b[0m\u001b[0m_selected_obj\u001b[0m\u001b[1;33m,\u001b[0m \u001b[0mself\u001b[0m\u001b[1;33m.\u001b[0m\u001b[0maxis\u001b[0m\u001b[1;33m)\u001b[0m\u001b[1;33m\u001b[0m\u001b[1;33m\u001b[0m\u001b[0m\n\u001b[0m\u001b[0;32m    752\u001b[0m \u001b[1;33m\u001b[0m\u001b[0m\n",
      "\u001b[1;32m~\\Anaconda3\\envs\\geo\\lib\\site-packages\\pandas\\core\\groupby\\ops.py\u001b[0m in \u001b[0;36mapply\u001b[1;34m(self, f, data, axis)\u001b[0m\n\u001b[0;32m    205\u001b[0m             \u001b[0mgroup_axes\u001b[0m \u001b[1;33m=\u001b[0m \u001b[0mgroup\u001b[0m\u001b[1;33m.\u001b[0m\u001b[0maxes\u001b[0m\u001b[1;33m\u001b[0m\u001b[1;33m\u001b[0m\u001b[0m\n\u001b[1;32m--> 206\u001b[1;33m             \u001b[0mres\u001b[0m \u001b[1;33m=\u001b[0m \u001b[0mf\u001b[0m\u001b[1;33m(\u001b[0m\u001b[0mgroup\u001b[0m\u001b[1;33m)\u001b[0m\u001b[1;33m\u001b[0m\u001b[1;33m\u001b[0m\u001b[0m\n\u001b[0m\u001b[0;32m    207\u001b[0m             \u001b[1;32mif\u001b[0m \u001b[1;32mnot\u001b[0m \u001b[0m_is_indexed_like\u001b[0m\u001b[1;33m(\u001b[0m\u001b[0mres\u001b[0m\u001b[1;33m,\u001b[0m \u001b[0mgroup_axes\u001b[0m\u001b[1;33m)\u001b[0m\u001b[1;33m:\u001b[0m\u001b[1;33m\u001b[0m\u001b[1;33m\u001b[0m\u001b[0m\n",
      "\u001b[1;32m~\\AppData\\Roaming\\Python\\Python38\\site-packages\\geopandas_osm\\osm.py\u001b[0m in \u001b[0;36mwayline\u001b[1;34m(df)\u001b[0m\n\u001b[0;32m    298\u001b[0m     \u001b[1;32mdef\u001b[0m \u001b[0mwayline\u001b[0m\u001b[1;33m(\u001b[0m\u001b[0mdf\u001b[0m\u001b[1;33m)\u001b[0m\u001b[1;33m:\u001b[0m\u001b[1;33m\u001b[0m\u001b[1;33m\u001b[0m\u001b[0m\n\u001b[1;32m--> 299\u001b[1;33m         \u001b[0mdf\u001b[0m \u001b[1;33m=\u001b[0m \u001b[0mdf\u001b[0m\u001b[1;33m.\u001b[0m\u001b[0msort_index\u001b[0m\u001b[1;33m(\u001b[0m\u001b[0mby\u001b[0m\u001b[1;33m=\u001b[0m\u001b[1;34m'index'\u001b[0m\u001b[1;33m)\u001b[0m\u001b[1;33m[\u001b[0m\u001b[1;33m[\u001b[0m\u001b[1;34m'lon'\u001b[0m\u001b[1;33m,\u001b[0m \u001b[1;34m'lat'\u001b[0m\u001b[1;33m]\u001b[0m\u001b[1;33m]\u001b[0m\u001b[1;33m\u001b[0m\u001b[1;33m\u001b[0m\u001b[0m\n\u001b[0m\u001b[0;32m    300\u001b[0m         \u001b[1;32mreturn\u001b[0m \u001b[0mLineString\u001b[0m\u001b[1;33m(\u001b[0m\u001b[0mdf\u001b[0m\u001b[1;33m.\u001b[0m\u001b[0mvalues\u001b[0m\u001b[1;33m)\u001b[0m\u001b[1;33m\u001b[0m\u001b[1;33m\u001b[0m\u001b[0m\n",
      "\u001b[1;31mTypeError\u001b[0m: sort_index() got an unexpected keyword argument 'by'",
      "\nDuring handling of the above exception, another exception occurred:\n",
      "\u001b[1;31mTypeError\u001b[0m                                 Traceback (most recent call last)",
      "\u001b[1;32m<ipython-input-53-a054a07650ca>\u001b[0m in \u001b[0;36m<module>\u001b[1;34m\u001b[0m\n\u001b[0;32m      1\u001b[0m \u001b[1;31m### List of map tags https://wiki.openstreetmap.org/wiki/Map_Features\u001b[0m\u001b[1;33m\u001b[0m\u001b[1;33m\u001b[0m\u001b[1;33m\u001b[0m\u001b[0m\n\u001b[0;32m      2\u001b[0m \u001b[1;33m\u001b[0m\u001b[0m\n\u001b[1;32m----> 3\u001b[1;33m \u001b[0mosm_lakes\u001b[0m \u001b[1;33m=\u001b[0m \u001b[0mgeopandas_osm\u001b[0m\u001b[1;33m.\u001b[0m\u001b[0mosm\u001b[0m\u001b[1;33m.\u001b[0m\u001b[0mquery_osm\u001b[0m\u001b[1;33m(\u001b[0m\u001b[1;34m'way'\u001b[0m\u001b[1;33m,\u001b[0m \u001b[0mpolygon_geom\u001b[0m\u001b[1;33m,\u001b[0m \u001b[0mrecurse\u001b[0m\u001b[1;33m=\u001b[0m\u001b[1;34m'down'\u001b[0m\u001b[1;33m,\u001b[0m \u001b[0mtags\u001b[0m\u001b[1;33m=\u001b[0m\u001b[1;33m[\u001b[0m\u001b[1;34m'natural=water'\u001b[0m\u001b[1;33m]\u001b[0m\u001b[1;33m)\u001b[0m \u001b[1;31m#,'water=lake'\u001b[0m\u001b[1;33m\u001b[0m\u001b[1;33m\u001b[0m\u001b[0m\n\u001b[0m",
      "\u001b[1;32m~\\AppData\\Roaming\\Python\\Python38\\site-packages\\geopandas_osm\\osm.py\u001b[0m in \u001b[0;36mquery_osm\u001b[1;34m(typ, bbox, recurse, tags, raw, meta, **kwargs)\u001b[0m\n\u001b[0;32m     95\u001b[0m     \u001b[1;32mif\u001b[0m \u001b[0mraw\u001b[0m\u001b[1;33m:\u001b[0m\u001b[1;33m\u001b[0m\u001b[1;33m\u001b[0m\u001b[0m\n\u001b[0;32m     96\u001b[0m         \u001b[1;32mreturn\u001b[0m \u001b[0mcontent\u001b[0m\u001b[1;33m\u001b[0m\u001b[1;33m\u001b[0m\u001b[0m\n\u001b[1;32m---> 97\u001b[1;33m     \u001b[1;32mreturn\u001b[0m \u001b[0mread_osm\u001b[0m\u001b[1;33m(\u001b[0m\u001b[0mcontent\u001b[0m\u001b[1;33m,\u001b[0m \u001b[1;33m**\u001b[0m\u001b[0mkwargs\u001b[0m\u001b[1;33m)\u001b[0m\u001b[1;33m\u001b[0m\u001b[1;33m\u001b[0m\u001b[0m\n\u001b[0m\u001b[0;32m     98\u001b[0m \u001b[1;33m\u001b[0m\u001b[0m\n\u001b[0;32m     99\u001b[0m \u001b[1;33m\u001b[0m\u001b[0m\n",
      "\u001b[1;32m~\\AppData\\Roaming\\Python\\Python38\\site-packages\\geopandas_osm\\osm.py\u001b[0m in \u001b[0;36mread_osm\u001b[1;34m(content, render, **kwargs)\u001b[0m\n\u001b[0;32m    159\u001b[0m \u001b[1;33m\u001b[0m\u001b[0m\n\u001b[0;32m    160\u001b[0m     \u001b[1;32mif\u001b[0m \u001b[0mrender\u001b[0m\u001b[1;33m:\u001b[0m\u001b[1;33m\u001b[0m\u001b[1;33m\u001b[0m\u001b[0m\n\u001b[1;32m--> 161\u001b[1;33m         \u001b[0mdata\u001b[0m \u001b[1;33m=\u001b[0m \u001b[0mrender_to_gdf\u001b[0m\u001b[1;33m(\u001b[0m\u001b[0mdata\u001b[0m\u001b[1;33m,\u001b[0m \u001b[1;33m**\u001b[0m\u001b[0mkwargs\u001b[0m\u001b[1;33m)\u001b[0m\u001b[1;33m\u001b[0m\u001b[1;33m\u001b[0m\u001b[0m\n\u001b[0m\u001b[0;32m    162\u001b[0m \u001b[1;33m\u001b[0m\u001b[0m\n\u001b[0;32m    163\u001b[0m     \u001b[1;32mreturn\u001b[0m \u001b[0mdata\u001b[0m\u001b[1;33m\u001b[0m\u001b[1;33m\u001b[0m\u001b[0m\n",
      "\u001b[1;32m~\\AppData\\Roaming\\Python\\Python38\\site-packages\\geopandas_osm\\osm.py\u001b[0m in \u001b[0;36mrender_to_gdf\u001b[1;34m(osmdata, drop_untagged)\u001b[0m\n\u001b[0;32m    270\u001b[0m     \u001b[0mnodes\u001b[0m \u001b[1;33m=\u001b[0m \u001b[0mrender_nodes\u001b[0m\u001b[1;33m(\u001b[0m\u001b[0mosmdata\u001b[0m\u001b[1;33m.\u001b[0m\u001b[0mnodes\u001b[0m\u001b[1;33m,\u001b[0m \u001b[0mdrop_untagged\u001b[0m\u001b[1;33m)\u001b[0m\u001b[1;33m\u001b[0m\u001b[1;33m\u001b[0m\u001b[0m\n\u001b[0;32m    271\u001b[0m \u001b[1;33m\u001b[0m\u001b[0m\n\u001b[1;32m--> 272\u001b[1;33m     \u001b[0mways\u001b[0m \u001b[1;33m=\u001b[0m \u001b[0mrender_ways\u001b[0m\u001b[1;33m(\u001b[0m\u001b[0mosmdata\u001b[0m\u001b[1;33m.\u001b[0m\u001b[0mnodes\u001b[0m\u001b[1;33m,\u001b[0m \u001b[0mosmdata\u001b[0m\u001b[1;33m.\u001b[0m\u001b[0mwaynodes\u001b[0m\u001b[1;33m,\u001b[0m \u001b[0mosmdata\u001b[0m\u001b[1;33m.\u001b[0m\u001b[0mwaytags\u001b[0m\u001b[1;33m)\u001b[0m\u001b[1;33m\u001b[0m\u001b[1;33m\u001b[0m\u001b[0m\n\u001b[0m\u001b[0;32m    273\u001b[0m     \u001b[1;32mif\u001b[0m \u001b[0mways\u001b[0m \u001b[1;32mis\u001b[0m \u001b[1;32mnot\u001b[0m \u001b[1;32mNone\u001b[0m\u001b[1;33m:\u001b[0m\u001b[1;33m\u001b[0m\u001b[1;33m\u001b[0m\u001b[0m\n\u001b[0;32m    274\u001b[0m         \u001b[1;31m# We should get append working\u001b[0m\u001b[1;33m\u001b[0m\u001b[1;33m\u001b[0m\u001b[1;33m\u001b[0m\u001b[0m\n",
      "\u001b[1;32m~\\AppData\\Roaming\\Python\\Python38\\site-packages\\geopandas_osm\\osm.py\u001b[0m in \u001b[0;36mrender_ways\u001b[1;34m(nodes, waynodes, waytags)\u001b[0m\n\u001b[0;32m    305\u001b[0m     waynodes = waynodes.merge(node_points, left_on='ref', right_on='id',\n\u001b[0;32m    306\u001b[0m                               suffixes=('', '_nodes'))\n\u001b[1;32m--> 307\u001b[1;33m     \u001b[0mway_lines\u001b[0m \u001b[1;33m=\u001b[0m \u001b[0mwaynodes\u001b[0m\u001b[1;33m.\u001b[0m\u001b[0mgroupby\u001b[0m\u001b[1;33m(\u001b[0m\u001b[1;34m'id'\u001b[0m\u001b[1;33m)\u001b[0m\u001b[1;33m.\u001b[0m\u001b[0mapply\u001b[0m\u001b[1;33m(\u001b[0m\u001b[0mwayline\u001b[0m\u001b[1;33m)\u001b[0m\u001b[1;33m\u001b[0m\u001b[1;33m\u001b[0m\u001b[0m\n\u001b[0m\u001b[0;32m    308\u001b[0m     \u001b[0mways\u001b[0m \u001b[1;33m=\u001b[0m \u001b[0mwaytags\u001b[0m\u001b[1;33m.\u001b[0m\u001b[0mset_index\u001b[0m\u001b[1;33m(\u001b[0m\u001b[1;34m'id'\u001b[0m\u001b[1;33m)\u001b[0m\u001b[1;33m.\u001b[0m\u001b[0mset_geometry\u001b[0m\u001b[1;33m(\u001b[0m\u001b[0mway_lines\u001b[0m\u001b[1;33m,\u001b[0m \u001b[0mcrs\u001b[0m\u001b[1;33m=\u001b[0m\u001b[0m_crs\u001b[0m\u001b[1;33m)\u001b[0m\u001b[1;33m\u001b[0m\u001b[1;33m\u001b[0m\u001b[0m\n\u001b[0;32m    309\u001b[0m     \u001b[0mways\u001b[0m\u001b[1;33m.\u001b[0m\u001b[0mreset_index\u001b[0m\u001b[1;33m(\u001b[0m\u001b[0minplace\u001b[0m\u001b[1;33m=\u001b[0m\u001b[1;32mTrue\u001b[0m\u001b[1;33m)\u001b[0m\u001b[1;33m\u001b[0m\u001b[1;33m\u001b[0m\u001b[0m\n",
      "\u001b[1;32m~\\Anaconda3\\envs\\geo\\lib\\site-packages\\pandas\\core\\groupby\\groupby.py\u001b[0m in \u001b[0;36mapply\u001b[1;34m(self, func, *args, **kwargs)\u001b[0m\n\u001b[0;32m    744\u001b[0m \u001b[1;33m\u001b[0m\u001b[0m\n\u001b[0;32m    745\u001b[0m                 \u001b[1;32mwith\u001b[0m \u001b[0m_group_selection_context\u001b[0m\u001b[1;33m(\u001b[0m\u001b[0mself\u001b[0m\u001b[1;33m)\u001b[0m\u001b[1;33m:\u001b[0m\u001b[1;33m\u001b[0m\u001b[1;33m\u001b[0m\u001b[0m\n\u001b[1;32m--> 746\u001b[1;33m                     \u001b[1;32mreturn\u001b[0m \u001b[0mself\u001b[0m\u001b[1;33m.\u001b[0m\u001b[0m_python_apply_general\u001b[0m\u001b[1;33m(\u001b[0m\u001b[0mf\u001b[0m\u001b[1;33m)\u001b[0m\u001b[1;33m\u001b[0m\u001b[1;33m\u001b[0m\u001b[0m\n\u001b[0m\u001b[0;32m    747\u001b[0m \u001b[1;33m\u001b[0m\u001b[0m\n\u001b[0;32m    748\u001b[0m         \u001b[1;32mreturn\u001b[0m \u001b[0mresult\u001b[0m\u001b[1;33m\u001b[0m\u001b[1;33m\u001b[0m\u001b[0m\n",
      "\u001b[1;32m~\\Anaconda3\\envs\\geo\\lib\\site-packages\\pandas\\core\\groupby\\groupby.py\u001b[0m in \u001b[0;36m_python_apply_general\u001b[1;34m(self, f)\u001b[0m\n\u001b[0;32m    749\u001b[0m \u001b[1;33m\u001b[0m\u001b[0m\n\u001b[0;32m    750\u001b[0m     \u001b[1;32mdef\u001b[0m \u001b[0m_python_apply_general\u001b[0m\u001b[1;33m(\u001b[0m\u001b[0mself\u001b[0m\u001b[1;33m,\u001b[0m \u001b[0mf\u001b[0m\u001b[1;33m)\u001b[0m\u001b[1;33m:\u001b[0m\u001b[1;33m\u001b[0m\u001b[1;33m\u001b[0m\u001b[0m\n\u001b[1;32m--> 751\u001b[1;33m         \u001b[0mkeys\u001b[0m\u001b[1;33m,\u001b[0m \u001b[0mvalues\u001b[0m\u001b[1;33m,\u001b[0m \u001b[0mmutated\u001b[0m \u001b[1;33m=\u001b[0m \u001b[0mself\u001b[0m\u001b[1;33m.\u001b[0m\u001b[0mgrouper\u001b[0m\u001b[1;33m.\u001b[0m\u001b[0mapply\u001b[0m\u001b[1;33m(\u001b[0m\u001b[0mf\u001b[0m\u001b[1;33m,\u001b[0m \u001b[0mself\u001b[0m\u001b[1;33m.\u001b[0m\u001b[0m_selected_obj\u001b[0m\u001b[1;33m,\u001b[0m \u001b[0mself\u001b[0m\u001b[1;33m.\u001b[0m\u001b[0maxis\u001b[0m\u001b[1;33m)\u001b[0m\u001b[1;33m\u001b[0m\u001b[1;33m\u001b[0m\u001b[0m\n\u001b[0m\u001b[0;32m    752\u001b[0m \u001b[1;33m\u001b[0m\u001b[0m\n\u001b[0;32m    753\u001b[0m         return self._wrap_applied_output(\n",
      "\u001b[1;32m~\\Anaconda3\\envs\\geo\\lib\\site-packages\\pandas\\core\\groupby\\ops.py\u001b[0m in \u001b[0;36mapply\u001b[1;34m(self, f, data, axis)\u001b[0m\n\u001b[0;32m    204\u001b[0m             \u001b[1;31m# group might be modified\u001b[0m\u001b[1;33m\u001b[0m\u001b[1;33m\u001b[0m\u001b[1;33m\u001b[0m\u001b[0m\n\u001b[0;32m    205\u001b[0m             \u001b[0mgroup_axes\u001b[0m \u001b[1;33m=\u001b[0m \u001b[0mgroup\u001b[0m\u001b[1;33m.\u001b[0m\u001b[0maxes\u001b[0m\u001b[1;33m\u001b[0m\u001b[1;33m\u001b[0m\u001b[0m\n\u001b[1;32m--> 206\u001b[1;33m             \u001b[0mres\u001b[0m \u001b[1;33m=\u001b[0m \u001b[0mf\u001b[0m\u001b[1;33m(\u001b[0m\u001b[0mgroup\u001b[0m\u001b[1;33m)\u001b[0m\u001b[1;33m\u001b[0m\u001b[1;33m\u001b[0m\u001b[0m\n\u001b[0m\u001b[0;32m    207\u001b[0m             \u001b[1;32mif\u001b[0m \u001b[1;32mnot\u001b[0m \u001b[0m_is_indexed_like\u001b[0m\u001b[1;33m(\u001b[0m\u001b[0mres\u001b[0m\u001b[1;33m,\u001b[0m \u001b[0mgroup_axes\u001b[0m\u001b[1;33m)\u001b[0m\u001b[1;33m:\u001b[0m\u001b[1;33m\u001b[0m\u001b[1;33m\u001b[0m\u001b[0m\n\u001b[0;32m    208\u001b[0m                 \u001b[0mmutated\u001b[0m \u001b[1;33m=\u001b[0m \u001b[1;32mTrue\u001b[0m\u001b[1;33m\u001b[0m\u001b[1;33m\u001b[0m\u001b[0m\n",
      "\u001b[1;32m~\\AppData\\Roaming\\Python\\Python38\\site-packages\\geopandas_osm\\osm.py\u001b[0m in \u001b[0;36mwayline\u001b[1;34m(df)\u001b[0m\n\u001b[0;32m    297\u001b[0m \u001b[1;33m\u001b[0m\u001b[0m\n\u001b[0;32m    298\u001b[0m     \u001b[1;32mdef\u001b[0m \u001b[0mwayline\u001b[0m\u001b[1;33m(\u001b[0m\u001b[0mdf\u001b[0m\u001b[1;33m)\u001b[0m\u001b[1;33m:\u001b[0m\u001b[1;33m\u001b[0m\u001b[1;33m\u001b[0m\u001b[0m\n\u001b[1;32m--> 299\u001b[1;33m         \u001b[0mdf\u001b[0m \u001b[1;33m=\u001b[0m \u001b[0mdf\u001b[0m\u001b[1;33m.\u001b[0m\u001b[0msort_index\u001b[0m\u001b[1;33m(\u001b[0m\u001b[0mby\u001b[0m\u001b[1;33m=\u001b[0m\u001b[1;34m'index'\u001b[0m\u001b[1;33m)\u001b[0m\u001b[1;33m[\u001b[0m\u001b[1;33m[\u001b[0m\u001b[1;34m'lon'\u001b[0m\u001b[1;33m,\u001b[0m \u001b[1;34m'lat'\u001b[0m\u001b[1;33m]\u001b[0m\u001b[1;33m]\u001b[0m\u001b[1;33m\u001b[0m\u001b[1;33m\u001b[0m\u001b[0m\n\u001b[0m\u001b[0;32m    300\u001b[0m         \u001b[1;32mreturn\u001b[0m \u001b[0mLineString\u001b[0m\u001b[1;33m(\u001b[0m\u001b[0mdf\u001b[0m\u001b[1;33m.\u001b[0m\u001b[0mvalues\u001b[0m\u001b[1;33m)\u001b[0m\u001b[1;33m\u001b[0m\u001b[1;33m\u001b[0m\u001b[0m\n\u001b[0;32m    301\u001b[0m \u001b[1;33m\u001b[0m\u001b[0m\n",
      "\u001b[1;31mTypeError\u001b[0m: sort_index() got an unexpected keyword argument 'by'"
     ]
    }
   ],
   "source": [
    "### List of map tags https://wiki.openstreetmap.org/wiki/Map_Features\n",
    "\n",
    "osm_lakes = geopandas_osm.osm.query_osm('way', polygon_geom, recurse='down', tags=['natural=water']) #,'water=lake'"
   ]
  },
  {
   "cell_type": "markdown",
   "metadata": {},
   "source": [
    "### Using pyrosm"
   ]
  },
  {
   "cell_type": "code",
   "execution_count": 9,
   "metadata": {},
   "outputs": [
    {
     "data": {
      "text/html": [
       "<div>\n",
       "<style scoped>\n",
       "    .dataframe tbody tr th:only-of-type {\n",
       "        vertical-align: middle;\n",
       "    }\n",
       "\n",
       "    .dataframe tbody tr th {\n",
       "        vertical-align: top;\n",
       "    }\n",
       "\n",
       "    .dataframe thead th {\n",
       "        text-align: right;\n",
       "    }\n",
       "</style>\n",
       "<table border=\"1\" class=\"dataframe\">\n",
       "  <thead>\n",
       "    <tr style=\"text-align: right;\">\n",
       "      <th></th>\n",
       "      <th>lon</th>\n",
       "      <th>tags</th>\n",
       "      <th>timestamp</th>\n",
       "      <th>version</th>\n",
       "      <th>lat</th>\n",
       "      <th>changeset</th>\n",
       "      <th>id</th>\n",
       "      <th>natural</th>\n",
       "      <th>water</th>\n",
       "      <th>geometry</th>\n",
       "      <th>osm_type</th>\n",
       "      <th>wetland</th>\n",
       "    </tr>\n",
       "  </thead>\n",
       "  <tbody>\n",
       "    <tr>\n",
       "      <th>0</th>\n",
       "      <td>139.343460</td>\n",
       "      <td>None</td>\n",
       "      <td>1338906228</td>\n",
       "      <td>1</td>\n",
       "      <td>35.408985</td>\n",
       "      <td>0.0</td>\n",
       "      <td>1777121518</td>\n",
       "      <td>water</td>\n",
       "      <td>None</td>\n",
       "      <td>POINT (139.34346 35.40899)</td>\n",
       "      <td>node</td>\n",
       "      <td>NaN</td>\n",
       "    </tr>\n",
       "    <tr>\n",
       "      <th>1</th>\n",
       "      <td>139.830994</td>\n",
       "      <td>{\"description\":\"\\u6C34\\u98F2\\u307F\\u3070\"}</td>\n",
       "      <td>1360025319</td>\n",
       "      <td>1</td>\n",
       "      <td>35.666843</td>\n",
       "      <td>0.0</td>\n",
       "      <td>2142096048</td>\n",
       "      <td>water</td>\n",
       "      <td>None</td>\n",
       "      <td>POINT (139.83099 35.66684)</td>\n",
       "      <td>node</td>\n",
       "      <td>NaN</td>\n",
       "    </tr>\n",
       "    <tr>\n",
       "      <th>2</th>\n",
       "      <td>139.481033</td>\n",
       "      <td>None</td>\n",
       "      <td>1368243026</td>\n",
       "      <td>3</td>\n",
       "      <td>35.352013</td>\n",
       "      <td>0.0</td>\n",
       "      <td>2299065438</td>\n",
       "      <td>water</td>\n",
       "      <td>None</td>\n",
       "      <td>POINT (139.48103 35.35201)</td>\n",
       "      <td>node</td>\n",
       "      <td>NaN</td>\n",
       "    </tr>\n",
       "    <tr>\n",
       "      <th>3</th>\n",
       "      <td>139.479584</td>\n",
       "      <td>{\"name\":\"\\u6C34\\u8DEF\\u8DE1\",\"description\":\"\\u...</td>\n",
       "      <td>1468802023</td>\n",
       "      <td>3</td>\n",
       "      <td>35.348724</td>\n",
       "      <td>0.0</td>\n",
       "      <td>2299094117</td>\n",
       "      <td>water</td>\n",
       "      <td>None</td>\n",
       "      <td>POINT (139.47958 35.34872)</td>\n",
       "      <td>node</td>\n",
       "      <td>NaN</td>\n",
       "    </tr>\n",
       "    <tr>\n",
       "      <th>4</th>\n",
       "      <td>139.596878</td>\n",
       "      <td>{\"name\":\"\\u6C34\\u8FBA\\u89B3\\u5BDF\\u5712\",\"name...</td>\n",
       "      <td>1560798482</td>\n",
       "      <td>4</td>\n",
       "      <td>35.738041</td>\n",
       "      <td>0.0</td>\n",
       "      <td>2337808463</td>\n",
       "      <td>water</td>\n",
       "      <td>None</td>\n",
       "      <td>POINT (139.59688 35.73804)</td>\n",
       "      <td>node</td>\n",
       "      <td>NaN</td>\n",
       "    </tr>\n",
       "  </tbody>\n",
       "</table>\n",
       "</div>"
      ],
      "text/plain": [
       "          lon                                               tags   timestamp  \\\n",
       "0  139.343460                                               None  1338906228   \n",
       "1  139.830994         {\"description\":\"\\u6C34\\u98F2\\u307F\\u3070\"}  1360025319   \n",
       "2  139.481033                                               None  1368243026   \n",
       "3  139.479584  {\"name\":\"\\u6C34\\u8DEF\\u8DE1\",\"description\":\"\\u...  1468802023   \n",
       "4  139.596878  {\"name\":\"\\u6C34\\u8FBA\\u89B3\\u5BDF\\u5712\",\"name...  1560798482   \n",
       "\n",
       "   version        lat  changeset          id natural water  \\\n",
       "0        1  35.408985        0.0  1777121518   water  None   \n",
       "1        1  35.666843        0.0  2142096048   water  None   \n",
       "2        3  35.352013        0.0  2299065438   water  None   \n",
       "3        3  35.348724        0.0  2299094117   water  None   \n",
       "4        4  35.738041        0.0  2337808463   water  None   \n",
       "\n",
       "                     geometry osm_type wetland  \n",
       "0  POINT (139.34346 35.40899)     node     NaN  \n",
       "1  POINT (139.83099 35.66684)     node     NaN  \n",
       "2  POINT (139.48103 35.35201)     node     NaN  \n",
       "3  POINT (139.47958 35.34872)     node     NaN  \n",
       "4  POINT (139.59688 35.73804)     node     NaN  "
      ]
     },
     "execution_count": 9,
     "metadata": {},
     "output_type": "execute_result"
    }
   ],
   "source": [
    "## set pbf file path \n",
    "fp = \"E:/University College London/O'Sullivan, Aidan - SDG6/Waterbody shapefiles/Japan/kanto-latest.osm.pbf\"\n",
    "\n",
    "# Initialize the OSM parser object\n",
    "osm = OSM(fp)\n",
    "\n",
    "## create filter\n",
    "my_filter = {\"natural\": [\"water\"]}\n",
    "\n",
    "## run get command\n",
    "natural = osm.get_natural(custom_filter=my_filter)\n",
    "natural.head()"
   ]
  },
  {
   "cell_type": "code",
   "execution_count": 18,
   "metadata": {},
   "outputs": [
    {
     "data": {
      "text/plain": [
       "<matplotlib.axes._subplots.AxesSubplot at 0x2f6366c70>"
      ]
     },
     "execution_count": 18,
     "metadata": {},
     "output_type": "execute_result"
    },
    {
     "data": {
      "image/png": "[encoded data removed]",
      "text/plain": [
       "<Figure size 432x288 with 1 Axes>"
      ]
     },
     "metadata": {
      "needs_background": "light"
     },
     "output_type": "display_data"
    }
   ],
   "source": [
    "natural[(natural.geometry.type=='Polygon')&(natural.water=='lake')].plot()"
   ]
  },
  {
   "cell_type": "code",
   "execution_count": 19,
   "metadata": {},
   "outputs": [
    {
     "data": {
      "text/plain": [
       "<matplotlib.axes._subplots.AxesSubplot at 0x3ce1211f0>"
      ]
     },
     "execution_count": 19,
     "metadata": {},
     "output_type": "execute_result"
    },
    {
     "data": {
      "image/png": "[encoded data removed]",
      "text/plain": [
       "<Figure size 720x432 with 1 Axes>"
      ]
     },
     "metadata": {
      "needs_background": "light"
     },
     "output_type": "display_data"
    }
   ],
   "source": [
    "## plot data\n",
    "natural[natural.geometry.type=='Polygon'].plot(legend=True, figsize=(10,6))"
   ]
  },
  {
   "cell_type": "markdown",
   "metadata": {},
   "source": [
    "### Write to file"
   ]
  },
  {
   "cell_type": "code",
   "execution_count": 110,
   "metadata": {},
   "outputs": [],
   "source": [
    "### Shape file\n",
    "osm_lakes[osm_lakes.geometry.type=='LineString'].geometry.to_file('osm_lakes_gr.shp')\n",
    "\n",
    "### CSV\n",
    "osm_lakes.to_csv('osm_lakes_sk.csv')"
   ]
  },
  {
   "cell_type": "markdown",
   "metadata": {},
   "source": [
    "### Interactive plot"
   ]
  },
  {
   "cell_type": "code",
   "execution_count": 111,
   "metadata": {
    "scrolled": false
   },
   "outputs": [
    {
     "data": {
      "application/vnd.jupyter.widget-view+json": {
       "model_id": "e1bcd8bcaf6b4058a79a55ee4034ac00",
       "version_major": 2,
       "version_minor": 0
      },
      "text/plain": [
       "Map(center=[52.3, 8.0], controls=(ZoomControl(options=['position', 'zoom_in_text', 'zoom_in_title', 'zoom_out_…"
      ]
     },
     "metadata": {},
     "output_type": "display_data"
    }
   ],
   "source": [
    "m = Map(center=(52.3,8.0), zoom = 6, basemap= basemaps.Esri.WorldTopoMap)\n",
    "\n",
    "pl_wb = wb[wb.country=='SK']\n",
    "pl_osm = osm_lakes[osm_lakes.water=='lake']\n",
    "\n",
    "osm = GeoData(geo_dataframe = pl_osm,\n",
    "                   style={'color': 'black', 'fillColor': '#1e7a65', 'opacity':0.5, 'weight':1.9, 'dashArray':'2', 'fillOpacity':0.6},\n",
    "                   hover_style={'fillColor': 'red' , 'fillOpacity': 0.2},\n",
    "                   name = 'OSM Lakes')\n",
    "\n",
    "wb = GeoData(geo_dataframe = pl_wb,\n",
    "                   style={'color': 'black', 'fillColor': '#3366cc', 'opacity':0.5, 'weight':1.9, 'dashArray':'2', 'fillOpacity':0.6},\n",
    "                   hover_style={'fillColor': 'red' , 'fillOpacity': 0.2},\n",
    "                   name = 'EEA Lakes')\n",
    "\n",
    "m.add_layer(osm)\n",
    "m.add_layer(wb)\n",
    "m.add_control(LayersControl())\n",
    "\n",
    "m"
   ]
  },
  {
   "cell_type": "markdown",
   "metadata": {},
   "source": [
    "### Globo Lakes dataset"
   ]
  },
  {
   "cell_type": "code",
   "execution_count": 3,
   "metadata": {},
   "outputs": [],
   "source": [
    "from netCDF4 import Dataset\n",
    "import numpy as np"
   ]
  },
  {
   "cell_type": "code",
   "execution_count": 4,
   "metadata": {},
   "outputs": [],
   "source": [
    "gllakes = 'globolakes-static_water_bodies_IDs_Map-300m-P5Y-2005-ESACCI_WB-fv1.0.nc'\n",
    "gllakes = Dataset(gllakes, mode='r')"
   ]
  },
  {
   "cell_type": "code",
   "execution_count": 5,
   "metadata": {},
   "outputs": [
    {
     "data": {
      "text/plain": [
       "['lat', 'lat_bnds', 'lon', 'lon_bnds', 'WB_ID']"
      ]
     },
     "execution_count": 5,
     "metadata": {},
     "output_type": "execute_result"
    }
   ],
   "source": [
    "list(gllakes.variables)"
   ]
  },
  {
   "cell_type": "code",
   "execution_count": 10,
   "metadata": {},
   "outputs": [],
   "source": [
    "lons = gllakes.variables['lon'][:]\n",
    "lats = gllakes.variables['lat'][:]\n",
    "# lons = gllakes.variables['lon_bnds'][:]\n",
    "# lats = gllakes.variables['lat_bnds'][:]\n",
    "# wbid = gllakes.variables['WB_ID'][:]\n",
    "gllakes.close()"
   ]
  },
  {
   "cell_type": "code",
   "execution_count": 54,
   "metadata": {},
   "outputs": [
    {
     "data": {
      "text/plain": [
       "'C:\\\\Users\\\\User'"
      ]
     },
     "execution_count": 54,
     "metadata": {},
     "output_type": "execute_result"
    }
   ],
   "source": [
    "%pwd"
   ]
  },
  {
   "cell_type": "code",
   "execution_count": 46,
   "metadata": {},
   "outputs": [
    {
     "data": {
      "text/plain": [
       "12.210648148148147"
      ]
     },
     "execution_count": 46,
     "metadata": {},
     "output_type": "execute_result"
    }
   ],
   "source": [
    "211*5000/3600/24"
   ]
  },
  {
   "cell_type": "code",
   "execution_count": null,
   "metadata": {},
   "outputs": [],
   "source": []
  }
 ],
 "metadata": {
  "kernelspec": {
   "display_name": "Python 3",
   "language": "python",
   "name": "python3"
  },
  "language_info": {
   "codemirror_mode": {
    "name": "ipython",
    "version": 3
   },
   "file_extension": ".py",
   "mimetype": "text/x-python",
   "name": "python",
   "nbconvert_exporter": "python",
   "pygments_lexer": "ipython3",
   "version": "3.8.1"
  }
 },
 "nbformat": 4,
 "nbformat_minor": 2
}
