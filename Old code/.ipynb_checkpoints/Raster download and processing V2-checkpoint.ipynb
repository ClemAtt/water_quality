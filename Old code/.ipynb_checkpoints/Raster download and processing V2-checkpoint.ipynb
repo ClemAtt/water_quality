{
 "cells": [
  {
   "cell_type": "code",
   "execution_count": 1,
   "metadata": {},
   "outputs": [],
   "source": [
    "import numpy as np\n",
    "import geopandas as gp\n",
    "import pandas as pd\n",
    "from rasterio.plot import show\n",
    "import rasterio as rio\n",
    "import rasterio.features\n",
    "import rasterio.warp\n",
    "import earthpy.spatial as es\n",
    "import tarfile\n",
    "import os\n",
    "from shapely.geometry import Polygon\n",
    "from matplotlib import pyplot\n",
    "import matplotlib.pyplot as plt\n",
    "import json\n",
    "import pickle\n",
    "import pyproj;                                 #pyproj.set_datapath(\"C:/Users/User/Anaconda3/envs/geo/Lib/site-packages/pyproj\")\n",
    "import landsatxplore.api\n",
    "from landsatxplore.earthexplorer import EarthExplorer                                  # https://pypi.org/project/landsatxplore/\n",
    "from collections.abc import Iterable\n",
    "import time\n",
    "import math\n",
    "from ipypb import track\n",
    "import seaborn as sn\n",
    "\n",
    "os.chdir(r\"C:\\Users\\User\\Documents\\Work\\SDGs and AI\\6.3.2\")"
   ]
  },
  {
   "cell_type": "markdown",
   "metadata": {},
   "source": [
    "### Read in list of sites for download"
   ]
  },
  {
   "cell_type": "code",
   "execution_count": 3,
   "metadata": {},
   "outputs": [],
   "source": [
    "#sites = pickle.load(open(\"sites.p\",\"rb\"))\n",
    "sites = pd.read_pickle(\"sites.p\")"
   ]
  },
  {
   "cell_type": "code",
   "execution_count": 615,
   "metadata": {
    "collapsed": true
   },
   "outputs": [
    {
     "data": {
      "text/plain": [
       "[{'acquisitionDate': '2017-05-03',\n",
       "  'startTime': '2017-05-03',\n",
       "  'endTime': '2017-05-03',\n",
       "  'spatialFootprint': {'type': 'Polygon',\n",
       "   'coordinates': [[[-10.46011, 51.06625],\n",
       "     [-7.8373, 50.60437],\n",
       "     [-7.02474, 52.29471],\n",
       "     [-9.74403, 52.76481],\n",
       "     [-10.46011, 51.06625]]]},\n",
       "  'sceneBounds': '-10.46011,50.60437,-7.02474,52.76481',\n",
       "  'browseUrl': 'https://ims.cr.usgs.gov/browse/landsat_8_c1/2017/207/024/LC08_L1TP_207024_20170503_20170515_01_T1.jpg',\n",
       "  'dataAccessUrl': 'https://earthexplorer.usgs.gov/order/process?dataset_name=LANDSAT_8_C1&ordered=LC82070242017123LGN00&node=INVSVC',\n",
       "  'downloadUrl': 'https://earthexplorer.usgs.gov/download/external/options/LANDSAT_8_C1/LC82070242017123LGN00/INVSVC/',\n",
       "  'entityId': 'LC82070242017123LGN00',\n",
       "  'displayId': 'LC08_L1TP_207024_20170503_20170515_01_T1',\n",
       "  'cloudCover': 7.52,\n",
       "  'metadataUrl': 'https://earthexplorer.usgs.gov/metadata/xml/12864/LC82070242017123LGN00/',\n",
       "  'fgdcMetadataUrl': 'https://earthexplorer.usgs.gov/fgdc/12864/LC82070242017123LGN00/save_xml',\n",
       "  'modifiedDate': '2017-05-15T15:18:19',\n",
       "  'orderUrl': 'https://earthexplorer.usgs.gov/order/process?dataset_name=LANDSAT_8_C1&ordered=LC82070242017123LGN00&node=INVSVC',\n",
       "  'bulkOrdered': False,\n",
       "  'ordered': False,\n",
       "  'summary': 'Entity ID: LC08_L1TP_207024_20170503_20170515_01_T1, Acquisition Date: 03-MAY-17, Path: 207, Row: 24'}]"
      ]
     },
     "execution_count": 615,
     "metadata": {},
     "output_type": "execute_result"
    }
   ],
   "source": [
    "sc_meta"
   ]
  },
  {
   "cell_type": "code",
   "execution_count": 2,
   "metadata": {},
   "outputs": [],
   "source": [
    "### dummy site\n",
    "\n",
    "scid = 'LC82070242017123LGN00'"
   ]
  },
  {
   "cell_type": "markdown",
   "metadata": {},
   "source": [
    "### Open scene metadata and add to site list\n",
    "\n",
    "https://lta.cr.usgs.gov/DD/landsat_dictionary.html#landsat_product_id"
   ]
  },
  {
   "cell_type": "code",
   "execution_count": 3,
   "metadata": {},
   "outputs": [],
   "source": [
    "sc_meta = pickle.load(open('./Landsat/Scenes/scene_'+str(scid)+\".p\",\"rb\"))"
   ]
  },
  {
   "cell_type": "code",
   "execution_count": 2,
   "metadata": {},
   "outputs": [],
   "source": [
    "polygon = gp.read_file(\"./Shapefiles/doksa.shp\")"
   ]
  },
  {
   "cell_type": "code",
   "execution_count": 607,
   "metadata": {},
   "outputs": [],
   "source": [
    "polygon = polygon.to_crs(dll.crs)"
   ]
  },
  {
   "cell_type": "code",
   "execution_count": 608,
   "metadata": {},
   "outputs": [
    {
     "data": {
      "application/vnd.jupyter.widget-view+json": {
       "model_id": "f47d640646a445e9a0f1e1df43077b7b",
       "version_major": 2,
       "version_minor": 0
      },
      "text/plain": [
       "Map(center=[51.93472, -9.773], controls=(ZoomControl(options=['position', 'zoom_in_text', 'zoom_in_title', 'zo…"
      ]
     },
     "metadata": {},
     "output_type": "display_data"
    }
   ],
   "source": [
    "m = Map(center=(51.93472,-9.77300), zoom = 12, basemap= basemaps.Esri.WorldTopoMap)\n",
    "\n",
    "lakes_plot = GeoData(geo_dataframe = polygon,\n",
    "                   style={'color': 'black', 'fillColor': '#3366cc', 'opacity':0.5, 'weight':1.9, 'dashArray':'2', 'fillOpacity':0.6},\n",
    "                   hover_style={'fillColor': 'red' , 'fillOpacity': 0.2},\n",
    "                   name = 'Large Lakes')\n",
    "\n",
    "lakes_point = GeoData(geo_dataframe = dll[(dll['7_scene_id']==scid)|(dll['8_scene_id']==scid)],\n",
    "                   style={'color': 'black', 'fillColor': '#3366cc', 'opacity':0.5, 'weight':1.9, 'dashArray':'2', 'fillOpacity':0.6},\n",
    "                   hover_style={'fillColor': 'red' , 'fillOpacity': 0.2},\n",
    "                name = 'Large Lakes')\n",
    "\n",
    "m.add_layer(lakes_plot)\n",
    "m.add_layer(lakes_point)\n",
    "m.add_control(LayersControl())\n",
    "\n",
    "m"
   ]
  },
  {
   "cell_type": "markdown",
   "metadata": {},
   "source": [
    "### Download raster images\n",
    "\n",
    "http://landsat-pds.s3.amazonaws.com/c1/L8/042/034/LC08_L1TP_042034_20170616_20170629_01_T1/LC08_L1TP_042034_20170616_20170629_01_T1_B4.TIF\n",
    "\n",
    "https://storage.googleapis.com/gcp-public-data-landsat/LC08/01/042/034/LC08_L1TP_042034_20170616_20170629_01_T1/LC08_L1TP_042034_20170616_20170629_01_T1_B4.TIF"
   ]
  },
  {
   "cell_type": "code",
   "execution_count": 71,
   "metadata": {},
   "outputs": [
    {
     "name": "stdout",
     "output_type": "stream",
     "text": [
      "EPSG:32633\n",
      "{'driver': 'GTiff', 'dtype': 'uint8', 'nodata': None, 'width': 8251, 'height': 7371, 'count': 1, 'crs': CRS.from_epsg(32633), 'transform': Affine(30.0, 0.0, 308685.0,\n",
      "       0.0, -30.0, 5366715.0), 'blockxsize': 256, 'blockysize': 256, 'tiled': True, 'compress': 'lzw', 'interleave': 'band'}\n",
      "<built-in method overviews of DatasetReader object at 0x000000000C76E5E0>\n",
      "(7371, 8251)\n",
      "| 30.00, 0.00, 308685.00|\n",
      "| 0.00,-30.00, 5366715.00|\n",
      "| 0.00, 0.00, 1.00|\n",
      "BoundingBox(left=308685.0, bottom=5145585.0, right=556215.0, top=5366715.0)\n"
     ]
    }
   ],
   "source": [
    "with rio.open(filepath) as src:\n",
    "    print(src.crs)\n",
    "    print(src.profile)\n",
    "    print(src.overviews)\n",
    "    print(src.shape)\n",
    "    print(src.transform)\n",
    "    print(src.bounds)\n",
    "#     print(src.index())\n",
    "#     print(src.xy())\n"
   ]
  },
  {
   "cell_type": "markdown",
   "metadata": {},
   "source": [
    "### Clip and mask raster to polygon"
   ]
  },
  {
   "cell_type": "code",
   "execution_count": 609,
   "metadata": {},
   "outputs": [],
   "source": [
    "def cropper(raster, geoms, outpath):\n",
    "    \"\"\"\n",
    "    This function accepts a raster object, an interable list of geometrys (or a single geometry),\n",
    "    and a filepath to save the cropped raster to, the cropped raster is then read back in and returned.\n",
    "    \"\"\"    \n",
    "    ## As crop accepts an iterable of geoms we first put any single geoms into a list\n",
    "    if not isinstance(geoms, Iterable):\n",
    "        geoms = [geoms]\n",
    "\n",
    "    ## Next we crop the image\n",
    "    raster_crop, raster_crop_meta = es.crop_image(raster, geoms)\n",
    "\n",
    "    ## We now need to update the metadata with the spatial data\n",
    "    raster_crop_meta.update({'transform': raster_crop_meta['transform'],\n",
    "                             'height': raster_crop.shape[1],\n",
    "                             'width': raster_crop.shape[2],\n",
    "                             'nodata': raster_crop.min()}) # <- This is the 'mask' value\n",
    "    \n",
    "    with rio.open(outpath, 'w', **raster_crop_meta) as file:\n",
    "        file.write(raster_crop[0], 1)\n",
    "        \n",
    "    raster_crop = rio.open(outpath)\n",
    "    \n",
    "    return raster_crop"
   ]
  },
  {
   "cell_type": "code",
   "execution_count": 610,
   "metadata": {},
   "outputs": [],
   "source": [
    "## From Earth Engine Catalogue\n",
    "### Level-2 surface reflectance root LANDSAT/LE07/C01/T1_SR\n",
    "### Level-1 TOA reflectance root LANDSAT/LE07/C01/T1_TOA\n",
    "\n",
    "groot = 'https://storage.googleapis.com/gcp-public-data-landsat/'\n",
    "displayid = sc_meta2[0]['displayId']\n",
    "platform = displayid[0:4]\n",
    "key = displayid[10:13]+'/'+displayid[13:16]\n",
    "bands = ['B'+str(i) for i in list(range(1,2))]"
   ]
  },
  {
   "cell_type": "code",
   "execution_count": 611,
   "metadata": {},
   "outputs": [
    {
     "data": {
      "text/plain": [
       "'https://storage.googleapis.com/gcp-public-data-landsat/LE07/01/199/023/LE07_L1TP_199023_20120724_20161130_01_T1/LE07_L1TP_199023_20120724_20161130_01_T1_B1.TIF'"
      ]
     },
     "execution_count": 611,
     "metadata": {},
     "output_type": "execute_result"
    }
   ],
   "source": [
    "# LANDSAT/LE07/C01/T1_SR\n",
    "\n",
    "filepath"
   ]
  },
  {
   "cell_type": "code",
   "execution_count": 617,
   "metadata": {},
   "outputs": [
    {
     "ename": "ValueError",
     "evalue": "Input shapes do not overlap raster.",
     "output_type": "error",
     "traceback": [
      "\u001b[1;31m---------------------------------------------------------------------------\u001b[0m",
      "\u001b[1;31mWindowError\u001b[0m                               Traceback (most recent call last)",
      "\u001b[1;32m~\\Anaconda3\\envs\\geo\\lib\\site-packages\\rasterio\\mask.py\u001b[0m in \u001b[0;36mraster_geometry_mask\u001b[1;34m(dataset, shapes, all_touched, invert, crop, pad, pad_width)\u001b[0m\n\u001b[0;32m     82\u001b[0m     \u001b[1;32mtry\u001b[0m\u001b[1;33m:\u001b[0m\u001b[1;33m\u001b[0m\u001b[1;33m\u001b[0m\u001b[0m\n\u001b[1;32m---> 83\u001b[1;33m         window = geometry_window(dataset, shapes, north_up=north_up, rotated=rotated,\n\u001b[0m\u001b[0;32m     84\u001b[0m                                  pad_x=pad_x, pad_y=pad_y)\n",
      "\u001b[1;32m~\\Anaconda3\\envs\\geo\\lib\\site-packages\\rasterio\\features.py\u001b[0m in \u001b[0;36mgeometry_window\u001b[1;34m(dataset, shapes, pad_x, pad_y, north_up, rotated, pixel_precision)\u001b[0m\n\u001b[0;32m    455\u001b[0m     \u001b[1;31m# This will raise a WindowError if windows do not overlap\u001b[0m\u001b[1;33m\u001b[0m\u001b[1;33m\u001b[0m\u001b[1;33m\u001b[0m\u001b[0m\n\u001b[1;32m--> 456\u001b[1;33m     \u001b[0mwindow\u001b[0m \u001b[1;33m=\u001b[0m \u001b[0mwindow\u001b[0m\u001b[1;33m.\u001b[0m\u001b[0mintersection\u001b[0m\u001b[1;33m(\u001b[0m\u001b[0mraster_window\u001b[0m\u001b[1;33m)\u001b[0m\u001b[1;33m\u001b[0m\u001b[1;33m\u001b[0m\u001b[0m\n\u001b[0m\u001b[0;32m    457\u001b[0m \u001b[1;33m\u001b[0m\u001b[0m\n",
      "\u001b[1;32m~\\Anaconda3\\envs\\geo\\lib\\site-packages\\rasterio\\windows.py\u001b[0m in \u001b[0;36mintersection\u001b[1;34m(self, other)\u001b[0m\n\u001b[0;32m    714\u001b[0m         \"\"\"\n\u001b[1;32m--> 715\u001b[1;33m         \u001b[1;32mreturn\u001b[0m \u001b[0mintersection\u001b[0m\u001b[1;33m(\u001b[0m\u001b[1;33m[\u001b[0m\u001b[0mself\u001b[0m\u001b[1;33m,\u001b[0m \u001b[0mother\u001b[0m\u001b[1;33m]\u001b[0m\u001b[1;33m)\u001b[0m\u001b[1;33m\u001b[0m\u001b[1;33m\u001b[0m\u001b[0m\n\u001b[0m",
      "\u001b[1;32m~\\Anaconda3\\envs\\geo\\lib\\site-packages\\rasterio\\windows.py\u001b[0m in \u001b[0;36mwrapper\u001b[1;34m(*args, **kwargs)\u001b[0m\n\u001b[0;32m    118\u001b[0m         \u001b[1;32mif\u001b[0m \u001b[0mlen\u001b[0m\u001b[1;33m(\u001b[0m\u001b[0margs\u001b[0m\u001b[1;33m)\u001b[0m \u001b[1;33m==\u001b[0m \u001b[1;36m1\u001b[0m \u001b[1;32mand\u001b[0m \u001b[0misinstance\u001b[0m\u001b[1;33m(\u001b[0m\u001b[0margs\u001b[0m\u001b[1;33m[\u001b[0m\u001b[1;36m0\u001b[0m\u001b[1;33m]\u001b[0m\u001b[1;33m,\u001b[0m \u001b[0mIterable\u001b[0m\u001b[1;33m)\u001b[0m\u001b[1;33m:\u001b[0m\u001b[1;33m\u001b[0m\u001b[1;33m\u001b[0m\u001b[0m\n\u001b[1;32m--> 119\u001b[1;33m             \u001b[1;32mreturn\u001b[0m \u001b[0mfunction\u001b[0m\u001b[1;33m(\u001b[0m\u001b[1;33m*\u001b[0m\u001b[0margs\u001b[0m\u001b[1;33m[\u001b[0m\u001b[1;36m0\u001b[0m\u001b[1;33m]\u001b[0m\u001b[1;33m)\u001b[0m\u001b[1;33m\u001b[0m\u001b[1;33m\u001b[0m\u001b[0m\n\u001b[0m\u001b[0;32m    120\u001b[0m         \u001b[1;32melse\u001b[0m\u001b[1;33m:\u001b[0m\u001b[1;33m\u001b[0m\u001b[1;33m\u001b[0m\u001b[0m\n",
      "\u001b[1;32m~\\Anaconda3\\envs\\geo\\lib\\site-packages\\rasterio\\windows.py\u001b[0m in \u001b[0;36mintersection\u001b[1;34m(*windows)\u001b[0m\n\u001b[0;32m    216\u001b[0m     \u001b[1;32mif\u001b[0m \u001b[1;32mnot\u001b[0m \u001b[0mintersect\u001b[0m\u001b[1;33m(\u001b[0m\u001b[0mwindows\u001b[0m\u001b[1;33m)\u001b[0m\u001b[1;33m:\u001b[0m\u001b[1;33m\u001b[0m\u001b[1;33m\u001b[0m\u001b[0m\n\u001b[1;32m--> 217\u001b[1;33m         \u001b[1;32mraise\u001b[0m \u001b[0mWindowError\u001b[0m\u001b[1;33m(\u001b[0m\u001b[1;34m\"windows do not intersect\"\u001b[0m\u001b[1;33m)\u001b[0m\u001b[1;33m\u001b[0m\u001b[1;33m\u001b[0m\u001b[0m\n\u001b[0m\u001b[0;32m    218\u001b[0m \u001b[1;33m\u001b[0m\u001b[0m\n",
      "\u001b[1;31mWindowError\u001b[0m: windows do not intersect",
      "\nDuring handling of the above exception, another exception occurred:\n",
      "\u001b[1;31mValueError\u001b[0m                                Traceback (most recent call last)",
      "\u001b[1;32m<ipython-input-617-e3d68aca10b8>\u001b[0m in \u001b[0;36m<module>\u001b[1;34m\u001b[0m\n\u001b[0;32m     13\u001b[0m     \u001b[0mpolygon_geom\u001b[0m \u001b[1;33m=\u001b[0m \u001b[0mpolygon\u001b[0m\u001b[1;33m.\u001b[0m\u001b[0mloc\u001b[0m\u001b[1;33m[\u001b[0m\u001b[1;36m0\u001b[0m\u001b[1;33m,\u001b[0m \u001b[1;34m'geometry'\u001b[0m\u001b[1;33m]\u001b[0m\u001b[1;33m\u001b[0m\u001b[1;33m\u001b[0m\u001b[0m\n\u001b[0;32m     14\u001b[0m \u001b[1;33m\u001b[0m\u001b[0m\n\u001b[1;32m---> 15\u001b[1;33m     \u001b[0mcropped\u001b[0m \u001b[1;33m=\u001b[0m \u001b[0mcropper\u001b[0m\u001b[1;33m(\u001b[0m\u001b[0msrc\u001b[0m\u001b[1;33m,\u001b[0m \u001b[0mpolygon_geom\u001b[0m\u001b[1;33m,\u001b[0m \u001b[1;34m'./Landsat/Cropped/'\u001b[0m\u001b[1;33m+\u001b[0m\u001b[0mstr\u001b[0m\u001b[1;33m(\u001b[0m\u001b[0mscid\u001b[0m\u001b[1;33m)\u001b[0m\u001b[1;33m+\u001b[0m\u001b[1;34m'_'\u001b[0m\u001b[1;33m+\u001b[0m\u001b[0mstr\u001b[0m\u001b[1;33m(\u001b[0m\u001b[0mband\u001b[0m\u001b[1;33m)\u001b[0m\u001b[1;33m+\u001b[0m\u001b[1;34m'.TIF'\u001b[0m\u001b[1;33m)\u001b[0m\u001b[1;33m\u001b[0m\u001b[1;33m\u001b[0m\u001b[0m\n\u001b[0m\u001b[0;32m     16\u001b[0m \u001b[1;33m\u001b[0m\u001b[0m\n\u001b[0;32m     17\u001b[0m     \u001b[0mtime\u001b[0m\u001b[1;33m.\u001b[0m\u001b[0msleep\u001b[0m\u001b[1;33m(\u001b[0m\u001b[1;36m4\u001b[0m\u001b[1;33m)\u001b[0m\u001b[1;33m\u001b[0m\u001b[1;33m\u001b[0m\u001b[0m\n",
      "\u001b[1;32m<ipython-input-609-9afce3f0565b>\u001b[0m in \u001b[0;36mcropper\u001b[1;34m(raster, geoms, outpath)\u001b[0m\n\u001b[0;32m      9\u001b[0m \u001b[1;33m\u001b[0m\u001b[0m\n\u001b[0;32m     10\u001b[0m     \u001b[1;31m## Next we crop the image\u001b[0m\u001b[1;33m\u001b[0m\u001b[1;33m\u001b[0m\u001b[1;33m\u001b[0m\u001b[0m\n\u001b[1;32m---> 11\u001b[1;33m     \u001b[0mraster_crop\u001b[0m\u001b[1;33m,\u001b[0m \u001b[0mraster_crop_meta\u001b[0m \u001b[1;33m=\u001b[0m \u001b[0mes\u001b[0m\u001b[1;33m.\u001b[0m\u001b[0mcrop_image\u001b[0m\u001b[1;33m(\u001b[0m\u001b[0mraster\u001b[0m\u001b[1;33m,\u001b[0m \u001b[0mgeoms\u001b[0m\u001b[1;33m)\u001b[0m\u001b[1;33m\u001b[0m\u001b[1;33m\u001b[0m\u001b[0m\n\u001b[0m\u001b[0;32m     12\u001b[0m \u001b[1;33m\u001b[0m\u001b[0m\n\u001b[0;32m     13\u001b[0m     \u001b[1;31m## We now need to update the metadata with the spatial data\u001b[0m\u001b[1;33m\u001b[0m\u001b[1;33m\u001b[0m\u001b[1;33m\u001b[0m\u001b[0m\n",
      "\u001b[1;32m~\\Anaconda3\\envs\\geo\\lib\\site-packages\\earthpy\\spatial.py\u001b[0m in \u001b[0;36mcrop_image\u001b[1;34m(raster, geoms, all_touched)\u001b[0m\n\u001b[0;32m    378\u001b[0m     \u001b[1;32melse\u001b[0m\u001b[1;33m:\u001b[0m\u001b[1;33m\u001b[0m\u001b[1;33m\u001b[0m\u001b[0m\n\u001b[0;32m    379\u001b[0m         \u001b[0mclip_extent\u001b[0m \u001b[1;33m=\u001b[0m \u001b[0mgeoms\u001b[0m\u001b[1;33m\u001b[0m\u001b[1;33m\u001b[0m\u001b[0m\n\u001b[1;32m--> 380\u001b[1;33m     out_image, out_transform = mask(\n\u001b[0m\u001b[0;32m    381\u001b[0m         \u001b[0mraster\u001b[0m\u001b[1;33m,\u001b[0m \u001b[0mclip_extent\u001b[0m\u001b[1;33m,\u001b[0m \u001b[0mcrop\u001b[0m\u001b[1;33m=\u001b[0m\u001b[1;32mTrue\u001b[0m\u001b[1;33m,\u001b[0m \u001b[0mall_touched\u001b[0m\u001b[1;33m=\u001b[0m\u001b[0mall_touched\u001b[0m\u001b[1;33m\u001b[0m\u001b[1;33m\u001b[0m\u001b[0m\n\u001b[0;32m    382\u001b[0m     )\n",
      "\u001b[1;32m~\\Anaconda3\\envs\\geo\\lib\\site-packages\\rasterio\\mask.py\u001b[0m in \u001b[0;36mmask\u001b[1;34m(dataset, shapes, all_touched, invert, nodata, filled, crop, pad, pad_width, indexes)\u001b[0m\n\u001b[0;32m    180\u001b[0m             \u001b[0mnodata\u001b[0m \u001b[1;33m=\u001b[0m \u001b[1;36m0\u001b[0m\u001b[1;33m\u001b[0m\u001b[1;33m\u001b[0m\u001b[0m\n\u001b[0;32m    181\u001b[0m \u001b[1;33m\u001b[0m\u001b[0m\n\u001b[1;32m--> 182\u001b[1;33m     shape_mask, transform, window = raster_geometry_mask(\n\u001b[0m\u001b[0;32m    183\u001b[0m         \u001b[0mdataset\u001b[0m\u001b[1;33m,\u001b[0m \u001b[0mshapes\u001b[0m\u001b[1;33m,\u001b[0m \u001b[0mall_touched\u001b[0m\u001b[1;33m=\u001b[0m\u001b[0mall_touched\u001b[0m\u001b[1;33m,\u001b[0m \u001b[0minvert\u001b[0m\u001b[1;33m=\u001b[0m\u001b[0minvert\u001b[0m\u001b[1;33m,\u001b[0m \u001b[0mcrop\u001b[0m\u001b[1;33m=\u001b[0m\u001b[0mcrop\u001b[0m\u001b[1;33m,\u001b[0m\u001b[1;33m\u001b[0m\u001b[1;33m\u001b[0m\u001b[0m\n\u001b[0;32m    184\u001b[0m         pad=pad, pad_width=pad_width)\n",
      "\u001b[1;32m~\\Anaconda3\\envs\\geo\\lib\\site-packages\\rasterio\\mask.py\u001b[0m in \u001b[0;36mraster_geometry_mask\u001b[1;34m(dataset, shapes, all_touched, invert, crop, pad, pad_width)\u001b[0m\n\u001b[0;32m     88\u001b[0m         \u001b[1;31m# depending on value of crop\u001b[0m\u001b[1;33m\u001b[0m\u001b[1;33m\u001b[0m\u001b[1;33m\u001b[0m\u001b[0m\n\u001b[0;32m     89\u001b[0m         \u001b[1;32mif\u001b[0m \u001b[0mcrop\u001b[0m\u001b[1;33m:\u001b[0m\u001b[1;33m\u001b[0m\u001b[1;33m\u001b[0m\u001b[0m\n\u001b[1;32m---> 90\u001b[1;33m             \u001b[1;32mraise\u001b[0m \u001b[0mValueError\u001b[0m\u001b[1;33m(\u001b[0m\u001b[1;34m'Input shapes do not overlap raster.'\u001b[0m\u001b[1;33m)\u001b[0m\u001b[1;33m\u001b[0m\u001b[1;33m\u001b[0m\u001b[0m\n\u001b[0m\u001b[0;32m     91\u001b[0m         \u001b[1;32melse\u001b[0m\u001b[1;33m:\u001b[0m\u001b[1;33m\u001b[0m\u001b[1;33m\u001b[0m\u001b[0m\n\u001b[0;32m     92\u001b[0m             warnings.warn('shapes are outside bounds of raster. '\n",
      "\u001b[1;31mValueError\u001b[0m: Input shapes do not overlap raster."
     ]
    }
   ],
   "source": [
    "scids = [sc_meta[0]['displayId']]\n",
    "\n",
    "#### ADD SITE TO FOR LOOP ID TO RASTER WRITE\n",
    "\n",
    "for band,scid in zip(bands,scids*len(bands)):\n",
    "    \n",
    "    ## construct source url\n",
    "    filepath = groot+platform+'/01/'+key+'/'+displayid+'/'+displayid+'_'+band+'.TIF'\n",
    "    \n",
    "    src = rio.open(filepath)\n",
    "\n",
    "    polygon = polygon.to_crs(src.crs)\n",
    "    polygon_geom = polygon.loc[0, 'geometry']\n",
    "\n",
    "    cropped = cropper(src, polygon_geom, './Landsat/Cropped/'+str(scid)+'_'+str(band)+'.TIF')\n",
    "    \n",
    "    time.sleep(4)\n",
    "    \n",
    "    #dl_window = rio.features.geometry_window(ras,polygon)"
   ]
  },
  {
   "cell_type": "code",
   "execution_count": 330,
   "metadata": {},
   "outputs": [
    {
     "data": {
      "image/png": "[encoded data removed]",
      "text/plain": [
       "<Figure size 1200x450 with 1 Axes>"
      ]
     },
     "metadata": {
      "needs_background": "light"
     },
     "output_type": "display_data"
    }
   ],
   "source": [
    "fig, ax = plt.subplots(dpi=150, figsize =(8, 3))\n",
    "\n",
    "show(cropped, ax=ax)\n",
    "#polygon.plot(alpha=0.25, color='white', ax=ax) # We plot both the filled in polygon\n",
    "ax.plot(*polygon_geom.exterior.xy, color='k', linewidth=1) # And add a darker border\n",
    "\n",
    "ax.set_axis_off()"
   ]
  },
  {
   "cell_type": "markdown",
   "metadata": {},
   "source": [
    "### Save local file version with downloaded setting"
   ]
  },
  {
   "cell_type": "code",
   "execution_count": null,
   "metadata": {},
   "outputs": [],
   "source": [
    "localname = 'LC08_L1TP_042034_20170616_20170629_01_T1_NDVI_OVIEW.tif'\n",
    "\n",
    "with rasterio.open(url+nirband) as src:\n",
    "    profile = src.profile.copy()\n",
    "\n",
    "    aff = src.transform\n",
    "    newaff = rasterio.Affine(aff.a * oview, aff.b, aff.c,\n",
    "                             aff.d, aff.e * oview, aff.f)\n",
    "    profile.update({\n",
    "            'dtype': 'float32',\n",
    "            'height': ndvi.shape[0],\n",
    "            'width': ndvi.shape[1],\n",
    "            'transform': newaff})  \n",
    "\n",
    "    with rasterio.open(localname, 'w', **profile) as dst:\n",
    "        dst.write_band(1, ndvi)"
   ]
  },
  {
   "cell_type": "markdown",
   "metadata": {},
   "source": [
    "### Plot raster\n",
    "\n",
    "https://geohackweek.github.io/raster/04-workingwithrasters/"
   ]
  },
  {
   "cell_type": "code",
   "execution_count": 170,
   "metadata": {},
   "outputs": [
    {
     "name": "stderr",
     "output_type": "stream",
     "text": [
      "Clipping input data to the valid range for imshow with RGB data ([0..1] for floats or [0..255] for integers).\n"
     ]
    },
    {
     "data": {
      "image/png": "[encoded data removed]",
      "text/plain": [
       "<Figure size 432x288 with 1 Axes>"
      ]
     },
     "metadata": {
      "needs_background": "light"
     },
     "output_type": "display_data"
    }
   ],
   "source": [
    "import matplotlib.image as mpimg\n",
    "\n",
    "b1 = rio.open('./Landsat/Cropped/LC08_L1TP_207024_20170503_20170515_01_T1_B1.tif')\n",
    "b2 = rio.open('./Landsat/Cropped/LC08_L1TP_207024_20170503_20170515_01_T1_B2.tif')\n",
    "b3 = rio.open('./Landsat/Cropped/LC08_L1TP_207024_20170503_20170515_01_T1_B3.tif')\n",
    "\n",
    "b1 = b1.read(1)\n",
    "b2 = b2.read(1)\n",
    "b3 = b3.read(1)\n",
    "\n",
    "rgb = np.dstack((b1,b2,b3))\n",
    "    \n",
    "plt.title(str(scid))\n",
    "plt.imshow(rgb,vmin=25)\n",
    "\n",
    "plt.show()"
   ]
  },
  {
   "cell_type": "code",
   "execution_count": 249,
   "metadata": {},
   "outputs": [
    {
     "data": {
      "text/plain": [
       "<matplotlib.axes._subplots.AxesSubplot at 0x22b74b80>"
      ]
     },
     "execution_count": 249,
     "metadata": {},
     "output_type": "execute_result"
    },
    {
     "data": {
      "image/png": "[encoded data removed]",
      "text/plain": [
       "<Figure size 432x288 with 1 Axes>"
      ]
     },
     "metadata": {
      "needs_background": "light"
     },
     "output_type": "display_data"
    }
   ],
   "source": [
    "### 65,536 for 16-bit\n",
    "\n",
    "import seaborn as sn\n",
    "\n",
    "sn.distplot(rgb[rgb>0],bins=100)"
   ]
  },
  {
   "cell_type": "markdown",
   "metadata": {},
   "source": [
    "### Look at netCFD xarray"
   ]
  },
  {
   "cell_type": "code",
   "execution_count": 72,
   "metadata": {},
   "outputs": [
    {
     "name": "stdout",
     "output_type": "stream",
     "text": [
      "{'type': 'Polygon', 'coordinates': [[[12.413911, 48.424506], [12.509558, 46.436713], [15.7321, 46.461493], [15.760251, 48.451062], [12.413911, 48.424506]]]}\n"
     ]
    }
   ],
   "source": [
    "with rio.open(filepath) as src:\n",
    "\n",
    "    # Read the src's valid data mask as a ndarray.\n",
    "    mask = src.dataset_mask()\n",
    "\n",
    "    # Extract feature shapes and values from the array.\n",
    "    for geom, val in rio.features.shapes(\n",
    "            mask, transform=src.transform):\n",
    "\n",
    "        # Transform shapes from the src's own coordinate\n",
    "        # reference system to CRS84 (EPSG:4326).\n",
    "        geom = rio.warp.transform_geom(\n",
    "            src.crs, 'EPSG:4326', geom, precision=6)\n",
    "\n",
    "        # Print GeoJSON shapes to stdout.\n",
    "        print(geom)"
   ]
  },
  {
   "cell_type": "code",
   "execution_count": 323,
   "metadata": {},
   "outputs": [],
   "source": [
    "sc_meta2 = pickle.load(open('./Landsat/Scenes/scene_'+'LE71990232012206ASN00.p',\"rb\"))"
   ]
  },
  {
   "cell_type": "markdown",
   "metadata": {},
   "source": [
    "### Testing Google EE\n",
    "\n",
    "root format for Top of Atmosphere (TOA) and Surface Reflectance (SR) LANDSAT/LE07/C01/T1_SR"
   ]
  },
  {
   "cell_type": "code",
   "execution_count": 497,
   "metadata": {},
   "outputs": [],
   "source": [
    "import ee\n",
    "ee.Initialize()"
   ]
  },
  {
   "cell_type": "code",
   "execution_count": 566,
   "metadata": {},
   "outputs": [
    {
     "data": {
      "text/plain": [
       "'LE07_L1TP_199023_20120724_20161130_01_T1'"
      ]
     },
     "execution_count": 566,
     "metadata": {},
     "output_type": "execute_result"
    }
   ],
   "source": [
    "sc_meta2[0]['displayId']"
   ]
  },
  {
   "cell_type": "code",
   "execution_count": 560,
   "metadata": {},
   "outputs": [],
   "source": [
    "img =  'LANDSAT/LC08/C01/T1_SR/LC08_044034_20140318'  #'LANDSAT/LC08/C01/T1/LE71990232012206ASN00'"
   ]
  },
  {
   "cell_type": "markdown",
   "metadata": {},
   "source": [
    "### Test export from EE"
   ]
  },
  {
   "cell_type": "code",
   "execution_count": 632,
   "metadata": {},
   "outputs": [],
   "source": [
    "from geetools import batch\n",
    "import ee\n",
    "\n",
    "\n",
    "col = ee.Image(img)\n",
    "export = batch.Export.image.toDrive(col,'./Landsat/Cropped/', scale=30)\n",
    "\n",
    "#region = ee.Geometry.Polygon(polygon)\n",
    "    \n",
    "# dataset = ee.Image(img) #\\\n",
    "#     #.filterBounds(region) \\\n",
    "#     #.map(_mask_l8_sr)\n",
    "\n",
    "# task = ee.batch.Export.image.toLocal(image=dataset,\n",
    "#                                      description=\"test\",\n",
    "#                                      folder='./Landsat/Cropped/',\n",
    "#                                      #region=region['coordinates'],\n",
    "#                                      scale=30,\n",
    "#                                      fileFormat='GeoTIFF',\n",
    "#                                      skipEmptyTiles=False)\n",
    "# task.start()\n"
   ]
  },
  {
   "cell_type": "code",
   "execution_count": 633,
   "metadata": {},
   "outputs": [
    {
     "data": {
      "text/plain": [
       "<Task EXPORT_IMAGE: ./Landsat/Cropped/ (UNSUBMITTED)>"
      ]
     },
     "execution_count": 633,
     "metadata": {},
     "output_type": "execute_result"
    }
   ],
   "source": [
    "export"
   ]
  },
  {
   "cell_type": "code",
   "execution_count": 585,
   "metadata": {},
   "outputs": [
    {
     "ename": "ValueError",
     "evalue": "Input shapes do not overlap raster.",
     "output_type": "error",
     "traceback": [
      "\u001b[1;31m---------------------------------------------------------------------------\u001b[0m",
      "\u001b[1;31mWindowError\u001b[0m                               Traceback (most recent call last)",
      "\u001b[1;32m~\\Anaconda3\\envs\\geo\\lib\\site-packages\\rasterio\\mask.py\u001b[0m in \u001b[0;36mraster_geometry_mask\u001b[1;34m(dataset, shapes, all_touched, invert, crop, pad, pad_width)\u001b[0m\n\u001b[0;32m     82\u001b[0m     \u001b[1;32mtry\u001b[0m\u001b[1;33m:\u001b[0m\u001b[1;33m\u001b[0m\u001b[1;33m\u001b[0m\u001b[0m\n\u001b[1;32m---> 83\u001b[1;33m         window = geometry_window(dataset, shapes, north_up=north_up, rotated=rotated,\n\u001b[0m\u001b[0;32m     84\u001b[0m                                  pad_x=pad_x, pad_y=pad_y)\n",
      "\u001b[1;32m~\\Anaconda3\\envs\\geo\\lib\\site-packages\\rasterio\\features.py\u001b[0m in \u001b[0;36mgeometry_window\u001b[1;34m(dataset, shapes, pad_x, pad_y, north_up, rotated, pixel_precision)\u001b[0m\n\u001b[0;32m    455\u001b[0m     \u001b[1;31m# This will raise a WindowError if windows do not overlap\u001b[0m\u001b[1;33m\u001b[0m\u001b[1;33m\u001b[0m\u001b[1;33m\u001b[0m\u001b[0m\n\u001b[1;32m--> 456\u001b[1;33m     \u001b[0mwindow\u001b[0m \u001b[1;33m=\u001b[0m \u001b[0mwindow\u001b[0m\u001b[1;33m.\u001b[0m\u001b[0mintersection\u001b[0m\u001b[1;33m(\u001b[0m\u001b[0mraster_window\u001b[0m\u001b[1;33m)\u001b[0m\u001b[1;33m\u001b[0m\u001b[1;33m\u001b[0m\u001b[0m\n\u001b[0m\u001b[0;32m    457\u001b[0m \u001b[1;33m\u001b[0m\u001b[0m\n",
      "\u001b[1;32m~\\Anaconda3\\envs\\geo\\lib\\site-packages\\rasterio\\windows.py\u001b[0m in \u001b[0;36mintersection\u001b[1;34m(self, other)\u001b[0m\n\u001b[0;32m    714\u001b[0m         \"\"\"\n\u001b[1;32m--> 715\u001b[1;33m         \u001b[1;32mreturn\u001b[0m \u001b[0mintersection\u001b[0m\u001b[1;33m(\u001b[0m\u001b[1;33m[\u001b[0m\u001b[0mself\u001b[0m\u001b[1;33m,\u001b[0m \u001b[0mother\u001b[0m\u001b[1;33m]\u001b[0m\u001b[1;33m)\u001b[0m\u001b[1;33m\u001b[0m\u001b[1;33m\u001b[0m\u001b[0m\n\u001b[0m",
      "\u001b[1;32m~\\Anaconda3\\envs\\geo\\lib\\site-packages\\rasterio\\windows.py\u001b[0m in \u001b[0;36mwrapper\u001b[1;34m(*args, **kwargs)\u001b[0m\n\u001b[0;32m    118\u001b[0m         \u001b[1;32mif\u001b[0m \u001b[0mlen\u001b[0m\u001b[1;33m(\u001b[0m\u001b[0margs\u001b[0m\u001b[1;33m)\u001b[0m \u001b[1;33m==\u001b[0m \u001b[1;36m1\u001b[0m \u001b[1;32mand\u001b[0m \u001b[0misinstance\u001b[0m\u001b[1;33m(\u001b[0m\u001b[0margs\u001b[0m\u001b[1;33m[\u001b[0m\u001b[1;36m0\u001b[0m\u001b[1;33m]\u001b[0m\u001b[1;33m,\u001b[0m \u001b[0mIterable\u001b[0m\u001b[1;33m)\u001b[0m\u001b[1;33m:\u001b[0m\u001b[1;33m\u001b[0m\u001b[1;33m\u001b[0m\u001b[0m\n\u001b[1;32m--> 119\u001b[1;33m             \u001b[1;32mreturn\u001b[0m \u001b[0mfunction\u001b[0m\u001b[1;33m(\u001b[0m\u001b[1;33m*\u001b[0m\u001b[0margs\u001b[0m\u001b[1;33m[\u001b[0m\u001b[1;36m0\u001b[0m\u001b[1;33m]\u001b[0m\u001b[1;33m)\u001b[0m\u001b[1;33m\u001b[0m\u001b[1;33m\u001b[0m\u001b[0m\n\u001b[0m\u001b[0;32m    120\u001b[0m         \u001b[1;32melse\u001b[0m\u001b[1;33m:\u001b[0m\u001b[1;33m\u001b[0m\u001b[1;33m\u001b[0m\u001b[0m\n",
      "\u001b[1;32m~\\Anaconda3\\envs\\geo\\lib\\site-packages\\rasterio\\windows.py\u001b[0m in \u001b[0;36mintersection\u001b[1;34m(*windows)\u001b[0m\n\u001b[0;32m    216\u001b[0m     \u001b[1;32mif\u001b[0m \u001b[1;32mnot\u001b[0m \u001b[0mintersect\u001b[0m\u001b[1;33m(\u001b[0m\u001b[0mwindows\u001b[0m\u001b[1;33m)\u001b[0m\u001b[1;33m:\u001b[0m\u001b[1;33m\u001b[0m\u001b[1;33m\u001b[0m\u001b[0m\n\u001b[1;32m--> 217\u001b[1;33m         \u001b[1;32mraise\u001b[0m \u001b[0mWindowError\u001b[0m\u001b[1;33m(\u001b[0m\u001b[1;34m\"windows do not intersect\"\u001b[0m\u001b[1;33m)\u001b[0m\u001b[1;33m\u001b[0m\u001b[1;33m\u001b[0m\u001b[0m\n\u001b[0m\u001b[0;32m    218\u001b[0m \u001b[1;33m\u001b[0m\u001b[0m\n",
      "\u001b[1;31mWindowError\u001b[0m: windows do not intersect",
      "\nDuring handling of the above exception, another exception occurred:\n",
      "\u001b[1;31mValueError\u001b[0m                                Traceback (most recent call last)",
      "\u001b[1;32m<ipython-input-585-18e195202f1b>\u001b[0m in \u001b[0;36m<module>\u001b[1;34m\u001b[0m\n\u001b[0;32m     11\u001b[0m \u001b[0mpolygon_geom\u001b[0m \u001b[1;33m=\u001b[0m \u001b[0mpolygon_reproj\u001b[0m\u001b[1;33m.\u001b[0m\u001b[0mloc\u001b[0m\u001b[1;33m[\u001b[0m\u001b[1;36m0\u001b[0m\u001b[1;33m,\u001b[0m \u001b[1;34m'geometry'\u001b[0m\u001b[1;33m]\u001b[0m\u001b[1;33m\u001b[0m\u001b[1;33m\u001b[0m\u001b[0m\n\u001b[0;32m     12\u001b[0m \u001b[1;33m\u001b[0m\u001b[0m\n\u001b[1;32m---> 13\u001b[1;33m \u001b[0mcropped\u001b[0m \u001b[1;33m=\u001b[0m \u001b[0mcropper\u001b[0m\u001b[1;33m(\u001b[0m\u001b[0msrc\u001b[0m\u001b[1;33m,\u001b[0m \u001b[0mpolygon_geom\u001b[0m\u001b[1;33m,\u001b[0m \u001b[1;34m'./Landsat/Cropped/test.TIF'\u001b[0m\u001b[1;33m)\u001b[0m\u001b[1;33m\u001b[0m\u001b[1;33m\u001b[0m\u001b[0m\n\u001b[0m",
      "\u001b[1;32m<ipython-input-234-9afce3f0565b>\u001b[0m in \u001b[0;36mcropper\u001b[1;34m(raster, geoms, outpath)\u001b[0m\n\u001b[0;32m      9\u001b[0m \u001b[1;33m\u001b[0m\u001b[0m\n\u001b[0;32m     10\u001b[0m     \u001b[1;31m## Next we crop the image\u001b[0m\u001b[1;33m\u001b[0m\u001b[1;33m\u001b[0m\u001b[1;33m\u001b[0m\u001b[0m\n\u001b[1;32m---> 11\u001b[1;33m     \u001b[0mraster_crop\u001b[0m\u001b[1;33m,\u001b[0m \u001b[0mraster_crop_meta\u001b[0m \u001b[1;33m=\u001b[0m \u001b[0mes\u001b[0m\u001b[1;33m.\u001b[0m\u001b[0mcrop_image\u001b[0m\u001b[1;33m(\u001b[0m\u001b[0mraster\u001b[0m\u001b[1;33m,\u001b[0m \u001b[0mgeoms\u001b[0m\u001b[1;33m)\u001b[0m\u001b[1;33m\u001b[0m\u001b[1;33m\u001b[0m\u001b[0m\n\u001b[0m\u001b[0;32m     12\u001b[0m \u001b[1;33m\u001b[0m\u001b[0m\n\u001b[0;32m     13\u001b[0m     \u001b[1;31m## We now need to update the metadata with the spatial data\u001b[0m\u001b[1;33m\u001b[0m\u001b[1;33m\u001b[0m\u001b[1;33m\u001b[0m\u001b[0m\n",
      "\u001b[1;32m~\\Anaconda3\\envs\\geo\\lib\\site-packages\\earthpy\\spatial.py\u001b[0m in \u001b[0;36mcrop_image\u001b[1;34m(raster, geoms, all_touched)\u001b[0m\n\u001b[0;32m    378\u001b[0m     \u001b[1;32melse\u001b[0m\u001b[1;33m:\u001b[0m\u001b[1;33m\u001b[0m\u001b[1;33m\u001b[0m\u001b[0m\n\u001b[0;32m    379\u001b[0m         \u001b[0mclip_extent\u001b[0m \u001b[1;33m=\u001b[0m \u001b[0mgeoms\u001b[0m\u001b[1;33m\u001b[0m\u001b[1;33m\u001b[0m\u001b[0m\n\u001b[1;32m--> 380\u001b[1;33m     out_image, out_transform = mask(\n\u001b[0m\u001b[0;32m    381\u001b[0m         \u001b[0mraster\u001b[0m\u001b[1;33m,\u001b[0m \u001b[0mclip_extent\u001b[0m\u001b[1;33m,\u001b[0m \u001b[0mcrop\u001b[0m\u001b[1;33m=\u001b[0m\u001b[1;32mTrue\u001b[0m\u001b[1;33m,\u001b[0m \u001b[0mall_touched\u001b[0m\u001b[1;33m=\u001b[0m\u001b[0mall_touched\u001b[0m\u001b[1;33m\u001b[0m\u001b[1;33m\u001b[0m\u001b[0m\n\u001b[0;32m    382\u001b[0m     )\n",
      "\u001b[1;32m~\\Anaconda3\\envs\\geo\\lib\\site-packages\\rasterio\\mask.py\u001b[0m in \u001b[0;36mmask\u001b[1;34m(dataset, shapes, all_touched, invert, nodata, filled, crop, pad, pad_width, indexes)\u001b[0m\n\u001b[0;32m    180\u001b[0m             \u001b[0mnodata\u001b[0m \u001b[1;33m=\u001b[0m \u001b[1;36m0\u001b[0m\u001b[1;33m\u001b[0m\u001b[1;33m\u001b[0m\u001b[0m\n\u001b[0;32m    181\u001b[0m \u001b[1;33m\u001b[0m\u001b[0m\n\u001b[1;32m--> 182\u001b[1;33m     shape_mask, transform, window = raster_geometry_mask(\n\u001b[0m\u001b[0;32m    183\u001b[0m         \u001b[0mdataset\u001b[0m\u001b[1;33m,\u001b[0m \u001b[0mshapes\u001b[0m\u001b[1;33m,\u001b[0m \u001b[0mall_touched\u001b[0m\u001b[1;33m=\u001b[0m\u001b[0mall_touched\u001b[0m\u001b[1;33m,\u001b[0m \u001b[0minvert\u001b[0m\u001b[1;33m=\u001b[0m\u001b[0minvert\u001b[0m\u001b[1;33m,\u001b[0m \u001b[0mcrop\u001b[0m\u001b[1;33m=\u001b[0m\u001b[0mcrop\u001b[0m\u001b[1;33m,\u001b[0m\u001b[1;33m\u001b[0m\u001b[1;33m\u001b[0m\u001b[0m\n\u001b[0;32m    184\u001b[0m         pad=pad, pad_width=pad_width)\n",
      "\u001b[1;32m~\\Anaconda3\\envs\\geo\\lib\\site-packages\\rasterio\\mask.py\u001b[0m in \u001b[0;36mraster_geometry_mask\u001b[1;34m(dataset, shapes, all_touched, invert, crop, pad, pad_width)\u001b[0m\n\u001b[0;32m     88\u001b[0m         \u001b[1;31m# depending on value of crop\u001b[0m\u001b[1;33m\u001b[0m\u001b[1;33m\u001b[0m\u001b[1;33m\u001b[0m\u001b[0m\n\u001b[0;32m     89\u001b[0m         \u001b[1;32mif\u001b[0m \u001b[0mcrop\u001b[0m\u001b[1;33m:\u001b[0m\u001b[1;33m\u001b[0m\u001b[1;33m\u001b[0m\u001b[0m\n\u001b[1;32m---> 90\u001b[1;33m             \u001b[1;32mraise\u001b[0m \u001b[0mValueError\u001b[0m\u001b[1;33m(\u001b[0m\u001b[1;34m'Input shapes do not overlap raster.'\u001b[0m\u001b[1;33m)\u001b[0m\u001b[1;33m\u001b[0m\u001b[1;33m\u001b[0m\u001b[0m\n\u001b[0m\u001b[0;32m     91\u001b[0m         \u001b[1;32melse\u001b[0m\u001b[1;33m:\u001b[0m\u001b[1;33m\u001b[0m\u001b[1;33m\u001b[0m\u001b[0m\n\u001b[0;32m     92\u001b[0m             warnings.warn('shapes are outside bounds of raster. '\n",
      "\u001b[1;31mValueError\u001b[0m: Input shapes do not overlap raster."
     ]
    }
   ],
   "source": [
    "import matplotlib.image as mpimg\n",
    "\n",
    "polygon = gp.read_file(\"./Shapefiles/brin.shp\")\n",
    "polygon = polygon.to_crs(dll.crs)\n",
    "\n",
    "filepath = './Landsat/test.tif'\n",
    "\n",
    "src = rio.open(filepath)\n",
    "\n",
    "polygon_reproj = polygon.to_crs(src.crs)\n",
    "polygon_geom = polygon_reproj.loc[0, 'geometry']\n",
    "\n",
    "cropped = cropper(src, polygon_geom, './Landsat/Cropped/test.TIF')\n"
   ]
  },
  {
   "cell_type": "code",
   "execution_count": 613,
   "metadata": {},
   "outputs": [],
   "source": [
    "polygon_reproj = polygon.to_crs(src.crs)"
   ]
  },
  {
   "cell_type": "code",
   "execution_count": 614,
   "metadata": {},
   "outputs": [
    {
     "data": {
      "image/png": "[encoded data removed]",
      "text/plain": [
       "<Figure size 1200x450 with 1 Axes>"
      ]
     },
     "metadata": {
      "needs_background": "light"
     },
     "output_type": "display_data"
    }
   ],
   "source": [
    "fig, ax = plt.subplots(dpi=150, figsize =(8, 3))\n",
    "\n",
    "show(src, ax=ax)\n",
    "#polygon.plot(alpha=0.25, color='white', ax=ax) # We plot both the filled in polygon\n",
    "ax.plot(*polygon_geom.exterior.xy, color='k', linewidth=1) # And add a darker border\n",
    "\n",
    "ax.set_axis_off()"
   ]
  },
  {
   "cell_type": "code",
   "execution_count": 665,
   "metadata": {},
   "outputs": [],
   "source": [
    "import requests\n",
    "import xmltodict\n",
    "\n",
    "user = 'clement.attwood.18@ucl.ac.uk'\n",
    "password = 'm9.iETxKMtZ6B,q'\n",
    "\n",
    "scene = sc_meta[0]['displayId']\n",
    "url = 'https://earthexplorer.usgs.gov/inventory/json/v/1.4.1/available-products/'\n",
    "\n",
    "\n",
    "# r = requests.get('user':user+':'+password,url,params=PARAM)\n",
    "# data = r.text\n",
    "\n",
    "# r_dict = xmltodict.parse(r.text)#['response']['responseBody']['responseList']['item']\n",
    "# df = pd.DataFrame(r_dict)\n",
    "# df.head(),df.tail()"
   ]
  },
  {
   "cell_type": "code",
   "execution_count": 685,
   "metadata": {},
   "outputs": [],
   "source": [
    "r = requests.get('https://espa.cr.usgs.gov/api/v0/available-products/LE07_L1TP_027027_20160730_20160831_01_T1', auth=(user, password))"
   ]
  },
  {
   "cell_type": "markdown",
   "metadata": {},
   "source": [
    "---\n",
    "\n",
    "<br>\n",
    "\n",
    "## Using ESPA API\n",
    "\n",
    "<br>"
   ]
  },
  {
   "cell_type": "markdown",
   "metadata": {},
   "source": [
    "### Create list of scenes for download"
   ]
  },
  {
   "cell_type": "code",
   "execution_count": 57,
   "metadata": {},
   "outputs": [
    {
     "data": {
      "text/plain": [
       "<matplotlib.axes._subplots.AxesSubplot at 0xd3a7070>"
      ]
     },
     "execution_count": 57,
     "metadata": {},
     "output_type": "execute_result"
    },
    {
     "data": {
      "image/png": "[encoded data removed]",
      "text/plain": [
       "<Figure size 432x288 with 1 Axes>"
      ]
     },
     "metadata": {
      "needs_background": "light"
     },
     "output_type": "display_data"
    }
   ],
   "source": [
    "sites_anal = sites[(sites['l7_scene_id'].notna())|(sites['l8_scene_id'].notna())].reset_index()\n",
    "temp = sites_anal.groupby('sid').count()\n",
    "sn.distplot(temp.dt,kde=False,bins=20,color='g')"
   ]
  },
  {
   "cell_type": "code",
   "execution_count": 59,
   "metadata": {},
   "outputs": [
    {
     "data": {
      "text/html": [
       "<div>\n",
       "<style scoped>\n",
       "    .dataframe tbody tr th:only-of-type {\n",
       "        vertical-align: middle;\n",
       "    }\n",
       "\n",
       "    .dataframe tbody tr th {\n",
       "        vertical-align: top;\n",
       "    }\n",
       "\n",
       "    .dataframe thead th {\n",
       "        text-align: right;\n",
       "    }\n",
       "</style>\n",
       "<table border=\"1\" class=\"dataframe\">\n",
       "  <thead>\n",
       "    <tr style=\"text-align: right;\">\n",
       "      <th></th>\n",
       "      <th>dt</th>\n",
       "      <th>wb_cat</th>\n",
       "      <th>determinand_id</th>\n",
       "      <th>value</th>\n",
       "      <th>lon</th>\n",
       "      <th>lat</th>\n",
       "      <th>geometry</th>\n",
       "      <th>checked</th>\n",
       "      <th>l7_scene_n1d10c</th>\n",
       "      <th>l8_scene_n1d10c</th>\n",
       "      <th>l7_scene_id</th>\n",
       "      <th>l7_scene_dt</th>\n",
       "      <th>l8_scene_id</th>\n",
       "      <th>l8_scene_dt</th>\n",
       "      <th>l7_scene_n4d20c</th>\n",
       "      <th>l8_scene_n4d20c</th>\n",
       "    </tr>\n",
       "    <tr>\n",
       "      <th>sid</th>\n",
       "      <th></th>\n",
       "      <th></th>\n",
       "      <th></th>\n",
       "      <th></th>\n",
       "      <th></th>\n",
       "      <th></th>\n",
       "      <th></th>\n",
       "      <th></th>\n",
       "      <th></th>\n",
       "      <th></th>\n",
       "      <th></th>\n",
       "      <th></th>\n",
       "      <th></th>\n",
       "      <th></th>\n",
       "      <th></th>\n",
       "      <th></th>\n",
       "    </tr>\n",
       "  </thead>\n",
       "  <tbody>\n",
       "    <tr>\n",
       "      <th>EL000200030020H500</th>\n",
       "      <td>13</td>\n",
       "      <td>13</td>\n",
       "      <td>13</td>\n",
       "      <td>13</td>\n",
       "      <td>13</td>\n",
       "      <td>13</td>\n",
       "      <td>13</td>\n",
       "      <td>13</td>\n",
       "      <td>13</td>\n",
       "      <td>13</td>\n",
       "      <td>11</td>\n",
       "      <td>11</td>\n",
       "      <td>9</td>\n",
       "      <td>9</td>\n",
       "      <td>9</td>\n",
       "      <td>9</td>\n",
       "    </tr>\n",
       "    <tr>\n",
       "      <th>EL000400030058H500</th>\n",
       "      <td>10</td>\n",
       "      <td>10</td>\n",
       "      <td>10</td>\n",
       "      <td>10</td>\n",
       "      <td>10</td>\n",
       "      <td>10</td>\n",
       "      <td>10</td>\n",
       "      <td>10</td>\n",
       "      <td>10</td>\n",
       "      <td>10</td>\n",
       "      <td>5</td>\n",
       "      <td>5</td>\n",
       "      <td>8</td>\n",
       "      <td>8</td>\n",
       "      <td>7</td>\n",
       "      <td>7</td>\n",
       "    </tr>\n",
       "    <tr>\n",
       "      <th>EL000400030074N500</th>\n",
       "      <td>10</td>\n",
       "      <td>10</td>\n",
       "      <td>10</td>\n",
       "      <td>10</td>\n",
       "      <td>10</td>\n",
       "      <td>10</td>\n",
       "      <td>10</td>\n",
       "      <td>10</td>\n",
       "      <td>10</td>\n",
       "      <td>10</td>\n",
       "      <td>4</td>\n",
       "      <td>4</td>\n",
       "      <td>9</td>\n",
       "      <td>9</td>\n",
       "      <td>7</td>\n",
       "      <td>7</td>\n",
       "    </tr>\n",
       "    <tr>\n",
       "      <th>EL000400030090N500</th>\n",
       "      <td>10</td>\n",
       "      <td>10</td>\n",
       "      <td>10</td>\n",
       "      <td>10</td>\n",
       "      <td>10</td>\n",
       "      <td>10</td>\n",
       "      <td>10</td>\n",
       "      <td>10</td>\n",
       "      <td>10</td>\n",
       "      <td>10</td>\n",
       "      <td>6</td>\n",
       "      <td>6</td>\n",
       "      <td>7</td>\n",
       "      <td>7</td>\n",
       "      <td>7</td>\n",
       "      <td>7</td>\n",
       "    </tr>\n",
       "    <tr>\n",
       "      <th>EL000500030040H500</th>\n",
       "      <td>10</td>\n",
       "      <td>10</td>\n",
       "      <td>10</td>\n",
       "      <td>10</td>\n",
       "      <td>10</td>\n",
       "      <td>10</td>\n",
       "      <td>10</td>\n",
       "      <td>10</td>\n",
       "      <td>10</td>\n",
       "      <td>10</td>\n",
       "      <td>5</td>\n",
       "      <td>5</td>\n",
       "      <td>6</td>\n",
       "      <td>6</td>\n",
       "      <td>8</td>\n",
       "      <td>8</td>\n",
       "    </tr>\n",
       "  </tbody>\n",
       "</table>\n",
       "</div>"
      ],
      "text/plain": [
       "                    dt  wb_cat  determinand_id  value  lon  lat  geometry  \\\n",
       "sid                                                                         \n",
       "EL000200030020H500  13      13              13     13   13   13        13   \n",
       "EL000400030058H500  10      10              10     10   10   10        10   \n",
       "EL000400030074N500  10      10              10     10   10   10        10   \n",
       "EL000400030090N500  10      10              10     10   10   10        10   \n",
       "EL000500030040H500  10      10              10     10   10   10        10   \n",
       "\n",
       "                    checked  l7_scene_n1d10c  l8_scene_n1d10c  l7_scene_id  \\\n",
       "sid                                                                          \n",
       "EL000200030020H500       13               13               13           11   \n",
       "EL000400030058H500       10               10               10            5   \n",
       "EL000400030074N500       10               10               10            4   \n",
       "EL000400030090N500       10               10               10            6   \n",
       "EL000500030040H500       10               10               10            5   \n",
       "\n",
       "                    l7_scene_dt  l8_scene_id  l8_scene_dt  l7_scene_n4d20c  \\\n",
       "sid                                                                          \n",
       "EL000200030020H500           11            9            9                9   \n",
       "EL000400030058H500            5            8            8                7   \n",
       "EL000400030074N500            4            9            9                7   \n",
       "EL000400030090N500            6            7            7                7   \n",
       "EL000500030040H500            5            6            6                8   \n",
       "\n",
       "                    l8_scene_n4d20c  \n",
       "sid                                  \n",
       "EL000200030020H500                9  \n",
       "EL000400030058H500                7  \n",
       "EL000400030074N500                7  \n",
       "EL000400030090N500                7  \n",
       "EL000500030040H500                8  "
      ]
     },
     "execution_count": 59,
     "metadata": {},
     "output_type": "execute_result"
    }
   ],
   "source": [
    "temp[temp.dt>9].head()"
   ]
  },
  {
   "cell_type": "code",
   "execution_count": 64,
   "metadata": {},
   "outputs": [
    {
     "data": {
      "text/html": [
       "<div><span class=\"Text-label\" style=\"display:inline-block; overflow:hidden; white-space:nowrap; text-overflow:ellipsis; min-width:0; max-width:15ex; vertical-align:middle; text-align:right\"></span>\n",
       "<progress style=\"width:60ex\" max=\"21196\" value=\"4805\" class=\"Progress-main\"/></progress>\n",
       "<span class=\"Progress-label\"><strong>23%</strong></span>\n",
       "<span class=\"Iteration-label\">3376/21196</span>\n",
       "<span class=\"Time-label\">[00:25<00:00, 0.01s/it]</span></div>"
      ],
      "text/plain": [
       "\u001b[A\u001b[2K\r",
       " [█████████████###############################################] 4805/21196 [00:25<00:00, 0.01s/it]"
      ]
     },
     "metadata": {},
     "output_type": "display_data"
    }
   ],
   "source": [
    "sites_anal = sites_anal.set_index(['sid','dt'])\n",
    "\n",
    "ziplist = zip(sites_anal.index.get_level_values(0),sites_anal.index.get_level_values(1),\n",
    "              sites_anal.l7_scene_id,sites_anal.l8_scene_id)\n",
    "\n",
    "for sid,dt,l7_scene_id,l8_scene_id in track(ziplist,len(sites)):\n",
    "    \n",
    "    date = dt.strftime(\"%Y-%m-%d\")\n",
    "    \n",
    "    if (isinstance(l7_scene_id,str)==True):\n",
    "        sc_meta7 = pickle.load(open('./Landsat/Scenes/scene_'+str(l7_scene_id)+\".p\",\"rb\"))\n",
    "        \n",
    "        sites_anal.loc[(sid,date),'l7_display_id'] = sc_meta7[0]['displayId']\n",
    "        sites_anal.loc[(sid,date),'l7_acquisition_dt'] = sc_meta7[0]['acquisitionDate']\n",
    "        \n",
    "        del(sc_meta7)\n",
    "\n",
    "    elif (isinstance(l8_scene_id,str)==True):\n",
    "        sc_meta8 = pickle.load(open('./Landsat/Scenes/scene_'+str(l8_scene_id)+\".p\",\"rb\"))\n",
    "        \n",
    "        sites_anal.loc[(sid,date),'l8_display_id'] = sc_meta8[0]['displayId']\n",
    "        sites_anal.loc[(sid,date),'l8_acquisition_dt'] = sc_meta8[0]['acquisitionDate']\n",
    "        \n",
    "        del(sc_meta8)"
   ]
  },
  {
   "cell_type": "code",
   "execution_count": 115,
   "metadata": {},
   "outputs": [],
   "source": [
    "dll = list(sites_anal.loc['EL000200030020H500',:].l8_display_id.unique())\n",
    "dll2 = list(sites_anal.loc['EL000200030020H500',:].l7_display_id.unique())"
   ]
  },
  {
   "cell_type": "code",
   "execution_count": 116,
   "metadata": {},
   "outputs": [],
   "source": [
    "[dll.append(i) for i in dll2 ]\n",
    "\n",
    "dll = [x for x in dll if str(x) != 'nan']"
   ]
  },
  {
   "cell_type": "markdown",
   "metadata": {},
   "source": [
    "### Setup API call"
   ]
  },
  {
   "cell_type": "code",
   "execution_count": 7,
   "metadata": {},
   "outputs": [],
   "source": [
    "import requests\n",
    "import json\n",
    "import getpass\n",
    "\n",
    "username = 'clement.attwood.18@ucl.ac.uk'\n",
    "password = 'm9.iETxKMtZ6B,q'\n",
    "\n",
    "host = 'https://espa.cr.usgs.gov/api/v1/'"
   ]
  },
  {
   "cell_type": "markdown",
   "metadata": {},
   "source": [
    "## espa_api: A Function\n",
    "First and foremost, define a simple function for interacting with the API. \n",
    "\n",
    "The key things to watch for:\n",
    "\n",
    "* Always scrub for a `\"messages\"` field returned in the response, it is only informational about a request\n",
    "  * **Errors** (`\"errors\"`): Brief exlaination about why a request failed\n",
    "  * **Warnings** (`\"warnings\"`): Cautions about a successful response\n",
    "* Always make sure the requested HTTP `status_code` returned is valid \n",
    "  * **GET**: `200 OK`: The requested resource was successfully fetched (result can still be empty)\n",
    "  * **POST**: `201 Created`: The requested resource was created\n",
    "  * **PUT**: `202 Accepted`: The requested resource was updated"
   ]
  },
  {
   "cell_type": "code",
   "execution_count": 5,
   "metadata": {},
   "outputs": [],
   "source": [
    "def espa_api(endpoint, verb='get', body=None, uauth=None):\n",
    "    \"\"\" Suggested simple way to interact with the ESPA JSON REST API \"\"\"\n",
    "    auth_tup = uauth if uauth else (username, password)\n",
    "    response = getattr(requests, verb)(host + endpoint, auth=auth_tup, json=body)\n",
    "    print('{} {}'.format(response.status_code, response.reason))\n",
    "    data = response.json()\n",
    "    if isinstance(data, dict):\n",
    "        messages = data.pop(\"messages\", None)  \n",
    "        if messages:\n",
    "            print(json.dumps(messages, indent=4))\n",
    "    try:\n",
    "        response.raise_for_status()\n",
    "    except Exception as e:\n",
    "        print(e)\n",
    "        return None\n",
    "    else:\n",
    "        return data"
   ]
  },
  {
   "cell_type": "code",
   "execution_count": 12,
   "metadata": {},
   "outputs": [
    {
     "name": "stdout",
     "output_type": "stream",
     "text": [
      "GET /api/v1/user\n",
      "200 OK\n",
      "{\"email\": \"clement.attwood.18@ucl.ac.uk\", \"first_name\": \"Clement\", \"last_name\": \"Attwood\", \"roles\": [\"active\"], \"username\": \"clement.attwood.18@ucl.ac.uk\"}\n"
     ]
    }
   ],
   "source": [
    "print('GET /api/v1/user')\n",
    "resp = espa_api('user')\n",
    "print(json.dumps(resp))"
   ]
  },
  {
   "cell_type": "markdown",
   "metadata": {},
   "source": [
    "### Check product availability for scene"
   ]
  },
  {
   "cell_type": "code",
   "execution_count": 119,
   "metadata": {},
   "outputs": [],
   "source": [
    "scene = dll[0]"
   ]
  },
  {
   "cell_type": "code",
   "execution_count": 121,
   "metadata": {},
   "outputs": [
    {
     "name": "stdout",
     "output_type": "stream",
     "text": [
      "200 OK\n",
      "['source_metadata', 'l1', 'toa', 'bt', 'sr', 'sr_ndvi', 'sr_evi', 'sr_savi', 'sr_msavi', 'sr_ndmi', 'sr_nbr', 'sr_nbr2', 'stats', 'pixel_qa']\n"
     ]
    }
   ],
   "source": [
    "for scene in dll:\n",
    "    avail_list = {'inputs': [scene,\n",
    "                             'bad_scene_id'  # <-- Note: Unrecognized ID\n",
    "                            ]\n",
    "                 }\n",
    "    resp = espa_api('available-products', body=avail_list)\n",
    "\n",
    "    if 'etm7_collection' in resp.keys():  \n",
    "        products = resp['etm7_collection']['products']    \n",
    "\n",
    "    else:\n",
    "        products = resp['olitirs8_collection']['products']\n",
    "\n",
    "\n",
    "    sr = sum(['sr' in i for i in products])>0\n",
    "    f'Surface reflectance available for scene: {sr}'\n",
    "\n",
    "    print(products)"
   ]
  },
  {
   "cell_type": "markdown",
   "metadata": {},
   "source": [
    "### Create an order"
   ]
  },
  {
   "cell_type": "code",
   "execution_count": 130,
   "metadata": {},
   "outputs": [
    {
     "name": "stdout",
     "output_type": "stream",
     "text": [
      "GET /api/v1/available-products\n",
      "200 OK\n",
      "{\n",
      "    \"olitirs8_collection\": {\n",
      "        \"products\": [\n",
      "            \"source_metadata\",\n",
      "            \"l1\",\n",
      "            \"toa\",\n",
      "            \"bt\",\n",
      "            \"sr\",\n",
      "            \"sr_ndvi\",\n",
      "            \"sr_evi\",\n",
      "            \"sr_savi\",\n",
      "            \"sr_msavi\",\n",
      "            \"sr_ndmi\",\n",
      "            \"sr_nbr\",\n",
      "            \"sr_nbr2\",\n",
      "            \"stats\",\n",
      "            \"pixel_qa\"\n",
      "        ],\n",
      "        \"inputs\": [\n",
      "            \"LC08_L1TP_184033_20130726_20180527_01_T1\",\n",
      "            \"LC08_L1TP_184033_20150614_20170408_01_T1\"\n",
      "        ]\n",
      "    },\n",
      "    \"etm7_collection\": {\n",
      "        \"products\": [\n",
      "            \"source_metadata\",\n",
      "            \"l1\",\n",
      "            \"toa\",\n",
      "            \"bt\",\n",
      "            \"sr\",\n",
      "            \"sr_ndvi\",\n",
      "            \"sr_evi\",\n",
      "            \"sr_savi\",\n",
      "            \"sr_msavi\",\n",
      "            \"sr_ndmi\",\n",
      "            \"sr_nbr\",\n",
      "            \"sr_nbr2\",\n",
      "            \"stats\",\n",
      "            \"pixel_qa\"\n",
      "        ],\n",
      "        \"inputs\": [\n",
      "            \"LE07_L1TP_183034_20130609_20161124_01_T1\",\n",
      "            \"LE07_L1TP_184033_20130819_20161122_01_T1\",\n",
      "            \"LE07_L1TP_183034_20130929_20161120_01_T1\",\n",
      "            \"LE07_L1TP_183034_20140511_20161115_01_T1\",\n",
      "            \"LE07_L1TP_184034_20140619_20161113_01_T1\",\n",
      "            \"LE07_L1TP_183034_20140714_20161112_01_T1\",\n",
      "            \"LE07_L1TP_184034_20140822_20161113_01_T1\",\n",
      "            \"LE07_L1TP_183034_20140831_20161112_01_T1\",\n",
      "            \"LE07_L1TP_184033_20150724_20161023_01_T1\",\n",
      "            \"LE07_L1TP_183034_20150818_20161021_01_T1\",\n",
      "            \"LE07_L1TP_183034_20150919_20161019_01_T1\"\n",
      "        ]\n",
      "    }\n",
      "}\n"
     ]
    }
   ],
   "source": [
    "#if sr==True:\n",
    "\n",
    "# Differing products across the sensors\n",
    "l_prods = ['sr']\n",
    "\n",
    "# # Standard Albers CONUS\n",
    "projection = {'aea': {'standard_parallel_1': 29.5,\n",
    "                      'standard_parallel_2': 45.5,\n",
    "                      'central_meridian': -96.0,\n",
    "                      'latitude_of_origin': 23.0,\n",
    "                      'false_easting': 0,\n",
    "                      'false_northing': 0,\n",
    "                      'datum': 'nad83'}}\n",
    "\n",
    "# Let available-products place the acquisitions under their respective sensors\n",
    "ls = dll\n",
    "\n",
    "order = espa_api('available-products', body=dict(inputs=ls))\n",
    "print(json.dumps(order['inputs']))"
   ]
  },
  {
   "cell_type": "code",
   "execution_count": 131,
   "metadata": {},
   "outputs": [
    {
     "name": "stdout",
     "output_type": "stream",
     "text": [
      "{\n",
      "    \"olitirs8_collection\": {\n",
      "        \"products\": [\n",
      "            \"sr\"\n",
      "        ],\n",
      "        \"inputs\": [\n",
      "            \"LC08_L1TP_184033_20130726_20180527_01_T1\",\n",
      "            \"LC08_L1TP_184033_20150614_20170408_01_T1\"\n",
      "        ]\n",
      "    },\n",
      "    \"etm7_collection\": {\n",
      "        \"products\": [\n",
      "            \"sr\"\n",
      "        ],\n",
      "        \"inputs\": [\n",
      "            \"LE07_L1TP_183034_20130609_20161124_01_T1\",\n",
      "            \"LE07_L1TP_184033_20130819_20161122_01_T1\",\n",
      "            \"LE07_L1TP_183034_20130929_20161120_01_T1\",\n",
      "            \"LE07_L1TP_183034_20140511_20161115_01_T1\",\n",
      "            \"LE07_L1TP_184034_20140619_20161113_01_T1\",\n",
      "            \"LE07_L1TP_183034_20140714_20161112_01_T1\",\n",
      "            \"LE07_L1TP_184034_20140822_20161113_01_T1\",\n",
      "            \"LE07_L1TP_183034_20140831_20161112_01_T1\",\n",
      "            \"LE07_L1TP_184033_20150724_20161023_01_T1\",\n",
      "            \"LE07_L1TP_183034_20150818_20161021_01_T1\",\n",
      "            \"LE07_L1TP_183034_20150919_20161019_01_T1\"\n",
      "        ]\n",
      "    },\n",
      "    \"projection\": {\n",
      "        \"aea\": {\n",
      "            \"standard_parallel_1\": 29.5,\n",
      "            \"standard_parallel_2\": 45.5,\n",
      "            \"central_meridian\": -96.0,\n",
      "            \"latitude_of_origin\": 23.0,\n",
      "            \"false_easting\": 0,\n",
      "            \"false_northing\": 0,\n",
      "            \"datum\": \"nad83\"\n",
      "        }\n",
      "    },\n",
      "    \"format\": \"gtiff\",\n",
      "    \"resampling_method\": \"cc\",\n",
      "    \"note\": \"API Demo Jupyter!!\"\n",
      "}\n"
     ]
    }
   ],
   "source": [
    "# Replace the available products that was returned with what we want\n",
    "for sensor in order.keys():\n",
    "    if isinstance(order[sensor], dict) and order[sensor].get('inputs'):\n",
    "        if set(ls) & set(order[sensor]['inputs']):\n",
    "            order[sensor]['products'] = l_prods\n",
    "\n",
    "# Add in the rest of the order information\n",
    "order['projection'] = projection\n",
    "order['format'] = 'gtiff'\n",
    "order['resampling_method'] = 'cc'\n",
    "order['note'] = 'API Demo Jupyter!!'\n",
    "\n",
    "# Notice how it has changed from the original call available-products\n",
    "print(json.dumps(order, indent=4))"
   ]
  },
  {
   "cell_type": "markdown",
   "metadata": {},
   "source": [
    "### Place the order"
   ]
  },
  {
   "cell_type": "code",
   "execution_count": 135,
   "metadata": {},
   "outputs": [
    {
     "name": "stdout",
     "output_type": "stream",
     "text": [
      "201 CREATED\n",
      "{\n",
      "    \"orderid\": \"espa-clement.attwood.18@ucl.ac.uk-02282020-104208-641\",\n",
      "    \"status\": \"ordered\"\n",
      "}\n"
     ]
    }
   ],
   "source": [
    "resp = espa_api('order', verb='post', body=order)\n",
    "orderid = resp[\"orderid\"]\n",
    "print(json.dumps(resp, indent=4))"
   ]
  },
  {
   "cell_type": "markdown",
   "metadata": {},
   "source": [
    "### Check order status and retrieve download link"
   ]
  },
  {
   "cell_type": "code",
   "execution_count": 139,
   "metadata": {},
   "outputs": [
    {
     "name": "stdout",
     "output_type": "stream",
     "text": [
      "200 OK\n"
     ]
    }
   ],
   "source": [
    "dl = espa_api('item-status/{0}'.format(orderid), body={'status': 'complete'})"
   ]
  },
  {
   "cell_type": "code",
   "execution_count": 150,
   "metadata": {},
   "outputs": [
    {
     "name": "stdout",
     "output_type": "stream",
     "text": [
      "200 OK\n",
      "ordered\n",
      "200 OK\n",
      "ordered\n",
      "200 OK\n",
      "ordered\n",
      "200 OK\n",
      "ordered\n",
      "200 OK\n",
      "ordered\n",
      "200 OK\n",
      "ordered\n",
      "200 OK\n",
      "complete\n",
      "FINISHED\n",
      "200 OK\n"
     ]
    }
   ],
   "source": [
    "while resp['status']=='ordered':\n",
    "    \n",
    "    resp = espa_api('order-status/{}'.format(orderid))\n",
    "    \n",
    "    time.sleep(30)\n",
    "    \n",
    "    if resp['status']=='complete':\n",
    "        \n",
    "        print('FINISHED')\n",
    "        \n",
    "        ### get order details\n",
    "        dl = espa_api('item-status/{0}'.format(orderid), body={'status': 'complete'})\n",
    "    \n",
    "        ### create list of links\n",
    "        dllink = []\n",
    "        dllink += [ item.get('product_dload_url') for item in dl[orderid] ]\n",
    "        \n",
    "        for link in dllink:\n",
    "            \n",
    "            ### check if downloaded already\n",
    "            tardl = urllib.request.urlopen(dllink[1])\n",
    "            tar = tarfile.open(fileobj=tardl, mode=\"r:gz\")\n",
    "            tar.extractall()\n",
    "\n",
    "        break\n",
    "\n"
   ]
  }
 ],
 "metadata": {
  "kernelspec": {
   "display_name": "Python 3",
   "language": "python",
   "name": "python3"
  },
  "language_info": {
   "codemirror_mode": {
    "name": "ipython",
    "version": 3
   },
   "file_extension": ".py",
   "mimetype": "text/x-python",
   "name": "python",
   "nbconvert_exporter": "python",
   "pygments_lexer": "ipython3",
   "version": "3.8.1"
  }
 },
 "nbformat": 4,
 "nbformat_minor": 2
}
