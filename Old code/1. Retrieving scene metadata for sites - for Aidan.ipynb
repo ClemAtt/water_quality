{
 "cells": [
  {
   "cell_type": "markdown",
   "metadata": {},
   "source": [
    "Will need to pip install\n",
    "* landsatxplore\n",
    "* ipypb"
   ]
  },
  {
   "cell_type": "code",
   "execution_count": null,
   "metadata": {},
   "outputs": [],
   "source": [
    "!pip install landsatxplore\n",
    "!pip install ipypb"
   ]
  },
  {
   "cell_type": "code",
   "execution_count": 1,
   "metadata": {},
   "outputs": [],
   "source": [
    "import pandas as pd\n",
    "import numpy as np\n",
    "import os\n",
    "import datetime\n",
    "import pickle\n",
    "from ipypb import track\n",
    "from ipypb import chain\n",
    "import glob"
   ]
  },
  {
   "cell_type": "markdown",
   "metadata": {},
   "source": [
    "### Set directories"
   ]
  },
  {
   "cell_type": "code",
   "execution_count": null,
   "metadata": {},
   "outputs": [],
   "source": [
    "os.chdir(\"C:/Users/User/University College London/O'Sullivan, Aidan - SDG6/\")\n",
    "s_path = './Landsat data/Scenes/'"
   ]
  },
  {
   "cell_type": "markdown",
   "metadata": {},
   "source": [
    "### Read in site data with coordinates"
   ]
  },
  {
   "cell_type": "code",
   "execution_count": 2,
   "metadata": {},
   "outputs": [
    {
     "data": {
      "text/html": [
       "<div>\n",
       "<style scoped>\n",
       "    .dataframe tbody tr th:only-of-type {\n",
       "        vertical-align: middle;\n",
       "    }\n",
       "\n",
       "    .dataframe tbody tr th {\n",
       "        vertical-align: top;\n",
       "    }\n",
       "\n",
       "    .dataframe thead th {\n",
       "        text-align: right;\n",
       "    }\n",
       "</style>\n",
       "<table border=\"1\" class=\"dataframe\">\n",
       "  <thead>\n",
       "    <tr style=\"text-align: right;\">\n",
       "      <th></th>\n",
       "      <th></th>\n",
       "      <th>wb_cat</th>\n",
       "      <th>determinand_id</th>\n",
       "      <th>value</th>\n",
       "      <th>lon</th>\n",
       "      <th>lat</th>\n",
       "      <th>geometry</th>\n",
       "      <th>checked</th>\n",
       "      <th>scene_id</th>\n",
       "      <th>aquisition_dt</th>\n",
       "      <th>scene_dt</th>\n",
       "    </tr>\n",
       "    <tr>\n",
       "      <th>sid</th>\n",
       "      <th>dt</th>\n",
       "      <th></th>\n",
       "      <th></th>\n",
       "      <th></th>\n",
       "      <th></th>\n",
       "      <th></th>\n",
       "      <th></th>\n",
       "      <th></th>\n",
       "      <th></th>\n",
       "      <th></th>\n",
       "      <th></th>\n",
       "    </tr>\n",
       "  </thead>\n",
       "  <tbody>\n",
       "    <tr>\n",
       "      <th rowspan=\"2\" valign=\"top\">ATSE20101000</th>\n",
       "      <th>2009-05-12</th>\n",
       "      <td>LW</td>\n",
       "      <td>EEA_3164-01-0</td>\n",
       "      <td>5.0</td>\n",
       "      <td>14.12236</td>\n",
       "      <td>46.63092</td>\n",
       "      <td>POINT (14.12236 46.63092)</td>\n",
       "      <td>True</td>\n",
       "      <td>NaN</td>\n",
       "      <td>NaN</td>\n",
       "      <td>NaN</td>\n",
       "    </tr>\n",
       "    <tr>\n",
       "      <th>2009-08-19</th>\n",
       "      <td>LW</td>\n",
       "      <td>EEA_3164-01-0</td>\n",
       "      <td>2.0</td>\n",
       "      <td>14.12236</td>\n",
       "      <td>46.63092</td>\n",
       "      <td>POINT (14.12236 46.63092)</td>\n",
       "      <td>True</td>\n",
       "      <td>LT51910272009229MOR00</td>\n",
       "      <td>NaN</td>\n",
       "      <td>2009-08-17T00:00:00</td>\n",
       "    </tr>\n",
       "  </tbody>\n",
       "</table>\n",
       "</div>"
      ],
      "text/plain": [
       "                        wb_cat determinand_id  value       lon       lat  \\\n",
       "sid          dt                                                            \n",
       "ATSE20101000 2009-05-12     LW  EEA_3164-01-0    5.0  14.12236  46.63092   \n",
       "             2009-08-19     LW  EEA_3164-01-0    2.0  14.12236  46.63092   \n",
       "\n",
       "                                          geometry checked  \\\n",
       "sid          dt                                              \n",
       "ATSE20101000 2009-05-12  POINT (14.12236 46.63092)    True   \n",
       "             2009-08-19  POINT (14.12236 46.63092)    True   \n",
       "\n",
       "                                      scene_id aquisition_dt  \\\n",
       "sid          dt                                                \n",
       "ATSE20101000 2009-05-12                    NaN           NaN   \n",
       "             2009-08-19  LT51910272009229MOR00           NaN   \n",
       "\n",
       "                                    scene_dt  \n",
       "sid          dt                               \n",
       "ATSE20101000 2009-05-12                  NaN  \n",
       "             2009-08-19  2009-08-17T00:00:00  "
      ]
     },
     "execution_count": 2,
     "metadata": {},
     "output_type": "execute_result"
    }
   ],
   "source": [
    "sites = pd.read_pickle(\"sites.p\")\n",
    "sites.head(2)"
   ]
  },
  {
   "cell_type": "code",
   "execution_count": 10,
   "metadata": {
    "collapsed": true
   },
   "outputs": [
    {
     "data": {
      "text/html": [
       "<div>\n",
       "<style scoped>\n",
       "    .dataframe tbody tr th:only-of-type {\n",
       "        vertical-align: middle;\n",
       "    }\n",
       "\n",
       "    .dataframe tbody tr th {\n",
       "        vertical-align: top;\n",
       "    }\n",
       "\n",
       "    .dataframe thead th {\n",
       "        text-align: right;\n",
       "    }\n",
       "</style>\n",
       "<table border=\"1\" class=\"dataframe\">\n",
       "  <thead>\n",
       "    <tr style=\"text-align: right;\">\n",
       "      <th></th>\n",
       "      <th></th>\n",
       "      <th>wb_cat</th>\n",
       "      <th>determinand_id</th>\n",
       "      <th>value</th>\n",
       "      <th>lon</th>\n",
       "      <th>lat</th>\n",
       "      <th>geometry</th>\n",
       "      <th>checked</th>\n",
       "      <th>scene_id</th>\n",
       "      <th>aquisition_dt</th>\n",
       "    </tr>\n",
       "    <tr>\n",
       "      <th>sid</th>\n",
       "      <th>dt</th>\n",
       "      <th></th>\n",
       "      <th></th>\n",
       "      <th></th>\n",
       "      <th></th>\n",
       "      <th></th>\n",
       "      <th></th>\n",
       "      <th></th>\n",
       "      <th></th>\n",
       "      <th></th>\n",
       "    </tr>\n",
       "  </thead>\n",
       "  <tbody>\n",
       "    <tr>\n",
       "      <th rowspan=\"5\" valign=\"top\">ATSE20101000</th>\n",
       "      <th>2009-05-12</th>\n",
       "      <td>LW</td>\n",
       "      <td>EEA_3164-01-0</td>\n",
       "      <td>5.0</td>\n",
       "      <td>14.12236</td>\n",
       "      <td>46.63092</td>\n",
       "      <td>POINT (14.12236 46.63092)</td>\n",
       "      <td>False</td>\n",
       "      <td>NaN</td>\n",
       "      <td>NaN</td>\n",
       "    </tr>\n",
       "    <tr>\n",
       "      <th>2009-08-19</th>\n",
       "      <td>LW</td>\n",
       "      <td>EEA_3164-01-0</td>\n",
       "      <td>2.0</td>\n",
       "      <td>14.12236</td>\n",
       "      <td>46.63092</td>\n",
       "      <td>POINT (14.12236 46.63092)</td>\n",
       "      <td>False</td>\n",
       "      <td>NaN</td>\n",
       "      <td>NaN</td>\n",
       "    </tr>\n",
       "    <tr>\n",
       "      <th>2009-12-16</th>\n",
       "      <td>LW</td>\n",
       "      <td>EEA_3164-01-0</td>\n",
       "      <td>10.0</td>\n",
       "      <td>14.12236</td>\n",
       "      <td>46.63092</td>\n",
       "      <td>POINT (14.12236 46.63092)</td>\n",
       "      <td>False</td>\n",
       "      <td>NaN</td>\n",
       "      <td>NaN</td>\n",
       "    </tr>\n",
       "    <tr>\n",
       "      <th>2010-03-18</th>\n",
       "      <td>LW</td>\n",
       "      <td>EEA_3164-01-0</td>\n",
       "      <td>6.0</td>\n",
       "      <td>14.12236</td>\n",
       "      <td>46.63092</td>\n",
       "      <td>POINT (14.12236 46.63092)</td>\n",
       "      <td>False</td>\n",
       "      <td>NaN</td>\n",
       "      <td>NaN</td>\n",
       "    </tr>\n",
       "    <tr>\n",
       "      <th>2010-05-26</th>\n",
       "      <td>LW</td>\n",
       "      <td>EEA_3164-01-0</td>\n",
       "      <td>2.0</td>\n",
       "      <td>14.12236</td>\n",
       "      <td>46.63092</td>\n",
       "      <td>POINT (14.12236 46.63092)</td>\n",
       "      <td>True</td>\n",
       "      <td>LE71910282010144ASN00</td>\n",
       "      <td>2010-05-24T09:43:12</td>\n",
       "    </tr>\n",
       "  </tbody>\n",
       "</table>\n",
       "</div>"
      ],
      "text/plain": [
       "                        wb_cat determinand_id  value       lon       lat  \\\n",
       "sid          dt                                                            \n",
       "ATSE20101000 2009-05-12     LW  EEA_3164-01-0    5.0  14.12236  46.63092   \n",
       "             2009-08-19     LW  EEA_3164-01-0    2.0  14.12236  46.63092   \n",
       "             2009-12-16     LW  EEA_3164-01-0   10.0  14.12236  46.63092   \n",
       "             2010-03-18     LW  EEA_3164-01-0    6.0  14.12236  46.63092   \n",
       "             2010-05-26     LW  EEA_3164-01-0    2.0  14.12236  46.63092   \n",
       "\n",
       "                                          geometry  checked  \\\n",
       "sid          dt                                               \n",
       "ATSE20101000 2009-05-12  POINT (14.12236 46.63092)    False   \n",
       "             2009-08-19  POINT (14.12236 46.63092)    False   \n",
       "             2009-12-16  POINT (14.12236 46.63092)    False   \n",
       "             2010-03-18  POINT (14.12236 46.63092)    False   \n",
       "             2010-05-26  POINT (14.12236 46.63092)     True   \n",
       "\n",
       "                                      scene_id        aquisition_dt  \n",
       "sid          dt                                                      \n",
       "ATSE20101000 2009-05-12                    NaN                  NaN  \n",
       "             2009-08-19                    NaN                  NaN  \n",
       "             2009-12-16                    NaN                  NaN  \n",
       "             2010-03-18                    NaN                  NaN  \n",
       "             2010-05-26  LE71910282010144ASN00  2010-05-24T09:43:12  "
      ]
     },
     "execution_count": 10,
     "metadata": {},
     "output_type": "execute_result"
    }
   ],
   "source": [
    "### Change checked back to False for site/date with no retrieved scenes\n",
    "\n",
    "sites['checked'] = pd.Series(np.bool)\n",
    "sites['checked'] = np.where(sites.scene_id.isna(),False,True)"
   ]
  },
  {
   "cell_type": "markdown",
   "metadata": {},
   "source": [
    "### Landsat API call to check for coverage\n",
    "\n",
    "https://earthexplorer.usgs.gov/inventory/documentation#access\n",
    "\n",
    "https://pypi.org/project/landsatxplore/"
   ]
  },
  {
   "cell_type": "code",
   "execution_count": 13,
   "metadata": {},
   "outputs": [],
   "source": [
    "import landsatxplore.api\n",
    "from landsatxplore.earthexplorer import EarthExplorer\n",
    "\n",
    "user = 'clement.attwood.18@ucl.ac.uk'\n",
    "password = 'm9.iETxKMtZ6B,q'\n",
    "\n",
    "api = landsatxplore.api.API(user,password)"
   ]
  },
  {
   "cell_type": "code",
   "execution_count": null,
   "metadata": {
    "scrolled": true
   },
   "outputs": [
    {
     "data": {
      "text/html": [
       "<div><span class=\"Text-label\" style=\"display:inline-block; overflow:hidden; white-space:nowrap; text-overflow:ellipsis; min-width:0; max-width:15ex; vertical-align:middle; text-align:right\"></span>\n",
       "<progress style=\"width:60ex\" max=\"13491\" value=\"279\" class=\"Progress-main\"/></progress>\n",
       "<span class=\"Progress-label\"><strong>2%</strong></span>\n",
       "<span class=\"Iteration-label\">268/13491</span>\n",
       "<span class=\"Time-label\">[05:33:49<01:12, 71.79s/it]</span></div>"
      ],
      "text/plain": [
       "\u001b[A\u001b[2K\r",
       " [█###########################################################] 279/13491 [05:33:49<01:12, 71.79s/it]"
      ]
     },
     "metadata": {},
     "output_type": "display_data"
    }
   ],
   "source": [
    "# Create call for each site and each date\n",
    "\n",
    "lag = 8                      # number of days to search either side of sample date\n",
    "max_cloud_cover = 20         # max cloud cover for scene\n",
    "\n",
    "platforms = ['LANDSAT_ETM_C1','LANDSAT_TM_C1','LANDSAT_8_C1'] \n",
    "\n",
    "for sid,dt in track(sites[sites.checked==False].index[5001:15174]):\n",
    "     \n",
    "    ## set checked to 1\n",
    "    date = dt.strftime(\"%Y-%m-%d\")\n",
    "    sites.loc[(sid,date),'checked'] = 1\n",
    "    \n",
    "    ## set start end dates of search\n",
    "    start = dt-datetime.timedelta(days=lag)\n",
    "    end = dt+datetime.timedelta(days=lag)\n",
    "    \n",
    "    sites.loc[sid,'checked'] = True\n",
    "    \n",
    "    for platform in platforms:\n",
    "\n",
    "        scenes = api.search(dataset = platform,\n",
    "                            latitude = sites.loc[sid,'lat'][0],\n",
    "                            longitude = sites.loc[sid,'lon'][0],\n",
    "                            start_date = start.strftime(\"%Y-%m-%d\"),\n",
    "                            end_date = end.strftime(\"%Y-%m-%d\"),\n",
    "                            max_cloud_cover = max_cloud_cover)\n",
    "                 \n",
    "        if len(scenes)>0:\n",
    "            sites.loc[(sid,date),'scene_id'] = scenes[0]['entityId']\n",
    "            sites.loc[(sid,date),'scene_dt'] = scenes[0]['modifiedDate']\n",
    "            pickle.dump(scenes,open(s_path+'scene_'+str(scenes[0]['entityId'])+'.p','wb'))         \n",
    "\n",
    "pickle.dump(sites,open('sites.p','wb'))"
   ]
  },
  {
   "cell_type": "code",
   "execution_count": 16,
   "metadata": {},
   "outputs": [],
   "source": [
    "pickle.dump(sites,open('sites.p','wb'))"
   ]
  }
 ],
 "metadata": {
  "kernelspec": {
   "display_name": "Python 3",
   "language": "python",
   "name": "python3"
  },
  "language_info": {
   "codemirror_mode": {
    "name": "ipython",
    "version": 3
   },
   "file_extension": ".py",
   "mimetype": "text/x-python",
   "name": "python",
   "nbconvert_exporter": "python",
   "pygments_lexer": "ipython3",
   "version": "3.8.1"
  }
 },
 "nbformat": 4,
 "nbformat_minor": 2
}
