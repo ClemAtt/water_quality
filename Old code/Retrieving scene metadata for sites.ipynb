{
 "cells": [
  {
   "cell_type": "code",
   "execution_count": 40,
   "metadata": {},
   "outputs": [],
   "source": [
    "import pandas as pd\n",
    "import numpy as np\n",
    "import geopandas as gp\n",
    "import fiona\n",
    "import os\n",
    "from shapely.geometry import Polygon\n",
    "from shapely.geometry import Point\n",
    "from matplotlib import pyplot\n",
    "import matplotlib.pyplot as plt\n",
    "from ipyleaflet import Map, GeoData, basemaps, LayersControl\n",
    "import json\n",
    "import datetime\n",
    "import pickle\n",
    "from ipypb import track\n",
    "from ipypb import chain\n",
    "import seaborn as sn\n",
    "\n",
    "os.chdir(r\"C:\\Users\\User\\Documents\\Work\\SDGs and AI\\6.3.2\")"
   ]
  },
  {
   "cell_type": "markdown",
   "metadata": {},
   "source": [
    "### Create list of coordinates for retrieval"
   ]
  },
  {
   "cell_type": "code",
   "execution_count": null,
   "metadata": {},
   "outputs": [],
   "source": [
    "### Read in EEA waterbase selected columns\n",
    "\n",
    "col_to_keep = ['monitoringSiteIdentifier','parameterWaterBodyCategory','observedPropertyDeterminandCode',\n",
    "               'phenomenonTimeSamplingDate','resultObservedValue',]\n",
    "\n",
    "wqdb = pd.read_csv('./EEA_water_base/Waterbase_v2018_1_T_WISE4_DisaggregatedData.csv',usecols=col_to_keep,parse_dates=True)\n",
    "\n",
    "### Read site metadata\n",
    "\n",
    "site_meta = pd.read_csv('./EEA_water_base/Waterbase_v2018_1_WISE4_MonitoringSite_DerivedData.csv')"
   ]
  },
  {
   "cell_type": "code",
   "execution_count": 135,
   "metadata": {},
   "outputs": [
    {
     "name": "stderr",
     "output_type": "stream",
     "text": [
      "C:\\Users\\User\\Anaconda3\\lib\\site-packages\\pandas\\core\\indexing.py:494: SettingWithCopyWarning: \n",
      "A value is trying to be set on a copy of a slice from a DataFrame.\n",
      "Try using .loc[row_indexer,col_indexer] = value instead\n",
      "\n",
      "See the caveats in the documentation: http://pandas.pydata.org/pandas-docs/stable/user_guide/indexing.html#returning-a-view-versus-a-copy\n",
      "  self.obj[item] = s\n"
     ]
    }
   ],
   "source": [
    "### filter for just sites with chlorophyll data and just lakes\n",
    "\n",
    "deter = 'EEA_3164-01-0'\n",
    "\n",
    "sites_data = wqdb[(wqdb.observedPropertyDeterminandCode==deter)&(wqdb.parameterWaterBodyCategory=='LW')]\n",
    "\n",
    "sites_data['phenomenonTimeSamplingDate'] = pd.to_datetime(sites_data.phenomenonTimeSamplingDate)\n",
    "\n",
    "del(wqdb)"
   ]
  },
  {
   "cell_type": "code",
   "execution_count": 136,
   "metadata": {},
   "outputs": [],
   "source": [
    "### Join lon lat to site data and create data and site list\n",
    "\n",
    "sites_data = sites_data.merge(site_meta[['monitoringSiteIdentifier','lon','lat']],how='left',on='monitoringSiteIdentifier')\n",
    "\n",
    "sites_data = sites_data[sites_data.lon.notnull()]"
   ]
  },
  {
   "cell_type": "code",
   "execution_count": 137,
   "metadata": {},
   "outputs": [],
   "source": [
    "### convert to multi-level index\n",
    "\n",
    "sites_data = sites_data.rename(columns={'monitoringSiteIdentifier':'sid','phenomenonTimeSamplingDate':'dt'})\n",
    "sites = sites_data.set_index(['sid','dt']) #,verify_integrity=True\n",
    "\n",
    "### remove duplicated indexes\n",
    "# sites = sites.loc[~sites.index.duplicated(keep='first')]\n",
    "\n",
    "## sort index to aid filtering\n",
    "sites.sort_index(level=['sid','dt'], ascending=[1, 1], inplace=True)\n",
    "\n",
    "## add variable for whether site-date pair has been checked has been checked\n",
    "sites['checked'] = 0"
   ]
  },
  {
   "cell_type": "code",
   "execution_count": 141,
   "metadata": {},
   "outputs": [],
   "source": [
    "### Convert data to spatial and change CRS\n",
    "## NOTE: WISE data reported in ETRS89-GRS80 ('+proj=longlat +ellps=GRS80 +no_defs'), USGS use  '+proj=utm +zone=18 +ellps=WGS84 +datum=WGS84 +units=m +no_defs'\n",
    "\n",
    "geometry = [Point(xy) for xy in zip(sites['lon'],sites['lat'])]\n",
    "\n",
    "crs= '+proj=longlat +ellps=GRS80 +no_defs' #'epsg:4258' #\n",
    "\n",
    "sites = gp.GeoDataFrame(sites, crs=crs, geometry=geometry)\n",
    "\n",
    "sites = sites.to_crs('+proj=longlat +ellps=WGS84 +datum=WGS84 +no_defs')"
   ]
  },
  {
   "cell_type": "markdown",
   "metadata": {},
   "source": [
    "### Landsat API call to check for coverage\n",
    "\n",
    "https://earthexplorer.usgs.gov/inventory/documentation#access\n",
    "\n",
    "https://pypi.org/project/landsatxplore/"
   ]
  },
  {
   "cell_type": "code",
   "execution_count": 14,
   "metadata": {},
   "outputs": [],
   "source": [
    "sites = pd.read_pickle(\"sites.p\")"
   ]
  },
  {
   "cell_type": "code",
   "execution_count": 30,
   "metadata": {},
   "outputs": [],
   "source": [
    "import landsatxplore.api\n",
    "from landsatxplore.earthexplorer import EarthExplorer\n",
    "\n",
    "user = 'clement.attwood.18@ucl.ac.uk'\n",
    "password = 'm9.iETxKMtZ6B,q'\n",
    "\n",
    "api = landsatxplore.api.API(user,password)"
   ]
  },
  {
   "cell_type": "code",
   "execution_count": 34,
   "metadata": {
    "scrolled": true
   },
   "outputs": [
    {
     "data": {
      "text/html": [
       "<div><span class=\"Text-label\" style=\"display:inline-block; overflow:hidden; white-space:nowrap; text-overflow:ellipsis; min-width:0; max-width:15ex; vertical-align:middle; text-align:right\"></span>\n",
       "<progress style=\"width:60ex\" max=\"687\" value=\"687\" class=\"Progress-main\"/></progress>\n",
       "<span class=\"Progress-label\"><strong>100%</strong></span>\n",
       "<span class=\"Iteration-label\">684/687</span>\n",
       "<span class=\"Time-label\">[46:55<00:04, 4.10s/it]</span></div>"
      ],
      "text/plain": [
       "\u001b[A\u001b[2K\r",
       " [████████████████████████████████████████████████████████████] 687/687 [46:55<00:04, 4.10s/it]"
      ]
     },
     "metadata": {},
     "output_type": "display_data"
    }
   ],
   "source": [
    "# Create call for each site and each date\n",
    "\n",
    "lag = 4                      # number of days to search either side of sample date\n",
    "max_cloud_cover = 20         # max cloud cover for scene\n",
    "\n",
    "platforms = ['LANDSAT_ETM_C1','LANDSAT_8_C1'] \n",
    "\n",
    "for sid,dt in track(sites[sites.checked==0].index):\n",
    "     \n",
    "    ## set checked to 1\n",
    "    date = dt.strftime(\"%Y-%m-%d\")\n",
    "    sites.loc[(sid,date),'checked'] = 1\n",
    "    \n",
    "    ## set start end dates of search\n",
    "    start = dt-datetime.timedelta(days=lag)\n",
    "    end = dt+datetime.timedelta(days=lag)\n",
    "    \n",
    "    for platform in platforms:\n",
    "\n",
    "        scenes = api.search(dataset = platform,\n",
    "                            latitude = sites.loc[sid,'lat'][0],\n",
    "                            longitude = sites.loc[sid,'lon'][0],\n",
    "                            start_date = start.strftime(\"%Y-%m-%d\"),\n",
    "                            end_date = end.strftime(\"%Y-%m-%d\"),\n",
    "                            max_cloud_cover = max_cloud_cover)\n",
    "        \n",
    "        if platform=='LANDSAT_ETM_C1':\n",
    "            \n",
    "            sites.loc[(sid,date),'l7_scene_n4d20c'] = len(scenes)\n",
    "            \n",
    "            if len(scenes)>0:\n",
    "                sites.loc[(sid,date),'l7_scene_id'] = scenes[0]['entityId']\n",
    "                sites.loc[(sid,date),'l7_scene_dt'] = scenes[0]['modifiedDate']\n",
    "                pickle.dump(scenes,open('./Landsat/Scenes/scene_'+str(scenes[0]['entityId'])+'.p','wb'))\n",
    "            \n",
    "        else:\n",
    "        \n",
    "            sites.loc[(sid,date),'l8_scene_n4d20c'] = len(scenes)\n",
    "            \n",
    "            if len(scenes)>0:\n",
    "                sites.loc[(sid,date),'l8_scene_id'] = scenes[0]['entityId']\n",
    "                sites.loc[(sid,date),'l8_scene_dt'] = scenes[0]['modifiedDate']\n",
    "                pickle.dump(scenes,open('./Landsat/Scenes/scene_'+str(scenes[0]['entityId'])+'.p','wb'))\n",
    "                \n",
    "\n",
    "pickle.dump(sites,open('sites.p','wb'))"
   ]
  },
  {
   "cell_type": "code",
   "execution_count": 35,
   "metadata": {
    "scrolled": true
   },
   "outputs": [
    {
     "data": {
      "text/plain": [
       "(21196, 21196)"
      ]
     },
     "execution_count": 35,
     "metadata": {},
     "output_type": "execute_result"
    }
   ],
   "source": [
    "(len(sites),len(sites[sites.checked==1]))"
   ]
  },
  {
   "cell_type": "markdown",
   "metadata": {},
   "source": [
    "### Change search criteria"
   ]
  },
  {
   "cell_type": "code",
   "execution_count": 110,
   "metadata": {},
   "outputs": [],
   "source": [
    "sites = sites.rename(columns={'l7_scene_n':'l7_scene_n1d10c','l8_scene_n':'l8_scene_n1d10c'})"
   ]
  },
  {
   "cell_type": "code",
   "execution_count": 122,
   "metadata": {},
   "outputs": [],
   "source": [
    "### Change checked back to 0 for site/date with no retrieved scenes\n",
    "\n",
    "sites['checked'] = np.where((sites.l8_scene_id.isna()&sites.l7_scene_id.isna()),0,1)"
   ]
  },
  {
   "cell_type": "markdown",
   "metadata": {},
   "source": [
    "### Metadata processing"
   ]
  },
  {
   "cell_type": "code",
   "execution_count": 45,
   "metadata": {},
   "outputs": [
    {
     "data": {
      "text/plain": [
       "['wb_cat',\n",
       " 'determinand_id',\n",
       " 'value',\n",
       " 'lon',\n",
       " 'lat',\n",
       " 'geometry',\n",
       " 'checked',\n",
       " 'l7_scene_n1d10c',\n",
       " 'l8_scene_n1d10c',\n",
       " 'l7_scene_id',\n",
       " 'l7_scene_dt',\n",
       " 'l8_scene_id',\n",
       " 'l8_scene_dt',\n",
       " 'l7_scene_n4d20c',\n",
       " 'l8_scene_n4d20c']"
      ]
     },
     "execution_count": 45,
     "metadata": {},
     "output_type": "execute_result"
    }
   ],
   "source": [
    "list(sites)"
   ]
  },
  {
   "cell_type": "code",
   "execution_count": 58,
   "metadata": {},
   "outputs": [],
   "source": [
    "sites_anal = sites[sites.l7_scene_id.notna()|sites.l8_scene_id.notna()|sites.l7_scene_id.notna()|sites.l8_scene_id.notna()]"
   ]
  },
  {
   "cell_type": "code",
   "execution_count": 59,
   "metadata": {},
   "outputs": [
    {
     "data": {
      "text/plain": [
       "5235"
      ]
     },
     "execution_count": 59,
     "metadata": {},
     "output_type": "execute_result"
    }
   ],
   "source": [
    "len(sites_anal)"
   ]
  },
  {
   "cell_type": "code",
   "execution_count": 60,
   "metadata": {},
   "outputs": [
    {
     "data": {
      "text/html": [
       "<div><span class=\"Text-label\" style=\"display:inline-block; overflow:hidden; white-space:nowrap; text-overflow:ellipsis; min-width:0; max-width:15ex; vertical-align:middle; text-align:right\"></span>\n",
       "<progress style=\"width:60ex\" max=\"21196\" value=\"5212\" class=\"Progress-main\"/></progress>\n",
       "<span class=\"Progress-label\"><strong>25%</strong></span>\n",
       "<span class=\"Iteration-label\">0/21196</span>\n",
       "<span class=\"Time-label\">[00:25<00:00, 0.00s/it]</span></div>"
      ],
      "text/plain": [
       "\u001b[A\u001b[2K\r",
       " [██████████████##############################################] 5212/21196 [00:25<00:00, 0.00s/it]"
      ]
     },
     "metadata": {},
     "output_type": "display_data"
    },
    {
     "name": "stderr",
     "output_type": "stream",
     "text": [
      "C:\\Users\\User\\Anaconda3\\envs\\geo\\lib\\site-packages\\pandas\\core\\indexing.py:844: SettingWithCopyWarning: \n",
      "A value is trying to be set on a copy of a slice from a DataFrame.\n",
      "Try using .loc[row_indexer,col_indexer] = value instead\n",
      "\n",
      "See the caveats in the documentation: https://pandas.pydata.org/pandas-docs/stable/user_guide/indexing.html#returning-a-view-versus-a-copy\n",
      "  self.obj[key] = _infer_fill_value(value)\n",
      "C:\\Users\\User\\Anaconda3\\envs\\geo\\lib\\site-packages\\pandas\\core\\indexing.py:965: SettingWithCopyWarning: \n",
      "A value is trying to be set on a copy of a slice from a DataFrame.\n",
      "Try using .loc[row_indexer,col_indexer] = value instead\n",
      "\n",
      "See the caveats in the documentation: https://pandas.pydata.org/pandas-docs/stable/user_guide/indexing.html#returning-a-view-versus-a-copy\n",
      "  self.obj[item] = s\n"
     ]
    }
   ],
   "source": [
    "ziplist = zip(sites_anal.index.get_level_values(0),sites_anal.index.get_level_values(1),\n",
    "              sites_anal.l7_scene_id,sites_anal.l8_scene_id)\n",
    "\n",
    "for sid,dt,l7_scene_id,l8_scene_id in track(ziplist,len(sites)):\n",
    "    \n",
    "    date = dt.strftime(\"%Y-%m-%d\")\n",
    "    \n",
    "    if (isinstance(l7_scene_id,str)==True):\n",
    "        sc_meta7 = pickle.load(open('./Landsat/Scenes/scene_'+str(l7_scene_id)+\".p\",\"rb\"))\n",
    "        \n",
    "        sites_anal.loc[(sid,date),'l7_display_id'] = sc_meta7[0]['displayId']\n",
    "        sites_anal.loc[(sid,date),'l7_acquisition_dt'] = sc_meta7[0]['acquisitionDate']\n",
    "        \n",
    "        del(sc_meta7)\n",
    "\n",
    "    elif (isinstance(l8_scene_id,str)==True):\n",
    "        sc_meta8 = pickle.load(open('./Landsat/Scenes/scene_'+str(l8_scene_id)+\".p\",\"rb\"))\n",
    "        \n",
    "        sites_anal.loc[(sid,date),'l8_display_id'] = sc_meta8[0]['displayId']\n",
    "        sites_anal.loc[(sid,date),'l8_acquisition_dt'] = sc_meta8[0]['acquisitionDate']\n",
    "        \n",
    "        del(sc_meta8)"
   ]
  },
  {
   "cell_type": "markdown",
   "metadata": {},
   "source": [
    "#### Return string of processing status from Display ID\n",
    "\n",
    "https://lta.cr.usgs.gov/DD/landsat_dictionary.html#landsat_product_id"
   ]
  },
  {
   "cell_type": "code",
   "execution_count": 61,
   "metadata": {},
   "outputs": [
    {
     "data": {
      "text/plain": [
       "(['L1GT', 'L1TP'], ['01_T2', '01_T1'])"
      ]
     },
     "execution_count": 61,
     "metadata": {},
     "output_type": "execute_result"
    }
   ],
   "source": [
    "display_ids7 = sites_anal[(sites_anal['l8_scene_id'].notna())|(sites_anal['l7_scene_id'].notna())].l7_display_id\n",
    "display_ids8 = sites_anal[(sites_anal['l8_scene_id'].notna())|(sites_anal['l7_scene_id'].notna())].l8_display_id\n",
    "\n",
    "display_ids = display_ids8.append(display_ids7)\n",
    "display_ids = display_ids.dropna()\n",
    "\n",
    "LLLL = [i[5:9] for i in display_ids]\n",
    "CCTX = [i[-5:] for i in display_ids]\n",
    "\n",
    "list(set(LLLL)),list(set(CCTX))"
   ]
  },
  {
   "cell_type": "markdown",
   "metadata": {},
   "source": [
    "#### Number of scenes per site"
   ]
  },
  {
   "cell_type": "code",
   "execution_count": 42,
   "metadata": {},
   "outputs": [
    {
     "data": {
      "text/plain": [
       "<matplotlib.axes._subplots.AxesSubplot at 0xe328490>"
      ]
     },
     "execution_count": 42,
     "metadata": {},
     "output_type": "execute_result"
    },
    {
     "data": {
      "image/png": "[encoded data removed]",
      "text/plain": [
       "<Figure size 432x288 with 1 Axes>"
      ]
     },
     "metadata": {
      "needs_background": "light"
     },
     "output_type": "display_data"
    }
   ],
   "source": [
    "sites_anal = sites[(sites['l7_scene_id'].notna())|(sites['l8_scene_id'].notna())].reset_index()\n",
    "temp = sites_anal.groupby('sid').count()\n",
    "sn.distplot(temp.dt,kde=False,bins=30,color='g')"
   ]
  },
  {
   "cell_type": "code",
   "execution_count": 63,
   "metadata": {},
   "outputs": [
    {
     "data": {
      "text/html": [
       "<div>\n",
       "<style scoped>\n",
       "    .dataframe tbody tr th:only-of-type {\n",
       "        vertical-align: middle;\n",
       "    }\n",
       "\n",
       "    .dataframe tbody tr th {\n",
       "        vertical-align: top;\n",
       "    }\n",
       "\n",
       "    .dataframe thead th {\n",
       "        text-align: right;\n",
       "    }\n",
       "</style>\n",
       "<table border=\"1\" class=\"dataframe\">\n",
       "  <thead>\n",
       "    <tr style=\"text-align: right;\">\n",
       "      <th></th>\n",
       "      <th>wb_cat</th>\n",
       "      <th>determinand_id</th>\n",
       "      <th>value</th>\n",
       "      <th>lon</th>\n",
       "      <th>lat</th>\n",
       "      <th>geometry</th>\n",
       "      <th>checked</th>\n",
       "      <th>l7_scene_n1d10c</th>\n",
       "      <th>l8_scene_n1d10c</th>\n",
       "      <th>l7_scene_id</th>\n",
       "      <th>l7_scene_dt</th>\n",
       "      <th>l8_scene_id</th>\n",
       "      <th>l8_scene_dt</th>\n",
       "      <th>l7_scene_n4d20c</th>\n",
       "      <th>l8_scene_n4d20c</th>\n",
       "    </tr>\n",
       "    <tr>\n",
       "      <th>dt</th>\n",
       "      <th></th>\n",
       "      <th></th>\n",
       "      <th></th>\n",
       "      <th></th>\n",
       "      <th></th>\n",
       "      <th></th>\n",
       "      <th></th>\n",
       "      <th></th>\n",
       "      <th></th>\n",
       "      <th></th>\n",
       "      <th></th>\n",
       "      <th></th>\n",
       "      <th></th>\n",
       "      <th></th>\n",
       "      <th></th>\n",
       "    </tr>\n",
       "  </thead>\n",
       "  <tbody>\n",
       "    <tr>\n",
       "      <th>2013-06-12</th>\n",
       "      <td>LW</td>\n",
       "      <td>EEA_3164-01-0</td>\n",
       "      <td>0.592500</td>\n",
       "      <td>22.28925</td>\n",
       "      <td>37.93007</td>\n",
       "      <td>POINT (22.28925 37.93007)</td>\n",
       "      <td>1</td>\n",
       "      <td>0.0</td>\n",
       "      <td>0.0</td>\n",
       "      <td>LE71830342013160ASN00</td>\n",
       "      <td>2013-06-09T08:51:46</td>\n",
       "      <td>LC81840332013159LGN01</td>\n",
       "      <td>2017-05-04T01:42:37</td>\n",
       "      <td>3.0</td>\n",
       "      <td>2.0</td>\n",
       "    </tr>\n",
       "    <tr>\n",
       "      <th>2013-07-24</th>\n",
       "      <td>LW</td>\n",
       "      <td>EEA_3164-01-0</td>\n",
       "      <td>0.457000</td>\n",
       "      <td>22.28925</td>\n",
       "      <td>37.93007</td>\n",
       "      <td>POINT (22.28925 37.93007)</td>\n",
       "      <td>1</td>\n",
       "      <td>0.0</td>\n",
       "      <td>0.0</td>\n",
       "      <td>NaN</td>\n",
       "      <td>NaN</td>\n",
       "      <td>LC81840332013207LGN02</td>\n",
       "      <td>2018-05-27T01:15:20</td>\n",
       "      <td>0.0</td>\n",
       "      <td>2.0</td>\n",
       "    </tr>\n",
       "    <tr>\n",
       "      <th>2013-08-20</th>\n",
       "      <td>LW</td>\n",
       "      <td>EEA_3164-01-0</td>\n",
       "      <td>0.531400</td>\n",
       "      <td>22.28925</td>\n",
       "      <td>37.93007</td>\n",
       "      <td>POINT (22.28925 37.93007)</td>\n",
       "      <td>1</td>\n",
       "      <td>2.0</td>\n",
       "      <td>1.0</td>\n",
       "      <td>LE71840332013231ASN00</td>\n",
       "      <td>2013-08-19T09:00:23</td>\n",
       "      <td>LC81830342013232LGN01</td>\n",
       "      <td>2017-05-02T18:32:16</td>\n",
       "      <td>NaN</td>\n",
       "      <td>NaN</td>\n",
       "    </tr>\n",
       "    <tr>\n",
       "      <th>2013-09-25</th>\n",
       "      <td>LW</td>\n",
       "      <td>EEA_3164-01-0</td>\n",
       "      <td>1.005275</td>\n",
       "      <td>22.28925</td>\n",
       "      <td>37.93007</td>\n",
       "      <td>POINT (22.28925 37.93007)</td>\n",
       "      <td>1</td>\n",
       "      <td>0.0</td>\n",
       "      <td>0.0</td>\n",
       "      <td>LE71830342013272ASN00</td>\n",
       "      <td>2013-09-29T08:58:38</td>\n",
       "      <td>LC81840332013271LGN01</td>\n",
       "      <td>2017-05-02T00:08:49</td>\n",
       "      <td>1.0</td>\n",
       "      <td>2.0</td>\n",
       "    </tr>\n",
       "    <tr>\n",
       "      <th>2014-05-13</th>\n",
       "      <td>LW</td>\n",
       "      <td>EEA_3164-01-0</td>\n",
       "      <td>0.481700</td>\n",
       "      <td>22.28925</td>\n",
       "      <td>37.93007</td>\n",
       "      <td>POINT (22.28925 37.93007)</td>\n",
       "      <td>1</td>\n",
       "      <td>0.0</td>\n",
       "      <td>0.0</td>\n",
       "      <td>LE71830342014131ASN00</td>\n",
       "      <td>2014-05-11T08:59:20</td>\n",
       "      <td>LC81840332014130LGN01</td>\n",
       "      <td>2017-04-22T16:39:55</td>\n",
       "      <td>1.0</td>\n",
       "      <td>2.0</td>\n",
       "    </tr>\n",
       "    <tr>\n",
       "      <th>2014-06-17</th>\n",
       "      <td>LW</td>\n",
       "      <td>EEA_3164-01-0</td>\n",
       "      <td>0.221200</td>\n",
       "      <td>22.28925</td>\n",
       "      <td>37.93007</td>\n",
       "      <td>POINT (22.28925 37.93007)</td>\n",
       "      <td>1</td>\n",
       "      <td>0.0</td>\n",
       "      <td>0.0</td>\n",
       "      <td>LE71840342014170ASN00</td>\n",
       "      <td>2014-06-19T09:07:38</td>\n",
       "      <td>NaN</td>\n",
       "      <td>NaN</td>\n",
       "      <td>1.0</td>\n",
       "      <td>0.0</td>\n",
       "    </tr>\n",
       "    <tr>\n",
       "      <th>2014-07-15</th>\n",
       "      <td>LW</td>\n",
       "      <td>EEA_3164-01-0</td>\n",
       "      <td>0.458600</td>\n",
       "      <td>22.28925</td>\n",
       "      <td>37.93007</td>\n",
       "      <td>POINT (22.28925 37.93007)</td>\n",
       "      <td>1</td>\n",
       "      <td>1.0</td>\n",
       "      <td>0.0</td>\n",
       "      <td>LE71830342014195ASN00</td>\n",
       "      <td>2014-07-14T09:00:21</td>\n",
       "      <td>NaN</td>\n",
       "      <td>NaN</td>\n",
       "      <td>NaN</td>\n",
       "      <td>NaN</td>\n",
       "    </tr>\n",
       "    <tr>\n",
       "      <th>2014-08-21</th>\n",
       "      <td>LW</td>\n",
       "      <td>EEA_3164-01-0</td>\n",
       "      <td>0.576300</td>\n",
       "      <td>22.28925</td>\n",
       "      <td>37.93007</td>\n",
       "      <td>POINT (22.28925 37.93007)</td>\n",
       "      <td>1</td>\n",
       "      <td>1.0</td>\n",
       "      <td>0.0</td>\n",
       "      <td>LE71840342014234ASN00</td>\n",
       "      <td>2014-08-22T09:02:41</td>\n",
       "      <td>NaN</td>\n",
       "      <td>NaN</td>\n",
       "      <td>NaN</td>\n",
       "      <td>NaN</td>\n",
       "    </tr>\n",
       "    <tr>\n",
       "      <th>2014-09-03</th>\n",
       "      <td>LW</td>\n",
       "      <td>EEA_3164-01-0</td>\n",
       "      <td>0.627450</td>\n",
       "      <td>22.28925</td>\n",
       "      <td>37.93007</td>\n",
       "      <td>POINT (22.28925 37.93007)</td>\n",
       "      <td>1</td>\n",
       "      <td>0.0</td>\n",
       "      <td>0.0</td>\n",
       "      <td>LE71830342014243ASN00</td>\n",
       "      <td>2014-08-31T09:00:29</td>\n",
       "      <td>LC81840342014242LGN01</td>\n",
       "      <td>2017-04-19T22:15:38</td>\n",
       "      <td>1.0</td>\n",
       "      <td>1.0</td>\n",
       "    </tr>\n",
       "    <tr>\n",
       "      <th>2014-10-15</th>\n",
       "      <td>LW</td>\n",
       "      <td>EEA_3164-01-0</td>\n",
       "      <td>0.552400</td>\n",
       "      <td>22.28925</td>\n",
       "      <td>37.93007</td>\n",
       "      <td>POINT (22.28925 37.93007)</td>\n",
       "      <td>1</td>\n",
       "      <td>0.0</td>\n",
       "      <td>0.0</td>\n",
       "      <td>NaN</td>\n",
       "      <td>NaN</td>\n",
       "      <td>NaN</td>\n",
       "      <td>NaN</td>\n",
       "      <td>0.0</td>\n",
       "      <td>0.0</td>\n",
       "    </tr>\n",
       "    <tr>\n",
       "      <th>2015-06-10</th>\n",
       "      <td>LW</td>\n",
       "      <td>EEA_3164-01-0</td>\n",
       "      <td>0.508950</td>\n",
       "      <td>22.28925</td>\n",
       "      <td>37.93007</td>\n",
       "      <td>POINT (22.28925 37.93007)</td>\n",
       "      <td>1</td>\n",
       "      <td>0.0</td>\n",
       "      <td>0.0</td>\n",
       "      <td>NaN</td>\n",
       "      <td>NaN</td>\n",
       "      <td>LC81840332015165LGN01</td>\n",
       "      <td>2017-04-07T19:13:25</td>\n",
       "      <td>0.0</td>\n",
       "      <td>2.0</td>\n",
       "    </tr>\n",
       "    <tr>\n",
       "      <th>2015-07-22</th>\n",
       "      <td>LW</td>\n",
       "      <td>EEA_3164-01-0</td>\n",
       "      <td>0.670500</td>\n",
       "      <td>22.28925</td>\n",
       "      <td>37.93007</td>\n",
       "      <td>POINT (22.28925 37.93007)</td>\n",
       "      <td>1</td>\n",
       "      <td>0.0</td>\n",
       "      <td>0.0</td>\n",
       "      <td>LE71840332015205NSG00</td>\n",
       "      <td>2015-07-24T09:01:55</td>\n",
       "      <td>LC81830342015206LGN02</td>\n",
       "      <td>2018-05-27T00:01:03</td>\n",
       "      <td>2.0</td>\n",
       "      <td>1.0</td>\n",
       "    </tr>\n",
       "    <tr>\n",
       "      <th>2015-08-19</th>\n",
       "      <td>LW</td>\n",
       "      <td>EEA_3164-01-0</td>\n",
       "      <td>0.403000</td>\n",
       "      <td>22.28925</td>\n",
       "      <td>37.93007</td>\n",
       "      <td>POINT (22.28925 37.93007)</td>\n",
       "      <td>1</td>\n",
       "      <td>1.0</td>\n",
       "      <td>0.0</td>\n",
       "      <td>LE71830342015230NSG00</td>\n",
       "      <td>2015-08-18T08:55:50</td>\n",
       "      <td>NaN</td>\n",
       "      <td>NaN</td>\n",
       "      <td>NaN</td>\n",
       "      <td>NaN</td>\n",
       "    </tr>\n",
       "    <tr>\n",
       "      <th>2015-09-16</th>\n",
       "      <td>LW</td>\n",
       "      <td>EEA_3164-01-0</td>\n",
       "      <td>0.356033</td>\n",
       "      <td>22.28925</td>\n",
       "      <td>37.93007</td>\n",
       "      <td>POINT (22.28925 37.93007)</td>\n",
       "      <td>1</td>\n",
       "      <td>0.0</td>\n",
       "      <td>0.0</td>\n",
       "      <td>LE71830342015262NSG00</td>\n",
       "      <td>2015-09-19T08:55:57</td>\n",
       "      <td>LC81840332015261LGN01</td>\n",
       "      <td>2017-04-03T22:25:12</td>\n",
       "      <td>1.0</td>\n",
       "      <td>2.0</td>\n",
       "    </tr>\n",
       "  </tbody>\n",
       "</table>\n",
       "</div>"
      ],
      "text/plain": [
       "           wb_cat determinand_id     value       lon       lat  \\\n",
       "dt                                                               \n",
       "2013-06-12     LW  EEA_3164-01-0  0.592500  22.28925  37.93007   \n",
       "2013-07-24     LW  EEA_3164-01-0  0.457000  22.28925  37.93007   \n",
       "2013-08-20     LW  EEA_3164-01-0  0.531400  22.28925  37.93007   \n",
       "2013-09-25     LW  EEA_3164-01-0  1.005275  22.28925  37.93007   \n",
       "2014-05-13     LW  EEA_3164-01-0  0.481700  22.28925  37.93007   \n",
       "2014-06-17     LW  EEA_3164-01-0  0.221200  22.28925  37.93007   \n",
       "2014-07-15     LW  EEA_3164-01-0  0.458600  22.28925  37.93007   \n",
       "2014-08-21     LW  EEA_3164-01-0  0.576300  22.28925  37.93007   \n",
       "2014-09-03     LW  EEA_3164-01-0  0.627450  22.28925  37.93007   \n",
       "2014-10-15     LW  EEA_3164-01-0  0.552400  22.28925  37.93007   \n",
       "2015-06-10     LW  EEA_3164-01-0  0.508950  22.28925  37.93007   \n",
       "2015-07-22     LW  EEA_3164-01-0  0.670500  22.28925  37.93007   \n",
       "2015-08-19     LW  EEA_3164-01-0  0.403000  22.28925  37.93007   \n",
       "2015-09-16     LW  EEA_3164-01-0  0.356033  22.28925  37.93007   \n",
       "\n",
       "                             geometry  checked  l7_scene_n1d10c  \\\n",
       "dt                                                                \n",
       "2013-06-12  POINT (22.28925 37.93007)        1              0.0   \n",
       "2013-07-24  POINT (22.28925 37.93007)        1              0.0   \n",
       "2013-08-20  POINT (22.28925 37.93007)        1              2.0   \n",
       "2013-09-25  POINT (22.28925 37.93007)        1              0.0   \n",
       "2014-05-13  POINT (22.28925 37.93007)        1              0.0   \n",
       "2014-06-17  POINT (22.28925 37.93007)        1              0.0   \n",
       "2014-07-15  POINT (22.28925 37.93007)        1              1.0   \n",
       "2014-08-21  POINT (22.28925 37.93007)        1              1.0   \n",
       "2014-09-03  POINT (22.28925 37.93007)        1              0.0   \n",
       "2014-10-15  POINT (22.28925 37.93007)        1              0.0   \n",
       "2015-06-10  POINT (22.28925 37.93007)        1              0.0   \n",
       "2015-07-22  POINT (22.28925 37.93007)        1              0.0   \n",
       "2015-08-19  POINT (22.28925 37.93007)        1              1.0   \n",
       "2015-09-16  POINT (22.28925 37.93007)        1              0.0   \n",
       "\n",
       "            l8_scene_n1d10c            l7_scene_id          l7_scene_dt  \\\n",
       "dt                                                                        \n",
       "2013-06-12              0.0  LE71830342013160ASN00  2013-06-09T08:51:46   \n",
       "2013-07-24              0.0                    NaN                  NaN   \n",
       "2013-08-20              1.0  LE71840332013231ASN00  2013-08-19T09:00:23   \n",
       "2013-09-25              0.0  LE71830342013272ASN00  2013-09-29T08:58:38   \n",
       "2014-05-13              0.0  LE71830342014131ASN00  2014-05-11T08:59:20   \n",
       "2014-06-17              0.0  LE71840342014170ASN00  2014-06-19T09:07:38   \n",
       "2014-07-15              0.0  LE71830342014195ASN00  2014-07-14T09:00:21   \n",
       "2014-08-21              0.0  LE71840342014234ASN00  2014-08-22T09:02:41   \n",
       "2014-09-03              0.0  LE71830342014243ASN00  2014-08-31T09:00:29   \n",
       "2014-10-15              0.0                    NaN                  NaN   \n",
       "2015-06-10              0.0                    NaN                  NaN   \n",
       "2015-07-22              0.0  LE71840332015205NSG00  2015-07-24T09:01:55   \n",
       "2015-08-19              0.0  LE71830342015230NSG00  2015-08-18T08:55:50   \n",
       "2015-09-16              0.0  LE71830342015262NSG00  2015-09-19T08:55:57   \n",
       "\n",
       "                      l8_scene_id          l8_scene_dt  l7_scene_n4d20c  \\\n",
       "dt                                                                        \n",
       "2013-06-12  LC81840332013159LGN01  2017-05-04T01:42:37              3.0   \n",
       "2013-07-24  LC81840332013207LGN02  2018-05-27T01:15:20              0.0   \n",
       "2013-08-20  LC81830342013232LGN01  2017-05-02T18:32:16              NaN   \n",
       "2013-09-25  LC81840332013271LGN01  2017-05-02T00:08:49              1.0   \n",
       "2014-05-13  LC81840332014130LGN01  2017-04-22T16:39:55              1.0   \n",
       "2014-06-17                    NaN                  NaN              1.0   \n",
       "2014-07-15                    NaN                  NaN              NaN   \n",
       "2014-08-21                    NaN                  NaN              NaN   \n",
       "2014-09-03  LC81840342014242LGN01  2017-04-19T22:15:38              1.0   \n",
       "2014-10-15                    NaN                  NaN              0.0   \n",
       "2015-06-10  LC81840332015165LGN01  2017-04-07T19:13:25              0.0   \n",
       "2015-07-22  LC81830342015206LGN02  2018-05-27T00:01:03              2.0   \n",
       "2015-08-19                    NaN                  NaN              NaN   \n",
       "2015-09-16  LC81840332015261LGN01  2017-04-03T22:25:12              1.0   \n",
       "\n",
       "            l8_scene_n4d20c  \n",
       "dt                           \n",
       "2013-06-12              2.0  \n",
       "2013-07-24              2.0  \n",
       "2013-08-20              NaN  \n",
       "2013-09-25              2.0  \n",
       "2014-05-13              2.0  \n",
       "2014-06-17              0.0  \n",
       "2014-07-15              NaN  \n",
       "2014-08-21              NaN  \n",
       "2014-09-03              1.0  \n",
       "2014-10-15              0.0  \n",
       "2015-06-10              2.0  \n",
       "2015-07-22              1.0  \n",
       "2015-08-19              NaN  \n",
       "2015-09-16              2.0  "
      ]
     },
     "execution_count": 63,
     "metadata": {},
     "output_type": "execute_result"
    }
   ],
   "source": [
    "sites.loc['EL000200030020H500',:]"
   ]
  },
  {
   "cell_type": "code",
   "execution_count": null,
   "metadata": {},
   "outputs": [],
   "source": []
  }
 ],
 "metadata": {
  "kernelspec": {
   "display_name": "Python 3",
   "language": "python",
   "name": "python3"
  },
  "language_info": {
   "codemirror_mode": {
    "name": "ipython",
    "version": 3
   },
   "file_extension": ".py",
   "mimetype": "text/x-python",
   "name": "python",
   "nbconvert_exporter": "python",
   "pygments_lexer": "ipython3",
   "version": "3.8.1"
  }
 },
 "nbformat": 4,
 "nbformat_minor": 2
}
