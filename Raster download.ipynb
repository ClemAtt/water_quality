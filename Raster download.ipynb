{
 "cells": [
  {
   "cell_type": "code",
   "execution_count": 1,
   "metadata": {},
   "outputs": [],
   "source": [
    "import numpy as np\n",
    "import geopandas as gp\n",
    "import pandas as pd\n",
    "from rasterio.plot import show\n",
    "import rasterio as rio\n",
    "import rasterio.features\n",
    "import rasterio.warp\n",
    "import earthpy.spatial as es\n",
    "import tarfile\n",
    "import os\n",
    "from shapely.geometry import Polygon\n",
    "from matplotlib import pyplot\n",
    "import matplotlib.pyplot as plt\n",
    "import json\n",
    "import pickle\n",
    "import pyproj;                                 #pyproj.set_datapath(\"C:/Users/User/Anaconda3/envs/geo/Lib/site-packages/pyproj\")\n",
    "import landsatxplore.api\n",
    "from landsatxplore.earthexplorer import EarthExplorer                                  # https://pypi.org/project/landsatxplore/\n",
    "from collections.abc import Iterable\n",
    "import time\n",
    "import math\n",
    "from ipypb import track\n",
    "import seaborn as sn\n",
    "import urllib\n",
    "import sys\n",
    "\n",
    "os.chdir(r\"C:\\Users\\User\\Documents\\Work\\SDGs and AI\\6.3.2\")"
   ]
  },
  {
   "cell_type": "markdown",
   "metadata": {},
   "source": [
    "### Read in list of sites for download"
   ]
  },
  {
   "cell_type": "code",
   "execution_count": 2,
   "metadata": {},
   "outputs": [],
   "source": [
    "sites = pd.read_pickle(\"sites.p\")"
   ]
  },
  {
   "cell_type": "code",
   "execution_count": 3,
   "metadata": {},
   "outputs": [],
   "source": [
    "### Creat list of scenes to download\n",
    "\n",
    "dll = sites[(sites['l8_scene_id'].notna())|(sites['l7_scene_id'].notna())].drop(['lat','lon'],axis=1)\n",
    "\n",
    "dll['downloaded'] = False"
   ]
  },
  {
   "cell_type": "markdown",
   "metadata": {},
   "source": [
    "---\n",
    "\n",
    "\n",
    "## Using ESPA API\n",
    "\n",
    "<br>"
   ]
  },
  {
   "cell_type": "markdown",
   "metadata": {},
   "source": [
    "### Create list of scenes for download"
   ]
  },
  {
   "cell_type": "code",
   "execution_count": 4,
   "metadata": {},
   "outputs": [
    {
     "data": {
      "text/plain": [
       "<matplotlib.axes._subplots.AxesSubplot at 0xc9af610>"
      ]
     },
     "execution_count": 4,
     "metadata": {},
     "output_type": "execute_result"
    },
    {
     "data": {
      "image/png": "[encoded data removed]",
      "text/plain": [
       "<Figure size 432x288 with 1 Axes>"
      ]
     },
     "metadata": {
      "needs_background": "light"
     },
     "output_type": "display_data"
    }
   ],
   "source": [
    "sites_anal = sites[(sites['l7_scene_id'].notna())|(sites['l8_scene_id'].notna())].reset_index()\n",
    "temp = sites_anal.groupby('sid').count()\n",
    "sn.distplot(temp.dt,kde=False,bins=20,color='g')"
   ]
  },
  {
   "cell_type": "code",
   "execution_count": 5,
   "metadata": {},
   "outputs": [
    {
     "data": {
      "text/html": [
       "<div>\n",
       "<style scoped>\n",
       "    .dataframe tbody tr th:only-of-type {\n",
       "        vertical-align: middle;\n",
       "    }\n",
       "\n",
       "    .dataframe tbody tr th {\n",
       "        vertical-align: top;\n",
       "    }\n",
       "\n",
       "    .dataframe thead th {\n",
       "        text-align: right;\n",
       "    }\n",
       "</style>\n",
       "<table border=\"1\" class=\"dataframe\">\n",
       "  <thead>\n",
       "    <tr style=\"text-align: right;\">\n",
       "      <th></th>\n",
       "      <th>dt</th>\n",
       "      <th>wb_cat</th>\n",
       "      <th>determinand_id</th>\n",
       "      <th>value</th>\n",
       "      <th>lon</th>\n",
       "      <th>lat</th>\n",
       "      <th>geometry</th>\n",
       "      <th>checked</th>\n",
       "      <th>l7_scene_n1d10c</th>\n",
       "      <th>l8_scene_n1d10c</th>\n",
       "      <th>l7_scene_id</th>\n",
       "      <th>l7_scene_dt</th>\n",
       "      <th>l8_scene_id</th>\n",
       "      <th>l8_scene_dt</th>\n",
       "      <th>l7_scene_n4d20c</th>\n",
       "      <th>l8_scene_n4d20c</th>\n",
       "    </tr>\n",
       "    <tr>\n",
       "      <th>sid</th>\n",
       "      <th></th>\n",
       "      <th></th>\n",
       "      <th></th>\n",
       "      <th></th>\n",
       "      <th></th>\n",
       "      <th></th>\n",
       "      <th></th>\n",
       "      <th></th>\n",
       "      <th></th>\n",
       "      <th></th>\n",
       "      <th></th>\n",
       "      <th></th>\n",
       "      <th></th>\n",
       "      <th></th>\n",
       "      <th></th>\n",
       "      <th></th>\n",
       "    </tr>\n",
       "  </thead>\n",
       "  <tbody>\n",
       "    <tr>\n",
       "      <th>EL000200030020H500</th>\n",
       "      <td>13</td>\n",
       "      <td>13</td>\n",
       "      <td>13</td>\n",
       "      <td>13</td>\n",
       "      <td>13</td>\n",
       "      <td>13</td>\n",
       "      <td>13</td>\n",
       "      <td>13</td>\n",
       "      <td>13</td>\n",
       "      <td>13</td>\n",
       "      <td>11</td>\n",
       "      <td>11</td>\n",
       "      <td>9</td>\n",
       "      <td>9</td>\n",
       "      <td>9</td>\n",
       "      <td>9</td>\n",
       "    </tr>\n",
       "    <tr>\n",
       "      <th>EL000400030058H500</th>\n",
       "      <td>10</td>\n",
       "      <td>10</td>\n",
       "      <td>10</td>\n",
       "      <td>10</td>\n",
       "      <td>10</td>\n",
       "      <td>10</td>\n",
       "      <td>10</td>\n",
       "      <td>10</td>\n",
       "      <td>10</td>\n",
       "      <td>10</td>\n",
       "      <td>5</td>\n",
       "      <td>5</td>\n",
       "      <td>8</td>\n",
       "      <td>8</td>\n",
       "      <td>7</td>\n",
       "      <td>7</td>\n",
       "    </tr>\n",
       "    <tr>\n",
       "      <th>EL000400030074N500</th>\n",
       "      <td>10</td>\n",
       "      <td>10</td>\n",
       "      <td>10</td>\n",
       "      <td>10</td>\n",
       "      <td>10</td>\n",
       "      <td>10</td>\n",
       "      <td>10</td>\n",
       "      <td>10</td>\n",
       "      <td>10</td>\n",
       "      <td>10</td>\n",
       "      <td>4</td>\n",
       "      <td>4</td>\n",
       "      <td>9</td>\n",
       "      <td>9</td>\n",
       "      <td>7</td>\n",
       "      <td>7</td>\n",
       "    </tr>\n",
       "    <tr>\n",
       "      <th>EL000400030090N500</th>\n",
       "      <td>10</td>\n",
       "      <td>10</td>\n",
       "      <td>10</td>\n",
       "      <td>10</td>\n",
       "      <td>10</td>\n",
       "      <td>10</td>\n",
       "      <td>10</td>\n",
       "      <td>10</td>\n",
       "      <td>10</td>\n",
       "      <td>10</td>\n",
       "      <td>6</td>\n",
       "      <td>6</td>\n",
       "      <td>7</td>\n",
       "      <td>7</td>\n",
       "      <td>7</td>\n",
       "      <td>7</td>\n",
       "    </tr>\n",
       "    <tr>\n",
       "      <th>EL000500030040H500</th>\n",
       "      <td>10</td>\n",
       "      <td>10</td>\n",
       "      <td>10</td>\n",
       "      <td>10</td>\n",
       "      <td>10</td>\n",
       "      <td>10</td>\n",
       "      <td>10</td>\n",
       "      <td>10</td>\n",
       "      <td>10</td>\n",
       "      <td>10</td>\n",
       "      <td>5</td>\n",
       "      <td>5</td>\n",
       "      <td>6</td>\n",
       "      <td>6</td>\n",
       "      <td>8</td>\n",
       "      <td>8</td>\n",
       "    </tr>\n",
       "  </tbody>\n",
       "</table>\n",
       "</div>"
      ],
      "text/plain": [
       "                    dt  wb_cat  determinand_id  value  lon  lat  geometry  \\\n",
       "sid                                                                         \n",
       "EL000200030020H500  13      13              13     13   13   13        13   \n",
       "EL000400030058H500  10      10              10     10   10   10        10   \n",
       "EL000400030074N500  10      10              10     10   10   10        10   \n",
       "EL000400030090N500  10      10              10     10   10   10        10   \n",
       "EL000500030040H500  10      10              10     10   10   10        10   \n",
       "\n",
       "                    checked  l7_scene_n1d10c  l8_scene_n1d10c  l7_scene_id  \\\n",
       "sid                                                                          \n",
       "EL000200030020H500       13               13               13           11   \n",
       "EL000400030058H500       10               10               10            5   \n",
       "EL000400030074N500       10               10               10            4   \n",
       "EL000400030090N500       10               10               10            6   \n",
       "EL000500030040H500       10               10               10            5   \n",
       "\n",
       "                    l7_scene_dt  l8_scene_id  l8_scene_dt  l7_scene_n4d20c  \\\n",
       "sid                                                                          \n",
       "EL000200030020H500           11            9            9                9   \n",
       "EL000400030058H500            5            8            8                7   \n",
       "EL000400030074N500            4            9            9                7   \n",
       "EL000400030090N500            6            7            7                7   \n",
       "EL000500030040H500            5            6            6                8   \n",
       "\n",
       "                    l8_scene_n4d20c  \n",
       "sid                                  \n",
       "EL000200030020H500                9  \n",
       "EL000400030058H500                7  \n",
       "EL000400030074N500                7  \n",
       "EL000400030090N500                7  \n",
       "EL000500030040H500                8  "
      ]
     },
     "execution_count": 5,
     "metadata": {},
     "output_type": "execute_result"
    }
   ],
   "source": [
    "temp[temp.dt>9].head()"
   ]
  },
  {
   "cell_type": "code",
   "execution_count": 6,
   "metadata": {},
   "outputs": [
    {
     "data": {
      "text/html": [
       "<div><span class=\"Text-label\" style=\"display:inline-block; overflow:hidden; white-space:nowrap; text-overflow:ellipsis; min-width:0; max-width:15ex; vertical-align:middle; text-align:right\"></span>\n",
       "<progress style=\"width:60ex\" max=\"21196\" value=\"5234\" class=\"Progress-main\"/></progress>\n",
       "<span class=\"Progress-label\"><strong>25%</strong></span>\n",
       "<span class=\"Iteration-label\">4642/21196</span>\n",
       "<span class=\"Time-label\">[00:25<00:00, 0.00s/it]</span></div>"
      ],
      "text/plain": [
       "\u001b[A\u001b[2K\r",
       " [██████████████##############################################] 5234/21196 [00:25<00:00, 0.00s/it]"
      ]
     },
     "metadata": {},
     "output_type": "display_data"
    }
   ],
   "source": [
    "sites_anal = sites_anal.set_index(['sid','dt'])\n",
    "\n",
    "ziplist = zip(sites_anal.index.get_level_values(0),sites_anal.index.get_level_values(1),\n",
    "              sites_anal.l7_scene_id,sites_anal.l8_scene_id)\n",
    "\n",
    "for sid,dt,l7_scene_id,l8_scene_id in track(ziplist,len(sites)):\n",
    "    \n",
    "    date = dt.strftime(\"%Y-%m-%d\")\n",
    "    \n",
    "    if (isinstance(l7_scene_id,str)==True):\n",
    "        sc_meta7 = pickle.load(open('./Landsat/Scenes/scene_'+str(l7_scene_id)+\".p\",\"rb\"))\n",
    "        \n",
    "        sites_anal.loc[(sid,date),'l7_display_id'] = sc_meta7[0]['displayId']\n",
    "        sites_anal.loc[(sid,date),'l7_acquisition_dt'] = sc_meta7[0]['acquisitionDate']\n",
    "        \n",
    "        del(sc_meta7)\n",
    "\n",
    "    elif (isinstance(l8_scene_id,str)==True):\n",
    "        sc_meta8 = pickle.load(open('./Landsat/Scenes/scene_'+str(l8_scene_id)+\".p\",\"rb\"))\n",
    "        \n",
    "        sites_anal.loc[(sid,date),'l8_display_id'] = sc_meta8[0]['displayId']\n",
    "        sites_anal.loc[(sid,date),'l8_acquisition_dt'] = sc_meta8[0]['acquisitionDate']\n",
    "        \n",
    "        del(sc_meta8)"
   ]
  },
  {
   "cell_type": "markdown",
   "metadata": {},
   "source": [
    "### Create scene list for example site"
   ]
  },
  {
   "cell_type": "code",
   "execution_count": 7,
   "metadata": {},
   "outputs": [],
   "source": [
    "dll = list(sites_anal.loc['EL000200030020H500',:].l8_display_id.unique())\n",
    "dll2 = list(sites_anal.loc['EL000200030020H500',:].l7_display_id.unique())"
   ]
  },
  {
   "cell_type": "code",
   "execution_count": 8,
   "metadata": {},
   "outputs": [],
   "source": [
    "[dll.append(i) for i in dll2 ]\n",
    "\n",
    "dll = [x for x in dll if str(x) != 'nan']"
   ]
  },
  {
   "cell_type": "markdown",
   "metadata": {},
   "source": [
    "### Setup API call"
   ]
  },
  {
   "cell_type": "code",
   "execution_count": 9,
   "metadata": {},
   "outputs": [],
   "source": [
    "import requests\n",
    "import json\n",
    "import getpass\n",
    "\n",
    "username = 'clement.attwood.18@ucl.ac.uk'\n",
    "password = 'm9.iETxKMtZ6B,q'\n",
    "\n",
    "host = 'https://espa.cr.usgs.gov/api/v1/'"
   ]
  },
  {
   "cell_type": "markdown",
   "metadata": {},
   "source": [
    "## espa_api: A Function\n",
    "First and foremost, define a simple function for interacting with the API. \n",
    "\n",
    "The key things to watch for:\n",
    "\n",
    "* Always scrub for a `\"messages\"` field returned in the response, it is only informational about a request\n",
    "  * **Errors** (`\"errors\"`): Brief exlaination about why a request failed\n",
    "  * **Warnings** (`\"warnings\"`): Cautions about a successful response\n",
    "* Always make sure the requested HTTP `status_code` returned is valid \n",
    "  * **GET**: `200 OK`: The requested resource was successfully fetched (result can still be empty)\n",
    "  * **POST**: `201 Created`: The requested resource was created\n",
    "  * **PUT**: `202 Accepted`: The requested resource was updated"
   ]
  },
  {
   "cell_type": "code",
   "execution_count": 10,
   "metadata": {},
   "outputs": [],
   "source": [
    "def espa_api(endpoint, verb='get', body=None, uauth=None):\n",
    "    \"\"\" Suggested simple way to interact with the ESPA JSON REST API \"\"\"\n",
    "    auth_tup = uauth if uauth else (username, password)\n",
    "    response = getattr(requests, verb)(host + endpoint, auth=auth_tup, json=body)\n",
    "    print('{} {}'.format(response.status_code, response.reason))\n",
    "    data = response.json()\n",
    "    if isinstance(data, dict):\n",
    "        messages = data.pop(\"messages\", None)  \n",
    "        if messages:\n",
    "            print(json.dumps(messages, indent=4))\n",
    "    try:\n",
    "        response.raise_for_status()\n",
    "    except Exception as e:\n",
    "        print(e)\n",
    "        return None\n",
    "    else:\n",
    "        return data"
   ]
  },
  {
   "cell_type": "code",
   "execution_count": 11,
   "metadata": {},
   "outputs": [
    {
     "name": "stdout",
     "output_type": "stream",
     "text": [
      "GET /api/v1/user\n",
      "200 OK\n",
      "{\"email\": \"clement.attwood.18@ucl.ac.uk\", \"first_name\": \"Clement\", \"last_name\": \"Attwood\", \"roles\": [\"active\"], \"username\": \"clement.attwood.18@ucl.ac.uk\"}\n"
     ]
    }
   ],
   "source": [
    "### Check user status\n",
    "\n",
    "print('GET /api/v1/user')\n",
    "resp = espa_api('user')\n",
    "print(json.dumps(resp))"
   ]
  },
  {
   "cell_type": "markdown",
   "metadata": {},
   "source": [
    "### Check product availability for scene"
   ]
  },
  {
   "cell_type": "code",
   "execution_count": 14,
   "metadata": {},
   "outputs": [
    {
     "name": "stdout",
     "output_type": "stream",
     "text": [
      "200 OK\n",
      "['source_metadata', 'l1', 'toa', 'bt', 'sr', 'sr_ndvi', 'sr_evi', 'sr_savi', 'sr_msavi', 'sr_ndmi', 'sr_nbr', 'sr_nbr2', 'stats', 'pixel_qa']\n",
      "200 OK\n",
      "['source_metadata', 'l1', 'toa', 'bt', 'sr', 'sr_ndvi', 'sr_evi', 'sr_savi', 'sr_msavi', 'sr_ndmi', 'sr_nbr', 'sr_nbr2', 'stats', 'pixel_qa']\n",
      "200 OK\n",
      "['source_metadata', 'l1', 'toa', 'bt', 'sr', 'sr_ndvi', 'sr_evi', 'sr_savi', 'sr_msavi', 'sr_ndmi', 'sr_nbr', 'sr_nbr2', 'stats', 'pixel_qa']\n",
      "200 OK\n",
      "['source_metadata', 'l1', 'toa', 'bt', 'sr', 'sr_ndvi', 'sr_evi', 'sr_savi', 'sr_msavi', 'sr_ndmi', 'sr_nbr', 'sr_nbr2', 'stats', 'pixel_qa']\n",
      "200 OK\n",
      "['source_metadata', 'l1', 'toa', 'bt', 'sr', 'sr_ndvi', 'sr_evi', 'sr_savi', 'sr_msavi', 'sr_ndmi', 'sr_nbr', 'sr_nbr2', 'stats', 'pixel_qa']\n",
      "200 OK\n",
      "['source_metadata', 'l1', 'toa', 'bt', 'sr', 'sr_ndvi', 'sr_evi', 'sr_savi', 'sr_msavi', 'sr_ndmi', 'sr_nbr', 'sr_nbr2', 'stats', 'pixel_qa']\n",
      "200 OK\n",
      "['source_metadata', 'l1', 'toa', 'bt', 'sr', 'sr_ndvi', 'sr_evi', 'sr_savi', 'sr_msavi', 'sr_ndmi', 'sr_nbr', 'sr_nbr2', 'stats', 'pixel_qa']\n",
      "200 OK\n",
      "['source_metadata', 'l1', 'toa', 'bt', 'sr', 'sr_ndvi', 'sr_evi', 'sr_savi', 'sr_msavi', 'sr_ndmi', 'sr_nbr', 'sr_nbr2', 'stats', 'pixel_qa']\n",
      "200 OK\n",
      "['source_metadata', 'l1', 'toa', 'bt', 'sr', 'sr_ndvi', 'sr_evi', 'sr_savi', 'sr_msavi', 'sr_ndmi', 'sr_nbr', 'sr_nbr2', 'stats', 'pixel_qa']\n",
      "200 OK\n",
      "['source_metadata', 'l1', 'toa', 'bt', 'sr', 'sr_ndvi', 'sr_evi', 'sr_savi', 'sr_msavi', 'sr_ndmi', 'sr_nbr', 'sr_nbr2', 'stats', 'pixel_qa']\n",
      "200 OK\n",
      "['source_metadata', 'l1', 'toa', 'bt', 'sr', 'sr_ndvi', 'sr_evi', 'sr_savi', 'sr_msavi', 'sr_ndmi', 'sr_nbr', 'sr_nbr2', 'stats', 'pixel_qa']\n",
      "200 OK\n",
      "['source_metadata', 'l1', 'toa', 'bt', 'sr', 'sr_ndvi', 'sr_evi', 'sr_savi', 'sr_msavi', 'sr_ndmi', 'sr_nbr', 'sr_nbr2', 'stats', 'pixel_qa']\n",
      "200 OK\n",
      "['source_metadata', 'l1', 'toa', 'bt', 'sr', 'sr_ndvi', 'sr_evi', 'sr_savi', 'sr_msavi', 'sr_ndmi', 'sr_nbr', 'sr_nbr2', 'stats', 'pixel_qa']\n"
     ]
    }
   ],
   "source": [
    "for scene in dll:\n",
    "    avail_list = {'inputs': [scene,\n",
    "                             'bad_scene_id'  # <-- Note: Unrecognized ID\n",
    "                            ]\n",
    "                 }\n",
    "    resp = espa_api('available-products', body=avail_list)\n",
    "    \n",
    "    ### print list of available products for each scene\n",
    "    products = []\n",
    "    \n",
    "    if 'etm7_collection' in resp.keys():  \n",
    "        products += resp['etm7_collection']['products']    \n",
    "\n",
    "    else:\n",
    "        products += resp['olitirs8_collection']['products']\n",
    "\n",
    "\n",
    "    sr = sum(['sr' in i for i in products])>0\n",
    "    f'Surface reflectance available for scene: {sr}'\n",
    "\n",
    "    print(products)"
   ]
  },
  {
   "cell_type": "markdown",
   "metadata": {},
   "source": [
    "### Return list of availble projections"
   ]
  },
  {
   "cell_type": "code",
   "execution_count": 15,
   "metadata": {
    "collapsed": true
   },
   "outputs": [
    {
     "name": "stdout",
     "output_type": "stream",
     "text": [
      "200 OK\n"
     ]
    },
    {
     "data": {
      "text/plain": [
       "{'aea': {'type': 'object',\n",
       "  'title': 'Albers Equal Area',\n",
       "  'pixel_units': ['meters', 'dd'],\n",
       "  'display_rank': 0,\n",
       "  'properties': {'standard_parallel_1': {'type': 'number',\n",
       "    'title': '1st Standard Parallel',\n",
       "    'display_rank': 2,\n",
       "    'required': True,\n",
       "    'minimum': -90,\n",
       "    'maximum': 90},\n",
       "   'standard_parallel_2': {'type': 'number',\n",
       "    'title': '2nd Standard Parallel',\n",
       "    'display_rank': 3,\n",
       "    'required': True,\n",
       "    'minimum': -90,\n",
       "    'maximum': 90},\n",
       "   'central_meridian': {'type': 'number',\n",
       "    'title': 'Central Meridian',\n",
       "    'display_rank': 1,\n",
       "    'required': True,\n",
       "    'minimum': -180,\n",
       "    'maximum': 180},\n",
       "   'latitude_of_origin': {'type': 'number',\n",
       "    'title': 'Latitude of Origin',\n",
       "    'display_rank': 0,\n",
       "    'required': True,\n",
       "    'minimum': -90,\n",
       "    'maximum': 90},\n",
       "   'false_easting': {'type': 'number',\n",
       "    'title': 'False Easting (meters)',\n",
       "    'display_rank': 4,\n",
       "    'required': True},\n",
       "   'false_northing': {'type': 'number',\n",
       "    'title': 'False Northing (meters)',\n",
       "    'display_rank': 5,\n",
       "    'required': True},\n",
       "   'datum': {'type': 'string',\n",
       "    'title': 'Datum',\n",
       "    'required': True,\n",
       "    'display_rank': 6,\n",
       "    'enum': {'wgs84': 'World Geodetic System 1984',\n",
       "     'nad27': 'North American Datum 1927',\n",
       "     'nad83': 'North American Datum 1983'}}}},\n",
       " 'utm': {'type': 'object',\n",
       "  'pixel_units': ['meters', 'dd'],\n",
       "  'display_rank': 1,\n",
       "  'title': 'Universal Transverse Mercator',\n",
       "  'properties': {'zone': {'type': 'integer',\n",
       "    'title': 'UTM Grid Zone Number',\n",
       "    'display_rank': 0,\n",
       "    'required': True,\n",
       "    'minimum': 1,\n",
       "    'maximum': 60},\n",
       "   'zone_ns': {'type': 'string',\n",
       "    'title': 'UTM Hemisphere',\n",
       "    'display_rank': 1,\n",
       "    'required': True,\n",
       "    'enum': {'north': 'North', 'south': 'South'}}}},\n",
       " 'lonlat': {'type': 'null',\n",
       "  'pixel_units': ['dd'],\n",
       "  'title': 'Geographic',\n",
       "  'display_rank': 2},\n",
       " 'sinu': {'type': 'object',\n",
       "  'title': 'Sinusoidal',\n",
       "  'pixel_units': ['meters', 'dd'],\n",
       "  'display_rank': 3,\n",
       "  'properties': {'central_meridian': {'type': 'number',\n",
       "    'title': 'Central Meridian',\n",
       "    'display_rank': 0,\n",
       "    'required': True,\n",
       "    'minimum': -180,\n",
       "    'maximum': 180},\n",
       "   'false_easting': {'type': 'number',\n",
       "    'title': 'False Easting (meters)',\n",
       "    'display_rank': 1,\n",
       "    'required': True},\n",
       "   'false_northing': {'type': 'number',\n",
       "    'title': 'False Northing (meters)',\n",
       "    'display_rank': 2,\n",
       "    'required': True}}},\n",
       " 'ps': {'type': 'object',\n",
       "  'title': 'Polar Stereographic',\n",
       "  'pixel_units': ['meters', 'dd'],\n",
       "  'display_rank': 4,\n",
       "  'properties': {'longitudinal_pole': {'type': 'number',\n",
       "    'title': 'Longitudinal Pole',\n",
       "    'display_rank': 0,\n",
       "    'required': True,\n",
       "    'minimum': -180,\n",
       "    'maximum': 180},\n",
       "   'latitude_true_scale': {'type': 'number',\n",
       "    'title': 'Latitude True Scale',\n",
       "    'display_rank': 1,\n",
       "    'required': True,\n",
       "    'abs_rng': [60, 90]},\n",
       "   'false_easting': {'type': 'number',\n",
       "    'title': 'False Easting (meters)',\n",
       "    'display_rank': 2,\n",
       "    'required': True},\n",
       "   'false_northing': {'type': 'number',\n",
       "    'title': 'False Northing (meters)',\n",
       "    'display_rank': 3,\n",
       "    'required': True}}}}"
      ]
     },
     "execution_count": 15,
     "metadata": {},
     "output_type": "execute_result"
    }
   ],
   "source": [
    "resp = espa_api('projections', body=avail_list)\n",
    "resp"
   ]
  },
  {
   "cell_type": "markdown",
   "metadata": {},
   "source": [
    "### Create an order"
   ]
  },
  {
   "cell_type": "code",
   "execution_count": 26,
   "metadata": {},
   "outputs": [
    {
     "name": "stdout",
     "output_type": "stream",
     "text": [
      "200 OK\n",
      "[\n",
      "  \"LE07_L1TP_183034_20130609_20161124_01_T1\",\n",
      "  \"LE07_L1TP_184033_20130819_20161122_01_T1\",\n",
      "  \"LE07_L1TP_183034_20130929_20161120_01_T1\",\n",
      "  \"LE07_L1TP_183034_20140511_20161115_01_T1\",\n",
      "  \"LE07_L1TP_184034_20140619_20161113_01_T1\",\n",
      "  \"LE07_L1TP_183034_20140714_20161112_01_T1\",\n",
      "  \"LE07_L1TP_184034_20140822_20161113_01_T1\",\n",
      "  \"LE07_L1TP_183034_20140831_20161112_01_T1\",\n",
      "  \"LE07_L1TP_184033_20150724_20161023_01_T1\",\n",
      "  \"LE07_L1TP_183034_20150818_20161021_01_T1\",\n",
      "  \"LE07_L1TP_183034_20150919_20161019_01_T1\"\n",
      "]\n",
      "[\n",
      "  \"LC08_L1TP_184033_20130726_20180527_01_T1\",\n",
      "  \"LC08_L1TP_184033_20150614_20170408_01_T1\"\n",
      "]\n"
     ]
    }
   ],
   "source": [
    "# Differing products across the sensors\n",
    "l_prods = ['sr']\n",
    "\n",
    "# # Standard Albers CONUS\n",
    "projection = 'lonlat'\n",
    "\n",
    "# {'standard_parallel_1': 29.5,\n",
    "#                       'standard_parallel_2': 45.5,\n",
    "#                       'central_meridian': -96.0,\n",
    "#                       'latitude_of_origin': 23.0,\n",
    "#                       'false_easting': 0,\n",
    "#                       'false_northing': 0,\n",
    "#                       'datum': 'nad83'}\n",
    "\n",
    "# Let available-products place the acquisitions under their respective sensors\n",
    "ls = dll\n",
    "\n",
    "order = espa_api('available-products', body=dict(inputs=ls))\n",
    "\n",
    "### print inputs\n",
    "if 'etm7_collection' in order.keys():  \n",
    "    print(json.dumps(order['etm7_collection']['inputs'],indent=2))   \n",
    "\n",
    "if 'olitirs8_collection' in order.keys():\n",
    "    print(json.dumps(order['olitirs8_collection']['inputs'],indent=2))"
   ]
  },
  {
   "cell_type": "code",
   "execution_count": 27,
   "metadata": {},
   "outputs": [
    {
     "name": "stdout",
     "output_type": "stream",
     "text": [
      "{\n",
      "    \"olitirs8_collection\": {\n",
      "        \"products\": [\n",
      "            \"sr\"\n",
      "        ],\n",
      "        \"inputs\": [\n",
      "            \"LC08_L1TP_184033_20130726_20180527_01_T1\",\n",
      "            \"LC08_L1TP_184033_20150614_20170408_01_T1\"\n",
      "        ]\n",
      "    },\n",
      "    \"etm7_collection\": {\n",
      "        \"products\": [\n",
      "            \"sr\"\n",
      "        ],\n",
      "        \"inputs\": [\n",
      "            \"LE07_L1TP_183034_20130609_20161124_01_T1\",\n",
      "            \"LE07_L1TP_184033_20130819_20161122_01_T1\",\n",
      "            \"LE07_L1TP_183034_20130929_20161120_01_T1\",\n",
      "            \"LE07_L1TP_183034_20140511_20161115_01_T1\",\n",
      "            \"LE07_L1TP_184034_20140619_20161113_01_T1\",\n",
      "            \"LE07_L1TP_183034_20140714_20161112_01_T1\",\n",
      "            \"LE07_L1TP_184034_20140822_20161113_01_T1\",\n",
      "            \"LE07_L1TP_183034_20140831_20161112_01_T1\",\n",
      "            \"LE07_L1TP_184033_20150724_20161023_01_T1\",\n",
      "            \"LE07_L1TP_183034_20150818_20161021_01_T1\",\n",
      "            \"LE07_L1TP_183034_20150919_20161019_01_T1\"\n",
      "        ]\n",
      "    },\n",
      "    \"format\": \"gtiff\",\n",
      "    \"resampling_method\": \"cc\",\n",
      "    \"note\": \"API Demo Jupyter!!\"\n",
      "}\n"
     ]
    }
   ],
   "source": [
    "# Replace the available products that was returned with what we want\n",
    "for sensor in order.keys():\n",
    "    if isinstance(order[sensor], dict) and order[sensor].get('inputs'):\n",
    "        if set(ls) & set(order[sensor]['inputs']):\n",
    "            order[sensor]['products'] = l_prods\n",
    "\n",
    "# Add in the rest of the order information\n",
    "#order['projection'] = projection\n",
    "order['format'] = 'gtiff'\n",
    "order['resampling_method'] = 'cc'\n",
    "order['note'] = 'API Demo Jupyter!!'\n",
    "\n",
    "# Notice how it has changed from the original call available-products\n",
    "print(json.dumps(order, indent=4))"
   ]
  },
  {
   "cell_type": "markdown",
   "metadata": {},
   "source": [
    "### Place the order"
   ]
  },
  {
   "cell_type": "code",
   "execution_count": 28,
   "metadata": {},
   "outputs": [
    {
     "name": "stdout",
     "output_type": "stream",
     "text": [
      "201 CREATED\n",
      "{\n",
      "    \"orderid\": \"espa-clement.attwood.18@ucl.ac.uk-03022020-080834-340\",\n",
      "    \"status\": \"ordered\"\n",
      "}\n"
     ]
    }
   ],
   "source": [
    "resp = espa_api('order', verb='post', body=order)\n",
    "print(json.dumps(resp, indent=4))\n",
    "\n",
    "### Write pickle for use later\n",
    "pickle.dump(resp,open('./Landsat/Downloaded/Orders/'+str(time.time())+'.p','wb'))"
   ]
  },
  {
   "cell_type": "markdown",
   "metadata": {},
   "source": [
    "### Check order status, retrieve download links and extract to file"
   ]
  },
  {
   "cell_type": "markdown",
   "metadata": {},
   "source": [
    "#### Simple call"
   ]
  },
  {
   "cell_type": "code",
   "execution_count": 31,
   "metadata": {},
   "outputs": [
    {
     "name": "stdout",
     "output_type": "stream",
     "text": [
      "200 OK\n"
     ]
    },
    {
     "data": {
      "text/plain": [
       "'complete'"
      ]
     },
     "execution_count": 31,
     "metadata": {},
     "output_type": "execute_result"
    }
   ],
   "source": [
    "### order status for current order\n",
    "#orderid = 'espa-clement.attwood.18@ucl.ac.uk-03012020-142322-644'\n",
    "orderid = resp[\"orderid\"]\n",
    "\n",
    "### check status once\n",
    "resp = espa_api('order-status/{}'.format(orderid))\n",
    "resp['status']"
   ]
  },
  {
   "cell_type": "markdown",
   "metadata": {},
   "source": [
    "#### Dowload in for loop"
   ]
  },
  {
   "cell_type": "code",
   "execution_count": null,
   "metadata": {
    "scrolled": true
   },
   "outputs": [
    {
     "name": "stdout",
     "output_type": "stream",
     "text": [
      "200 OK\n",
      "Ordered and checking status...elapsed time 0.01Order complete\n",
      "200 OK\n"
     ]
    },
    {
     "data": {
      "text/html": [
       "<div><span class=\"Text-label\" style=\"display:inline-block; overflow:hidden; white-space:nowrap; text-overflow:ellipsis; min-width:0; max-width:15ex; vertical-align:middle; text-align:right\"></span>\n",
       "<progress style=\"width:60ex\" max=\"13\" value=\"0\" class=\"Progress-main\"/></progress>\n",
       "<span class=\"Progress-label\"><strong>0%</strong></span>\n",
       "<span class=\"Iteration-label\">0/13</span>\n",
       "<span class=\"Time-label\">[0<0, 0.00s/it]</span></div>"
      ],
      "text/plain": [
       "\u001b[2K\r",
       " [############################################################] 0/13 [0<0, 0.00s/it]"
      ]
     },
     "metadata": {},
     "output_type": "display_data"
    }
   ],
   "source": [
    "start_time = time.time()\n",
    "path = './Landsat/Downloaded/'\n",
    "\n",
    "## response for latest order\n",
    "resp = pickle.load(open(path+'Orders/1583158115.1115713.p',\"rb\"))\n",
    "\n",
    "while resp['status']=='ordered':\n",
    "\n",
    "    resp = espa_api('order-status/{}'.format(orderid))\n",
    "\n",
    "    elapsed_time = round((time.time() - start_time)/60,2)\n",
    "\n",
    "    print(f'Ordered and checking status...elapsed time {elapsed_time}', end=\"\")\n",
    "\n",
    "    time.sleep(30)\n",
    "\n",
    "    if resp['status']=='complete':\n",
    "        \n",
    "        break \n",
    "        \n",
    "print('Order complete')\n",
    "\n",
    "### get order details\n",
    "dl = espa_api('item-status/{0}'.format(orderid), body={'status': 'complete'})\n",
    "\n",
    "### create list of links\n",
    "dllink = []\n",
    "dllink += [ item.get('product_dload_url') for item in dl[orderid] ]\n",
    "\n",
    "### Open remote tar and extract scenes from list of download links\n",
    "\n",
    "for link in track(dllink):\n",
    "\n",
    "    ## open link and tar\n",
    "    with urllib.request.urlopen(link) as tardl:\n",
    "        tar = tarfile.open(fileobj=tardl, mode=\"r:gz\")\n",
    "    \n",
    "        ## create list of downloaded files and check contents of tar against it\n",
    "        dl_files = os.listdir(path)                          # list of files in download directory\n",
    "        remote_list = [ i.name for i in tar.getmembers() ]   # list of remote files\n",
    "\n",
    "        ## if not already downloaded then download\n",
    "        if sum([ i in dl_files for i in remote_list ])<1:\n",
    "    \n",
    "            try:\n",
    "                tar.extractall(path=path)\n",
    "            except:\n",
    "                print(\"File: %r could not be extracted.\" % tardl)\n",
    "                tardl_exceptions = []\n",
    "                tardltardl_exceptions += tardl\n",
    "    \n",
    "    tar.close()\n"
   ]
  },
  {
   "cell_type": "code",
   "execution_count": null,
   "metadata": {},
   "outputs": [],
   "source": [
    "print(tar.name)"
   ]
  },
  {
   "cell_type": "code",
   "execution_count": null,
   "metadata": {},
   "outputs": [],
   "source": []
  }
 ],
 "metadata": {
  "kernelspec": {
   "display_name": "Python 3",
   "language": "python",
   "name": "python3"
  },
  "language_info": {
   "codemirror_mode": {
    "name": "ipython",
    "version": 3
   },
   "file_extension": ".py",
   "mimetype": "text/x-python",
   "name": "python",
   "nbconvert_exporter": "python",
   "pygments_lexer": "ipython3",
   "version": "3.8.1"
  }
 },
 "nbformat": 4,
 "nbformat_minor": 2
}
